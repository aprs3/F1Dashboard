{
 "cells": [
  {
   "cell_type": "code",
   "execution_count": 1,
   "metadata": {},
   "outputs": [],
   "source": [
    "import fastf1\n",
    "from utils import *\n",
    "from plots import *"
   ]
  },
  {
   "cell_type": "markdown",
   "metadata": {},
   "source": [
    "# Introduction\n",
    "The aim of this project was to investigate and possibly improve some of the existing visualisation techniques used in F1. The raw data was retrieved using the FastF1 Python package, although the data was not always accurate, this was sufficient for this project which is more focused on visualisation than accuracy. Pandas dataframes, which are compatible with FastF1 formats, were used to manage the data. \n",
    "\n",
    "Plotly was used for the visualisation, in particular plotly.graph_objects, which offers a fair amount of customisation that plotly express would not, as it is suitable for very standard plots with a few lines of code. The mindset for creating the plots took into account the concept explained during the course and the end users who will be using them (ordinary people interested in the sport, engineers, drivers).\n",
    "\n",
    "Finally, Dash was used to build an interactive app with all the plots, using the data from the API in real time. Unfortunately, this has the disadvantage that the application becomes very slow after some use because the API has a timeout after a certain number of requests. \n",
    "\n",
    "To make this report easy to read, I will describe each plot, show the shape of the data behind it, and finally show the plot with the selected data."
   ]
  },
  {
   "cell_type": "markdown",
   "metadata": {},
   "source": [
    "## 1 - Choropleth Maps: Races per Country\n",
    "This and the next plot where the first plots were made to take confidence with plotly, the choropleth map was used to show the nations that hosted the races from 1980 to 2024.\n",
    "The colour was adjusted from white for the least present nations to blue for the nation that hosted more races. Hovering over each nation shows the exact number of races and the name of the nation.\n",
    "\n",
    "The data has been retrieved from the API and stored in a csv file. \n",
    "\n",
    "The visualisation has been designed for the general public who do not need much knowledge to understand it."
   ]
  },
  {
   "cell_type": "code",
   "execution_count": 2,
   "metadata": {},
   "outputs": [
    {
     "data": {
      "text/html": [
       "<div>\n",
       "<style scoped>\n",
       "    .dataframe tbody tr th:only-of-type {\n",
       "        vertical-align: middle;\n",
       "    }\n",
       "\n",
       "    .dataframe tbody tr th {\n",
       "        vertical-align: top;\n",
       "    }\n",
       "\n",
       "    .dataframe thead th {\n",
       "        text-align: right;\n",
       "    }\n",
       "</style>\n",
       "<table border=\"1\" class=\"dataframe\">\n",
       "  <thead>\n",
       "    <tr style=\"text-align: right;\">\n",
       "      <th></th>\n",
       "      <th>Country</th>\n",
       "      <th>Count</th>\n",
       "      <th>ISO</th>\n",
       "    </tr>\n",
       "  </thead>\n",
       "  <tbody>\n",
       "    <tr>\n",
       "      <th>0</th>\n",
       "      <td>Italy</td>\n",
       "      <td>76</td>\n",
       "      <td>ITA</td>\n",
       "    </tr>\n",
       "    <tr>\n",
       "      <th>1</th>\n",
       "      <td>Germany</td>\n",
       "      <td>52</td>\n",
       "      <td>DEU</td>\n",
       "    </tr>\n",
       "    <tr>\n",
       "      <th>2</th>\n",
       "      <td>Spain</td>\n",
       "      <td>50</td>\n",
       "      <td>ESP</td>\n",
       "    </tr>\n",
       "    <tr>\n",
       "      <th>3</th>\n",
       "      <td>Brazil</td>\n",
       "      <td>44</td>\n",
       "      <td>BRA</td>\n",
       "    </tr>\n",
       "    <tr>\n",
       "      <th>4</th>\n",
       "      <td>Monaco</td>\n",
       "      <td>44</td>\n",
       "      <td>MCO</td>\n",
       "    </tr>\n",
       "    <tr>\n",
       "      <th>5</th>\n",
       "      <td>Belgium</td>\n",
       "      <td>43</td>\n",
       "      <td>BEL</td>\n",
       "    </tr>\n",
       "    <tr>\n",
       "      <th>7</th>\n",
       "      <td>Canada</td>\n",
       "      <td>41</td>\n",
       "      <td>CAN</td>\n",
       "    </tr>\n",
       "    <tr>\n",
       "      <th>8</th>\n",
       "      <td>Hungary</td>\n",
       "      <td>39</td>\n",
       "      <td>HUN</td>\n",
       "    </tr>\n",
       "    <tr>\n",
       "      <th>9</th>\n",
       "      <td>Australia</td>\n",
       "      <td>38</td>\n",
       "      <td>AUS</td>\n",
       "    </tr>\n",
       "    <tr>\n",
       "      <th>10</th>\n",
       "      <td>Japan</td>\n",
       "      <td>38</td>\n",
       "      <td>JPN</td>\n",
       "    </tr>\n",
       "    <tr>\n",
       "      <th>11</th>\n",
       "      <td>France</td>\n",
       "      <td>34</td>\n",
       "      <td>FRA</td>\n",
       "    </tr>\n",
       "    <tr>\n",
       "      <th>12</th>\n",
       "      <td>USA</td>\n",
       "      <td>32</td>\n",
       "      <td>USA</td>\n",
       "    </tr>\n",
       "    <tr>\n",
       "      <th>13</th>\n",
       "      <td>Austria</td>\n",
       "      <td>28</td>\n",
       "      <td>AUT</td>\n",
       "    </tr>\n",
       "    <tr>\n",
       "      <th>14</th>\n",
       "      <td>Bahrain</td>\n",
       "      <td>25</td>\n",
       "      <td>BHR</td>\n",
       "    </tr>\n",
       "    <tr>\n",
       "      <th>15</th>\n",
       "      <td>Malaysia</td>\n",
       "      <td>19</td>\n",
       "      <td>MYS</td>\n",
       "    </tr>\n",
       "    <tr>\n",
       "      <th>16</th>\n",
       "      <td>China</td>\n",
       "      <td>17</td>\n",
       "      <td>CHN</td>\n",
       "    </tr>\n",
       "    <tr>\n",
       "      <th>17</th>\n",
       "      <td>Mexico</td>\n",
       "      <td>16</td>\n",
       "      <td>MEX</td>\n",
       "    </tr>\n",
       "    <tr>\n",
       "      <th>18</th>\n",
       "      <td>Singapore</td>\n",
       "      <td>15</td>\n",
       "      <td>SGP</td>\n",
       "    </tr>\n",
       "    <tr>\n",
       "      <th>19</th>\n",
       "      <td>Portugal</td>\n",
       "      <td>15</td>\n",
       "      <td>PRT</td>\n",
       "    </tr>\n",
       "    <tr>\n",
       "      <th>20</th>\n",
       "      <td>United States</td>\n",
       "      <td>11</td>\n",
       "      <td>USA</td>\n",
       "    </tr>\n",
       "    <tr>\n",
       "      <th>21</th>\n",
       "      <td>Netherlands</td>\n",
       "      <td>10</td>\n",
       "      <td>NLD</td>\n",
       "    </tr>\n",
       "    <tr>\n",
       "      <th>24</th>\n",
       "      <td>Azerbaijan</td>\n",
       "      <td>8</td>\n",
       "      <td>AZE</td>\n",
       "    </tr>\n",
       "    <tr>\n",
       "      <th>26</th>\n",
       "      <td>South Africa</td>\n",
       "      <td>7</td>\n",
       "      <td>ZAF</td>\n",
       "    </tr>\n",
       "    <tr>\n",
       "      <th>28</th>\n",
       "      <td>Argentina</td>\n",
       "      <td>6</td>\n",
       "      <td>ARG</td>\n",
       "    </tr>\n",
       "    <tr>\n",
       "      <th>31</th>\n",
       "      <td>Saudi Arabia</td>\n",
       "      <td>4</td>\n",
       "      <td>SAU</td>\n",
       "    </tr>\n",
       "    <tr>\n",
       "      <th>32</th>\n",
       "      <td>India</td>\n",
       "      <td>3</td>\n",
       "      <td>IND</td>\n",
       "    </tr>\n",
       "    <tr>\n",
       "      <th>33</th>\n",
       "      <td>Qatar</td>\n",
       "      <td>3</td>\n",
       "      <td>QAT</td>\n",
       "    </tr>\n",
       "    <tr>\n",
       "      <th>34</th>\n",
       "      <td>United Arab Emirates</td>\n",
       "      <td>2</td>\n",
       "      <td>ARE</td>\n",
       "    </tr>\n",
       "    <tr>\n",
       "      <th>35</th>\n",
       "      <td>United Kingdom</td>\n",
       "      <td>1</td>\n",
       "      <td>GBR</td>\n",
       "    </tr>\n",
       "  </tbody>\n",
       "</table>\n",
       "</div>"
      ],
      "text/plain": [
       "                 Country  Count  ISO\n",
       "0                  Italy     76  ITA\n",
       "1                Germany     52  DEU\n",
       "2                  Spain     50  ESP\n",
       "3                 Brazil     44  BRA\n",
       "4                 Monaco     44  MCO\n",
       "5                Belgium     43  BEL\n",
       "7                 Canada     41  CAN\n",
       "8                Hungary     39  HUN\n",
       "9              Australia     38  AUS\n",
       "10                 Japan     38  JPN\n",
       "11                France     34  FRA\n",
       "12                   USA     32  USA\n",
       "13               Austria     28  AUT\n",
       "14               Bahrain     25  BHR\n",
       "15              Malaysia     19  MYS\n",
       "16                 China     17  CHN\n",
       "17                Mexico     16  MEX\n",
       "18             Singapore     15  SGP\n",
       "19              Portugal     15  PRT\n",
       "20         United States     11  USA\n",
       "21           Netherlands     10  NLD\n",
       "24            Azerbaijan      8  AZE\n",
       "26          South Africa      7  ZAF\n",
       "28             Argentina      6  ARG\n",
       "31          Saudi Arabia      4  SAU\n",
       "32                 India      3  IND\n",
       "33                 Qatar      3  QAT\n",
       "34  United Arab Emirates      2  ARE\n",
       "35        United Kingdom      1  GBR"
      ]
     },
     "execution_count": 2,
     "metadata": {},
     "output_type": "execute_result"
    }
   ],
   "source": [
    "df = get_country_counts_ISO(1980, 2024)\n",
    "df"
   ]
  },
  {
   "cell_type": "code",
   "execution_count": 3,
   "metadata": {},
   "outputs": [
    {
     "data": {
      "application/vnd.plotly.v1+json": {
       "config": {
        "plotlyServerURL": "https://plot.ly"
       },
       "data": [
        {
         "autocolorscale": false,
         "colorbar": {
          "tickprefix": "",
          "title": {
           "text": "Number of races"
          }
         },
         "colorscale": [
          [
           0,
           "white"
          ],
          [
           1,
           "blue"
          ]
         ],
         "locations": [
          "ITA",
          "DEU",
          "ESP",
          "BRA",
          "MCO",
          "BEL",
          "CAN",
          "HUN",
          "AUS",
          "JPN",
          "FRA",
          "USA",
          "AUT",
          "BHR",
          "MYS",
          "CHN",
          "MEX",
          "SGP",
          "PRT",
          "USA",
          "NLD",
          "AZE",
          "ZAF",
          "ARG",
          "SAU",
          "IND",
          "QAT",
          "ARE",
          "GBR"
         ],
         "marker": {
          "line": {
           "color": "black",
           "width": 0.8
          }
         },
         "reversescale": false,
         "text": [
          "Italy",
          "Germany",
          "Spain",
          "Brazil",
          "Monaco",
          "Belgium",
          "Canada",
          "Hungary",
          "Australia",
          "Japan",
          "France",
          "USA",
          "Austria",
          "Bahrain",
          "Malaysia",
          "China",
          "Mexico",
          "Singapore",
          "Portugal",
          "United States",
          "Netherlands",
          "Azerbaijan",
          "South Africa",
          "Argentina",
          "Saudi Arabia",
          "India",
          "Qatar",
          "United Arab Emirates",
          "United Kingdom"
         ],
         "type": "choropleth",
         "z": [
          76,
          52,
          50,
          44,
          44,
          43,
          41,
          39,
          38,
          38,
          34,
          32,
          28,
          25,
          19,
          17,
          16,
          15,
          15,
          11,
          10,
          8,
          7,
          6,
          4,
          3,
          3,
          2,
          1
         ]
        }
       ],
       "layout": {
        "font": {
         "color": "white",
         "family": "Arial",
         "size": 12
        },
        "geo": {
         "lataxis": {
          "range": [
           -60,
           90
          ]
         },
         "lonaxis": {
          "range": [
           -180,
           180
          ]
         },
         "projection": {
          "type": "equirectangular"
         },
         "showcoastlines": false,
         "showframe": false
        },
        "margin": {
         "b": 0,
         "l": 0,
         "r": 0,
         "t": 50
        },
        "paper_bgcolor": "#1a1a1a",
        "plot_bgcolor": "#1a1a1a",
        "template": {
         "data": {
          "bar": [
           {
            "error_x": {
             "color": "#2a3f5f"
            },
            "error_y": {
             "color": "#2a3f5f"
            },
            "marker": {
             "line": {
              "color": "#E5ECF6",
              "width": 0.5
             },
             "pattern": {
              "fillmode": "overlay",
              "size": 10,
              "solidity": 0.2
             }
            },
            "type": "bar"
           }
          ],
          "barpolar": [
           {
            "marker": {
             "line": {
              "color": "#E5ECF6",
              "width": 0.5
             },
             "pattern": {
              "fillmode": "overlay",
              "size": 10,
              "solidity": 0.2
             }
            },
            "type": "barpolar"
           }
          ],
          "carpet": [
           {
            "aaxis": {
             "endlinecolor": "#2a3f5f",
             "gridcolor": "white",
             "linecolor": "white",
             "minorgridcolor": "white",
             "startlinecolor": "#2a3f5f"
            },
            "baxis": {
             "endlinecolor": "#2a3f5f",
             "gridcolor": "white",
             "linecolor": "white",
             "minorgridcolor": "white",
             "startlinecolor": "#2a3f5f"
            },
            "type": "carpet"
           }
          ],
          "choropleth": [
           {
            "colorbar": {
             "outlinewidth": 0,
             "ticks": ""
            },
            "type": "choropleth"
           }
          ],
          "contour": [
           {
            "colorbar": {
             "outlinewidth": 0,
             "ticks": ""
            },
            "colorscale": [
             [
              0,
              "#0d0887"
             ],
             [
              0.1111111111111111,
              "#46039f"
             ],
             [
              0.2222222222222222,
              "#7201a8"
             ],
             [
              0.3333333333333333,
              "#9c179e"
             ],
             [
              0.4444444444444444,
              "#bd3786"
             ],
             [
              0.5555555555555556,
              "#d8576b"
             ],
             [
              0.6666666666666666,
              "#ed7953"
             ],
             [
              0.7777777777777778,
              "#fb9f3a"
             ],
             [
              0.8888888888888888,
              "#fdca26"
             ],
             [
              1,
              "#f0f921"
             ]
            ],
            "type": "contour"
           }
          ],
          "contourcarpet": [
           {
            "colorbar": {
             "outlinewidth": 0,
             "ticks": ""
            },
            "type": "contourcarpet"
           }
          ],
          "heatmap": [
           {
            "colorbar": {
             "outlinewidth": 0,
             "ticks": ""
            },
            "colorscale": [
             [
              0,
              "#0d0887"
             ],
             [
              0.1111111111111111,
              "#46039f"
             ],
             [
              0.2222222222222222,
              "#7201a8"
             ],
             [
              0.3333333333333333,
              "#9c179e"
             ],
             [
              0.4444444444444444,
              "#bd3786"
             ],
             [
              0.5555555555555556,
              "#d8576b"
             ],
             [
              0.6666666666666666,
              "#ed7953"
             ],
             [
              0.7777777777777778,
              "#fb9f3a"
             ],
             [
              0.8888888888888888,
              "#fdca26"
             ],
             [
              1,
              "#f0f921"
             ]
            ],
            "type": "heatmap"
           }
          ],
          "heatmapgl": [
           {
            "colorbar": {
             "outlinewidth": 0,
             "ticks": ""
            },
            "colorscale": [
             [
              0,
              "#0d0887"
             ],
             [
              0.1111111111111111,
              "#46039f"
             ],
             [
              0.2222222222222222,
              "#7201a8"
             ],
             [
              0.3333333333333333,
              "#9c179e"
             ],
             [
              0.4444444444444444,
              "#bd3786"
             ],
             [
              0.5555555555555556,
              "#d8576b"
             ],
             [
              0.6666666666666666,
              "#ed7953"
             ],
             [
              0.7777777777777778,
              "#fb9f3a"
             ],
             [
              0.8888888888888888,
              "#fdca26"
             ],
             [
              1,
              "#f0f921"
             ]
            ],
            "type": "heatmapgl"
           }
          ],
          "histogram": [
           {
            "marker": {
             "pattern": {
              "fillmode": "overlay",
              "size": 10,
              "solidity": 0.2
             }
            },
            "type": "histogram"
           }
          ],
          "histogram2d": [
           {
            "colorbar": {
             "outlinewidth": 0,
             "ticks": ""
            },
            "colorscale": [
             [
              0,
              "#0d0887"
             ],
             [
              0.1111111111111111,
              "#46039f"
             ],
             [
              0.2222222222222222,
              "#7201a8"
             ],
             [
              0.3333333333333333,
              "#9c179e"
             ],
             [
              0.4444444444444444,
              "#bd3786"
             ],
             [
              0.5555555555555556,
              "#d8576b"
             ],
             [
              0.6666666666666666,
              "#ed7953"
             ],
             [
              0.7777777777777778,
              "#fb9f3a"
             ],
             [
              0.8888888888888888,
              "#fdca26"
             ],
             [
              1,
              "#f0f921"
             ]
            ],
            "type": "histogram2d"
           }
          ],
          "histogram2dcontour": [
           {
            "colorbar": {
             "outlinewidth": 0,
             "ticks": ""
            },
            "colorscale": [
             [
              0,
              "#0d0887"
             ],
             [
              0.1111111111111111,
              "#46039f"
             ],
             [
              0.2222222222222222,
              "#7201a8"
             ],
             [
              0.3333333333333333,
              "#9c179e"
             ],
             [
              0.4444444444444444,
              "#bd3786"
             ],
             [
              0.5555555555555556,
              "#d8576b"
             ],
             [
              0.6666666666666666,
              "#ed7953"
             ],
             [
              0.7777777777777778,
              "#fb9f3a"
             ],
             [
              0.8888888888888888,
              "#fdca26"
             ],
             [
              1,
              "#f0f921"
             ]
            ],
            "type": "histogram2dcontour"
           }
          ],
          "mesh3d": [
           {
            "colorbar": {
             "outlinewidth": 0,
             "ticks": ""
            },
            "type": "mesh3d"
           }
          ],
          "parcoords": [
           {
            "line": {
             "colorbar": {
              "outlinewidth": 0,
              "ticks": ""
             }
            },
            "type": "parcoords"
           }
          ],
          "pie": [
           {
            "automargin": true,
            "type": "pie"
           }
          ],
          "scatter": [
           {
            "fillpattern": {
             "fillmode": "overlay",
             "size": 10,
             "solidity": 0.2
            },
            "type": "scatter"
           }
          ],
          "scatter3d": [
           {
            "line": {
             "colorbar": {
              "outlinewidth": 0,
              "ticks": ""
             }
            },
            "marker": {
             "colorbar": {
              "outlinewidth": 0,
              "ticks": ""
             }
            },
            "type": "scatter3d"
           }
          ],
          "scattercarpet": [
           {
            "marker": {
             "colorbar": {
              "outlinewidth": 0,
              "ticks": ""
             }
            },
            "type": "scattercarpet"
           }
          ],
          "scattergeo": [
           {
            "marker": {
             "colorbar": {
              "outlinewidth": 0,
              "ticks": ""
             }
            },
            "type": "scattergeo"
           }
          ],
          "scattergl": [
           {
            "marker": {
             "colorbar": {
              "outlinewidth": 0,
              "ticks": ""
             }
            },
            "type": "scattergl"
           }
          ],
          "scattermapbox": [
           {
            "marker": {
             "colorbar": {
              "outlinewidth": 0,
              "ticks": ""
             }
            },
            "type": "scattermapbox"
           }
          ],
          "scatterpolar": [
           {
            "marker": {
             "colorbar": {
              "outlinewidth": 0,
              "ticks": ""
             }
            },
            "type": "scatterpolar"
           }
          ],
          "scatterpolargl": [
           {
            "marker": {
             "colorbar": {
              "outlinewidth": 0,
              "ticks": ""
             }
            },
            "type": "scatterpolargl"
           }
          ],
          "scatterternary": [
           {
            "marker": {
             "colorbar": {
              "outlinewidth": 0,
              "ticks": ""
             }
            },
            "type": "scatterternary"
           }
          ],
          "surface": [
           {
            "colorbar": {
             "outlinewidth": 0,
             "ticks": ""
            },
            "colorscale": [
             [
              0,
              "#0d0887"
             ],
             [
              0.1111111111111111,
              "#46039f"
             ],
             [
              0.2222222222222222,
              "#7201a8"
             ],
             [
              0.3333333333333333,
              "#9c179e"
             ],
             [
              0.4444444444444444,
              "#bd3786"
             ],
             [
              0.5555555555555556,
              "#d8576b"
             ],
             [
              0.6666666666666666,
              "#ed7953"
             ],
             [
              0.7777777777777778,
              "#fb9f3a"
             ],
             [
              0.8888888888888888,
              "#fdca26"
             ],
             [
              1,
              "#f0f921"
             ]
            ],
            "type": "surface"
           }
          ],
          "table": [
           {
            "cells": {
             "fill": {
              "color": "#EBF0F8"
             },
             "line": {
              "color": "white"
             }
            },
            "header": {
             "fill": {
              "color": "#C8D4E3"
             },
             "line": {
              "color": "white"
             }
            },
            "type": "table"
           }
          ]
         },
         "layout": {
          "annotationdefaults": {
           "arrowcolor": "#2a3f5f",
           "arrowhead": 0,
           "arrowwidth": 1
          },
          "autotypenumbers": "strict",
          "coloraxis": {
           "colorbar": {
            "outlinewidth": 0,
            "ticks": ""
           }
          },
          "colorscale": {
           "diverging": [
            [
             0,
             "#8e0152"
            ],
            [
             0.1,
             "#c51b7d"
            ],
            [
             0.2,
             "#de77ae"
            ],
            [
             0.3,
             "#f1b6da"
            ],
            [
             0.4,
             "#fde0ef"
            ],
            [
             0.5,
             "#f7f7f7"
            ],
            [
             0.6,
             "#e6f5d0"
            ],
            [
             0.7,
             "#b8e186"
            ],
            [
             0.8,
             "#7fbc41"
            ],
            [
             0.9,
             "#4d9221"
            ],
            [
             1,
             "#276419"
            ]
           ],
           "sequential": [
            [
             0,
             "#0d0887"
            ],
            [
             0.1111111111111111,
             "#46039f"
            ],
            [
             0.2222222222222222,
             "#7201a8"
            ],
            [
             0.3333333333333333,
             "#9c179e"
            ],
            [
             0.4444444444444444,
             "#bd3786"
            ],
            [
             0.5555555555555556,
             "#d8576b"
            ],
            [
             0.6666666666666666,
             "#ed7953"
            ],
            [
             0.7777777777777778,
             "#fb9f3a"
            ],
            [
             0.8888888888888888,
             "#fdca26"
            ],
            [
             1,
             "#f0f921"
            ]
           ],
           "sequentialminus": [
            [
             0,
             "#0d0887"
            ],
            [
             0.1111111111111111,
             "#46039f"
            ],
            [
             0.2222222222222222,
             "#7201a8"
            ],
            [
             0.3333333333333333,
             "#9c179e"
            ],
            [
             0.4444444444444444,
             "#bd3786"
            ],
            [
             0.5555555555555556,
             "#d8576b"
            ],
            [
             0.6666666666666666,
             "#ed7953"
            ],
            [
             0.7777777777777778,
             "#fb9f3a"
            ],
            [
             0.8888888888888888,
             "#fdca26"
            ],
            [
             1,
             "#f0f921"
            ]
           ]
          },
          "colorway": [
           "#636efa",
           "#EF553B",
           "#00cc96",
           "#ab63fa",
           "#FFA15A",
           "#19d3f3",
           "#FF6692",
           "#B6E880",
           "#FF97FF",
           "#FECB52"
          ],
          "font": {
           "color": "#2a3f5f"
          },
          "geo": {
           "bgcolor": "white",
           "lakecolor": "white",
           "landcolor": "#E5ECF6",
           "showlakes": true,
           "showland": true,
           "subunitcolor": "white"
          },
          "hoverlabel": {
           "align": "left"
          },
          "hovermode": "closest",
          "mapbox": {
           "style": "light"
          },
          "paper_bgcolor": "white",
          "plot_bgcolor": "#E5ECF6",
          "polar": {
           "angularaxis": {
            "gridcolor": "white",
            "linecolor": "white",
            "ticks": ""
           },
           "bgcolor": "#E5ECF6",
           "radialaxis": {
            "gridcolor": "white",
            "linecolor": "white",
            "ticks": ""
           }
          },
          "scene": {
           "xaxis": {
            "backgroundcolor": "#E5ECF6",
            "gridcolor": "white",
            "gridwidth": 2,
            "linecolor": "white",
            "showbackground": true,
            "ticks": "",
            "zerolinecolor": "white"
           },
           "yaxis": {
            "backgroundcolor": "#E5ECF6",
            "gridcolor": "white",
            "gridwidth": 2,
            "linecolor": "white",
            "showbackground": true,
            "ticks": "",
            "zerolinecolor": "white"
           },
           "zaxis": {
            "backgroundcolor": "#E5ECF6",
            "gridcolor": "white",
            "gridwidth": 2,
            "linecolor": "white",
            "showbackground": true,
            "ticks": "",
            "zerolinecolor": "white"
           }
          },
          "shapedefaults": {
           "line": {
            "color": "#2a3f5f"
           }
          },
          "ternary": {
           "aaxis": {
            "gridcolor": "white",
            "linecolor": "white",
            "ticks": ""
           },
           "baxis": {
            "gridcolor": "white",
            "linecolor": "white",
            "ticks": ""
           },
           "bgcolor": "#E5ECF6",
           "caxis": {
            "gridcolor": "white",
            "linecolor": "white",
            "ticks": ""
           }
          },
          "title": {
           "x": 0.05
          },
          "xaxis": {
           "automargin": true,
           "gridcolor": "white",
           "linecolor": "white",
           "ticks": "",
           "title": {
            "standoff": 15
           },
           "zerolinecolor": "white",
           "zerolinewidth": 2
          },
          "yaxis": {
           "automargin": true,
           "gridcolor": "white",
           "linecolor": "white",
           "ticks": "",
           "title": {
            "standoff": 15
           },
           "zerolinecolor": "white",
           "zerolinewidth": 2
          }
         }
        },
        "title": {
         "font": {
          "size": 24
         },
         "text": "Races per country (1980-2024)",
         "x": 0.5,
         "xanchor": "center",
         "y": 0.95,
         "yanchor": "top"
        }
       }
      }
     },
     "metadata": {},
     "output_type": "display_data"
    }
   ],
   "source": [
    "plot_map_races_per_country(1980, 2024)"
   ]
  },
  {
   "cell_type": "markdown",
   "metadata": {},
   "source": [
    "## 2 - Bar Plot: Wins by Team\n",
    "This graph shows the cumulative wins of each team from 1980 to 2024 (although API has some missing data from 1991 to 2017).  The x-axis shows the name of the team and the y-axis shows the number of wins. The bars have been sorted from highest to lowest and the value of the wins has been inserted within the bars to make them easier to read. The colour of each bar corresponds to the colour of each team extracted from the API; where colours are missing, the default colour is white.\n",
    "\n",
    "This graph has also been created for the general public\n"
   ]
  },
  {
   "cell_type": "code",
   "execution_count": 2,
   "metadata": {},
   "outputs": [
    {
     "data": {
      "text/html": [
       "<div>\n",
       "<style scoped>\n",
       "    .dataframe tbody tr th:only-of-type {\n",
       "        vertical-align: middle;\n",
       "    }\n",
       "\n",
       "    .dataframe tbody tr th {\n",
       "        vertical-align: top;\n",
       "    }\n",
       "\n",
       "    .dataframe thead th {\n",
       "        text-align: right;\n",
       "    }\n",
       "</style>\n",
       "<table border=\"1\" class=\"dataframe\">\n",
       "  <thead>\n",
       "    <tr style=\"text-align: right;\">\n",
       "      <th></th>\n",
       "      <th>Season</th>\n",
       "      <th>Race</th>\n",
       "      <th>Winner</th>\n",
       "      <th>Team</th>\n",
       "    </tr>\n",
       "  </thead>\n",
       "  <tbody>\n",
       "    <tr>\n",
       "      <th>0</th>\n",
       "      <td>1980</td>\n",
       "      <td>Argentine Grand Prix</td>\n",
       "      <td>Alan Jones</td>\n",
       "      <td>Williams</td>\n",
       "    </tr>\n",
       "    <tr>\n",
       "      <th>1</th>\n",
       "      <td>1980</td>\n",
       "      <td>Brazilian Grand Prix</td>\n",
       "      <td>René Arnoux</td>\n",
       "      <td>Renault</td>\n",
       "    </tr>\n",
       "    <tr>\n",
       "      <th>2</th>\n",
       "      <td>1980</td>\n",
       "      <td>South African Grand Prix</td>\n",
       "      <td>René Arnoux</td>\n",
       "      <td>Renault</td>\n",
       "    </tr>\n",
       "    <tr>\n",
       "      <th>3</th>\n",
       "      <td>1980</td>\n",
       "      <td>United States Grand Prix West</td>\n",
       "      <td>Nelson Piquet</td>\n",
       "      <td>Brabham</td>\n",
       "    </tr>\n",
       "    <tr>\n",
       "      <th>4</th>\n",
       "      <td>1980</td>\n",
       "      <td>Belgian Grand Prix</td>\n",
       "      <td>Didier Pironi</td>\n",
       "      <td>Ligier</td>\n",
       "    </tr>\n",
       "    <tr>\n",
       "      <th>...</th>\n",
       "      <td>...</td>\n",
       "      <td>...</td>\n",
       "      <td>...</td>\n",
       "      <td>...</td>\n",
       "    </tr>\n",
       "    <tr>\n",
       "      <th>300</th>\n",
       "      <td>2024</td>\n",
       "      <td>Emilia Romagna Grand Prix</td>\n",
       "      <td>Max Verstappen</td>\n",
       "      <td>Red Bull Racing</td>\n",
       "    </tr>\n",
       "    <tr>\n",
       "      <th>301</th>\n",
       "      <td>2024</td>\n",
       "      <td>Monaco Grand Prix</td>\n",
       "      <td>Charles Leclerc</td>\n",
       "      <td>Ferrari</td>\n",
       "    </tr>\n",
       "    <tr>\n",
       "      <th>302</th>\n",
       "      <td>2024</td>\n",
       "      <td>Canadian Grand Prix</td>\n",
       "      <td>Max Verstappen</td>\n",
       "      <td>Red Bull Racing</td>\n",
       "    </tr>\n",
       "    <tr>\n",
       "      <th>303</th>\n",
       "      <td>2024</td>\n",
       "      <td>Spanish Grand Prix</td>\n",
       "      <td>Max Verstappen</td>\n",
       "      <td>Red Bull Racing</td>\n",
       "    </tr>\n",
       "    <tr>\n",
       "      <th>304</th>\n",
       "      <td>2024</td>\n",
       "      <td>Austrian Grand Prix</td>\n",
       "      <td>George Russell</td>\n",
       "      <td>Mercedes</td>\n",
       "    </tr>\n",
       "  </tbody>\n",
       "</table>\n",
       "<p>305 rows × 4 columns</p>\n",
       "</div>"
      ],
      "text/plain": [
       "     Season                           Race           Winner             Team\n",
       "0      1980           Argentine Grand Prix       Alan Jones         Williams\n",
       "1      1980           Brazilian Grand Prix      René Arnoux          Renault\n",
       "2      1980       South African Grand Prix      René Arnoux          Renault\n",
       "3      1980  United States Grand Prix West    Nelson Piquet          Brabham\n",
       "4      1980             Belgian Grand Prix    Didier Pironi           Ligier\n",
       "..      ...                            ...              ...              ...\n",
       "300    2024      Emilia Romagna Grand Prix   Max Verstappen  Red Bull Racing\n",
       "301    2024              Monaco Grand Prix  Charles Leclerc          Ferrari\n",
       "302    2024            Canadian Grand Prix   Max Verstappen  Red Bull Racing\n",
       "303    2024             Spanish Grand Prix   Max Verstappen  Red Bull Racing\n",
       "304    2024            Austrian Grand Prix   George Russell         Mercedes\n",
       "\n",
       "[305 rows x 4 columns]"
      ]
     },
     "execution_count": 2,
     "metadata": {},
     "output_type": "execute_result"
    }
   ],
   "source": [
    "race_winners_df = pd.read_csv('data/race_winners_1980_to_2024.csv', sep=',', encoding='utf-8')\n",
    "race_winners_df"
   ]
  },
  {
   "cell_type": "code",
   "execution_count": 3,
   "metadata": {},
   "outputs": [
    {
     "name": "stdout",
     "output_type": "stream",
     "text": [
      "Color could not be loaded for Brabham: \n",
      "Color could not be loaded for Team Lotus: \n",
      "Color could not be loaded for Benetton: \n"
     ]
    },
    {
     "data": {
      "application/vnd.plotly.v1+json": {
       "config": {
        "plotlyServerURL": "https://plot.ly"
       },
       "data": [
        {
         "insidetextanchor": "middle",
         "marker": {
          "color": [
           "#ff8700",
           "#dc0000",
           "#00d2be",
           "#00a0dd",
           "#fcd700",
           "#fcd700",
           "white",
           "white",
           "white",
           "#fe86bc",
           "#fcd700",
           "#ff8700",
           "#fe86bc"
          ]
         },
         "text": [
          71,
          50,
          50,
          46,
          37,
          15,
          15,
          8,
          5,
          4,
          2,
          1,
          1
         ],
         "textposition": "inside",
         "type": "bar",
         "x": [
          "McLaren",
          "Ferrari",
          "Mercedes",
          "Williams",
          "Red Bull Racing",
          "Renault",
          "Brabham",
          "Team Lotus",
          "Benetton",
          "Ligier",
          "Tyrrell",
          "Alfa Romeo Racing",
          "Racing Point"
         ],
         "y": [
          71,
          50,
          50,
          46,
          37,
          15,
          15,
          8,
          5,
          4,
          2,
          1,
          1
         ]
        }
       ],
       "layout": {
        "font": {
         "color": "white",
         "family": "Arial",
         "size": 12
        },
        "paper_bgcolor": "#1a1a1a",
        "plot_bgcolor": "#1a1a1a",
        "template": {
         "data": {
          "bar": [
           {
            "error_x": {
             "color": "#2a3f5f"
            },
            "error_y": {
             "color": "#2a3f5f"
            },
            "marker": {
             "line": {
              "color": "#E5ECF6",
              "width": 0.5
             },
             "pattern": {
              "fillmode": "overlay",
              "size": 10,
              "solidity": 0.2
             }
            },
            "type": "bar"
           }
          ],
          "barpolar": [
           {
            "marker": {
             "line": {
              "color": "#E5ECF6",
              "width": 0.5
             },
             "pattern": {
              "fillmode": "overlay",
              "size": 10,
              "solidity": 0.2
             }
            },
            "type": "barpolar"
           }
          ],
          "carpet": [
           {
            "aaxis": {
             "endlinecolor": "#2a3f5f",
             "gridcolor": "white",
             "linecolor": "white",
             "minorgridcolor": "white",
             "startlinecolor": "#2a3f5f"
            },
            "baxis": {
             "endlinecolor": "#2a3f5f",
             "gridcolor": "white",
             "linecolor": "white",
             "minorgridcolor": "white",
             "startlinecolor": "#2a3f5f"
            },
            "type": "carpet"
           }
          ],
          "choropleth": [
           {
            "colorbar": {
             "outlinewidth": 0,
             "ticks": ""
            },
            "type": "choropleth"
           }
          ],
          "contour": [
           {
            "colorbar": {
             "outlinewidth": 0,
             "ticks": ""
            },
            "colorscale": [
             [
              0,
              "#0d0887"
             ],
             [
              0.1111111111111111,
              "#46039f"
             ],
             [
              0.2222222222222222,
              "#7201a8"
             ],
             [
              0.3333333333333333,
              "#9c179e"
             ],
             [
              0.4444444444444444,
              "#bd3786"
             ],
             [
              0.5555555555555556,
              "#d8576b"
             ],
             [
              0.6666666666666666,
              "#ed7953"
             ],
             [
              0.7777777777777778,
              "#fb9f3a"
             ],
             [
              0.8888888888888888,
              "#fdca26"
             ],
             [
              1,
              "#f0f921"
             ]
            ],
            "type": "contour"
           }
          ],
          "contourcarpet": [
           {
            "colorbar": {
             "outlinewidth": 0,
             "ticks": ""
            },
            "type": "contourcarpet"
           }
          ],
          "heatmap": [
           {
            "colorbar": {
             "outlinewidth": 0,
             "ticks": ""
            },
            "colorscale": [
             [
              0,
              "#0d0887"
             ],
             [
              0.1111111111111111,
              "#46039f"
             ],
             [
              0.2222222222222222,
              "#7201a8"
             ],
             [
              0.3333333333333333,
              "#9c179e"
             ],
             [
              0.4444444444444444,
              "#bd3786"
             ],
             [
              0.5555555555555556,
              "#d8576b"
             ],
             [
              0.6666666666666666,
              "#ed7953"
             ],
             [
              0.7777777777777778,
              "#fb9f3a"
             ],
             [
              0.8888888888888888,
              "#fdca26"
             ],
             [
              1,
              "#f0f921"
             ]
            ],
            "type": "heatmap"
           }
          ],
          "heatmapgl": [
           {
            "colorbar": {
             "outlinewidth": 0,
             "ticks": ""
            },
            "colorscale": [
             [
              0,
              "#0d0887"
             ],
             [
              0.1111111111111111,
              "#46039f"
             ],
             [
              0.2222222222222222,
              "#7201a8"
             ],
             [
              0.3333333333333333,
              "#9c179e"
             ],
             [
              0.4444444444444444,
              "#bd3786"
             ],
             [
              0.5555555555555556,
              "#d8576b"
             ],
             [
              0.6666666666666666,
              "#ed7953"
             ],
             [
              0.7777777777777778,
              "#fb9f3a"
             ],
             [
              0.8888888888888888,
              "#fdca26"
             ],
             [
              1,
              "#f0f921"
             ]
            ],
            "type": "heatmapgl"
           }
          ],
          "histogram": [
           {
            "marker": {
             "pattern": {
              "fillmode": "overlay",
              "size": 10,
              "solidity": 0.2
             }
            },
            "type": "histogram"
           }
          ],
          "histogram2d": [
           {
            "colorbar": {
             "outlinewidth": 0,
             "ticks": ""
            },
            "colorscale": [
             [
              0,
              "#0d0887"
             ],
             [
              0.1111111111111111,
              "#46039f"
             ],
             [
              0.2222222222222222,
              "#7201a8"
             ],
             [
              0.3333333333333333,
              "#9c179e"
             ],
             [
              0.4444444444444444,
              "#bd3786"
             ],
             [
              0.5555555555555556,
              "#d8576b"
             ],
             [
              0.6666666666666666,
              "#ed7953"
             ],
             [
              0.7777777777777778,
              "#fb9f3a"
             ],
             [
              0.8888888888888888,
              "#fdca26"
             ],
             [
              1,
              "#f0f921"
             ]
            ],
            "type": "histogram2d"
           }
          ],
          "histogram2dcontour": [
           {
            "colorbar": {
             "outlinewidth": 0,
             "ticks": ""
            },
            "colorscale": [
             [
              0,
              "#0d0887"
             ],
             [
              0.1111111111111111,
              "#46039f"
             ],
             [
              0.2222222222222222,
              "#7201a8"
             ],
             [
              0.3333333333333333,
              "#9c179e"
             ],
             [
              0.4444444444444444,
              "#bd3786"
             ],
             [
              0.5555555555555556,
              "#d8576b"
             ],
             [
              0.6666666666666666,
              "#ed7953"
             ],
             [
              0.7777777777777778,
              "#fb9f3a"
             ],
             [
              0.8888888888888888,
              "#fdca26"
             ],
             [
              1,
              "#f0f921"
             ]
            ],
            "type": "histogram2dcontour"
           }
          ],
          "mesh3d": [
           {
            "colorbar": {
             "outlinewidth": 0,
             "ticks": ""
            },
            "type": "mesh3d"
           }
          ],
          "parcoords": [
           {
            "line": {
             "colorbar": {
              "outlinewidth": 0,
              "ticks": ""
             }
            },
            "type": "parcoords"
           }
          ],
          "pie": [
           {
            "automargin": true,
            "type": "pie"
           }
          ],
          "scatter": [
           {
            "fillpattern": {
             "fillmode": "overlay",
             "size": 10,
             "solidity": 0.2
            },
            "type": "scatter"
           }
          ],
          "scatter3d": [
           {
            "line": {
             "colorbar": {
              "outlinewidth": 0,
              "ticks": ""
             }
            },
            "marker": {
             "colorbar": {
              "outlinewidth": 0,
              "ticks": ""
             }
            },
            "type": "scatter3d"
           }
          ],
          "scattercarpet": [
           {
            "marker": {
             "colorbar": {
              "outlinewidth": 0,
              "ticks": ""
             }
            },
            "type": "scattercarpet"
           }
          ],
          "scattergeo": [
           {
            "marker": {
             "colorbar": {
              "outlinewidth": 0,
              "ticks": ""
             }
            },
            "type": "scattergeo"
           }
          ],
          "scattergl": [
           {
            "marker": {
             "colorbar": {
              "outlinewidth": 0,
              "ticks": ""
             }
            },
            "type": "scattergl"
           }
          ],
          "scattermapbox": [
           {
            "marker": {
             "colorbar": {
              "outlinewidth": 0,
              "ticks": ""
             }
            },
            "type": "scattermapbox"
           }
          ],
          "scatterpolar": [
           {
            "marker": {
             "colorbar": {
              "outlinewidth": 0,
              "ticks": ""
             }
            },
            "type": "scatterpolar"
           }
          ],
          "scatterpolargl": [
           {
            "marker": {
             "colorbar": {
              "outlinewidth": 0,
              "ticks": ""
             }
            },
            "type": "scatterpolargl"
           }
          ],
          "scatterternary": [
           {
            "marker": {
             "colorbar": {
              "outlinewidth": 0,
              "ticks": ""
             }
            },
            "type": "scatterternary"
           }
          ],
          "surface": [
           {
            "colorbar": {
             "outlinewidth": 0,
             "ticks": ""
            },
            "colorscale": [
             [
              0,
              "#0d0887"
             ],
             [
              0.1111111111111111,
              "#46039f"
             ],
             [
              0.2222222222222222,
              "#7201a8"
             ],
             [
              0.3333333333333333,
              "#9c179e"
             ],
             [
              0.4444444444444444,
              "#bd3786"
             ],
             [
              0.5555555555555556,
              "#d8576b"
             ],
             [
              0.6666666666666666,
              "#ed7953"
             ],
             [
              0.7777777777777778,
              "#fb9f3a"
             ],
             [
              0.8888888888888888,
              "#fdca26"
             ],
             [
              1,
              "#f0f921"
             ]
            ],
            "type": "surface"
           }
          ],
          "table": [
           {
            "cells": {
             "fill": {
              "color": "#EBF0F8"
             },
             "line": {
              "color": "white"
             }
            },
            "header": {
             "fill": {
              "color": "#C8D4E3"
             },
             "line": {
              "color": "white"
             }
            },
            "type": "table"
           }
          ]
         },
         "layout": {
          "annotationdefaults": {
           "arrowcolor": "#2a3f5f",
           "arrowhead": 0,
           "arrowwidth": 1
          },
          "autotypenumbers": "strict",
          "coloraxis": {
           "colorbar": {
            "outlinewidth": 0,
            "ticks": ""
           }
          },
          "colorscale": {
           "diverging": [
            [
             0,
             "#8e0152"
            ],
            [
             0.1,
             "#c51b7d"
            ],
            [
             0.2,
             "#de77ae"
            ],
            [
             0.3,
             "#f1b6da"
            ],
            [
             0.4,
             "#fde0ef"
            ],
            [
             0.5,
             "#f7f7f7"
            ],
            [
             0.6,
             "#e6f5d0"
            ],
            [
             0.7,
             "#b8e186"
            ],
            [
             0.8,
             "#7fbc41"
            ],
            [
             0.9,
             "#4d9221"
            ],
            [
             1,
             "#276419"
            ]
           ],
           "sequential": [
            [
             0,
             "#0d0887"
            ],
            [
             0.1111111111111111,
             "#46039f"
            ],
            [
             0.2222222222222222,
             "#7201a8"
            ],
            [
             0.3333333333333333,
             "#9c179e"
            ],
            [
             0.4444444444444444,
             "#bd3786"
            ],
            [
             0.5555555555555556,
             "#d8576b"
            ],
            [
             0.6666666666666666,
             "#ed7953"
            ],
            [
             0.7777777777777778,
             "#fb9f3a"
            ],
            [
             0.8888888888888888,
             "#fdca26"
            ],
            [
             1,
             "#f0f921"
            ]
           ],
           "sequentialminus": [
            [
             0,
             "#0d0887"
            ],
            [
             0.1111111111111111,
             "#46039f"
            ],
            [
             0.2222222222222222,
             "#7201a8"
            ],
            [
             0.3333333333333333,
             "#9c179e"
            ],
            [
             0.4444444444444444,
             "#bd3786"
            ],
            [
             0.5555555555555556,
             "#d8576b"
            ],
            [
             0.6666666666666666,
             "#ed7953"
            ],
            [
             0.7777777777777778,
             "#fb9f3a"
            ],
            [
             0.8888888888888888,
             "#fdca26"
            ],
            [
             1,
             "#f0f921"
            ]
           ]
          },
          "colorway": [
           "#636efa",
           "#EF553B",
           "#00cc96",
           "#ab63fa",
           "#FFA15A",
           "#19d3f3",
           "#FF6692",
           "#B6E880",
           "#FF97FF",
           "#FECB52"
          ],
          "font": {
           "color": "#2a3f5f"
          },
          "geo": {
           "bgcolor": "white",
           "lakecolor": "white",
           "landcolor": "#E5ECF6",
           "showlakes": true,
           "showland": true,
           "subunitcolor": "white"
          },
          "hoverlabel": {
           "align": "left"
          },
          "hovermode": "closest",
          "mapbox": {
           "style": "light"
          },
          "paper_bgcolor": "white",
          "plot_bgcolor": "#E5ECF6",
          "polar": {
           "angularaxis": {
            "gridcolor": "white",
            "linecolor": "white",
            "ticks": ""
           },
           "bgcolor": "#E5ECF6",
           "radialaxis": {
            "gridcolor": "white",
            "linecolor": "white",
            "ticks": ""
           }
          },
          "scene": {
           "xaxis": {
            "backgroundcolor": "#E5ECF6",
            "gridcolor": "white",
            "gridwidth": 2,
            "linecolor": "white",
            "showbackground": true,
            "ticks": "",
            "zerolinecolor": "white"
           },
           "yaxis": {
            "backgroundcolor": "#E5ECF6",
            "gridcolor": "white",
            "gridwidth": 2,
            "linecolor": "white",
            "showbackground": true,
            "ticks": "",
            "zerolinecolor": "white"
           },
           "zaxis": {
            "backgroundcolor": "#E5ECF6",
            "gridcolor": "white",
            "gridwidth": 2,
            "linecolor": "white",
            "showbackground": true,
            "ticks": "",
            "zerolinecolor": "white"
           }
          },
          "shapedefaults": {
           "line": {
            "color": "#2a3f5f"
           }
          },
          "ternary": {
           "aaxis": {
            "gridcolor": "white",
            "linecolor": "white",
            "ticks": ""
           },
           "baxis": {
            "gridcolor": "white",
            "linecolor": "white",
            "ticks": ""
           },
           "bgcolor": "#E5ECF6",
           "caxis": {
            "gridcolor": "white",
            "linecolor": "white",
            "ticks": ""
           }
          },
          "title": {
           "x": 0.05
          },
          "xaxis": {
           "automargin": true,
           "gridcolor": "white",
           "linecolor": "white",
           "ticks": "",
           "title": {
            "standoff": 15
           },
           "zerolinecolor": "white",
           "zerolinewidth": 2
          },
          "yaxis": {
           "automargin": true,
           "gridcolor": "white",
           "linecolor": "white",
           "ticks": "",
           "title": {
            "standoff": 15
           },
           "zerolinecolor": "white",
           "zerolinewidth": 2
          }
         }
        },
        "title": {
         "text": "Cumulative Wins by Team from 1980 to 2024",
         "x": 0.5,
         "xanchor": "center"
        },
        "xaxis": {
         "tickangle": -45,
         "title": {
          "text": "Team"
         }
        },
        "yaxis": {
         "title": {
          "text": "Wins"
         }
        }
       }
      }
     },
     "metadata": {},
     "output_type": "display_data"
    }
   ],
   "source": [
    "plot_race_wins_per_team(1980, 2024)"
   ]
  },
  {
   "cell_type": "markdown",
   "metadata": {},
   "source": [
    "## 2 - Scatter plot (line mode): Telemetry Data\n",
    "This graph is more technical, shows the performance on the fastest lap of two drivers. The x-axis is the distance travelled by the car and the y-axis is the speed in km/h. This is a very common graph in the F1 world, so to improve the standard visualisation I have added another channel representing all the corners, labelled as C1, C2, etc.\n",
    "Then I added a custom hover to the lines, showing the exact value at each point and the name of the driver. Finally, a very simple legend shows the abbreviated name of the driver with his line colour, which is obtained from the team colour of from the API.\n",
    "\n",
    "The next one is the same concept but instead of the speed it shows the throttle percentage on the y-axis.\n",
    "\n",
    "This graph is designed for the more advanced sports enthusiast, engineers and drivers for a post session review."
   ]
  },
  {
   "cell_type": "code",
   "execution_count": 10,
   "metadata": {},
   "outputs": [
    {
     "name": "stderr",
     "output_type": "stream",
     "text": [
      "core           INFO \tLoading data for Monaco Grand Prix - Qualifying [v3.3.5]\n",
      "req            INFO \tUsing cached data for session_info\n",
      "req            INFO \tUsing cached data for driver_info\n",
      "Request for URL https://ergast.com/api/f1/2024/8/qualifying.json failed; using cached response\n",
      "Traceback (most recent call last):\n",
      "  File \"/Users/aprs/Desktop/SLDV/F1-Dash/.venv/lib/python3.12/site-packages/requests_cache/session.py\", line 290, in _resend\n",
      "    response.raise_for_status()\n",
      "  File \"/Users/aprs/Desktop/SLDV/F1-Dash/.venv/lib/python3.12/site-packages/requests/models.py\", line 1021, in raise_for_status\n",
      "    raise HTTPError(http_error_msg, response=self)\n",
      "requests.exceptions.HTTPError: 503 Server Error: Backend fetch failed for url: https://ergast.com/api/f1/2024/8/qualifying.json\n",
      "req            INFO \tUsing cached data for session_status_data\n",
      "req            INFO \tUsing cached data for track_status_data\n",
      "req            INFO \tUsing cached data for _extended_timing_data\n",
      "req            INFO \tUsing cached data for timing_app_data\n",
      "core           INFO \tProcessing timing data...\n",
      "core        WARNING \tDriver  3: Lap timing integrity check failed for 1 lap(s)\n",
      "req            INFO \tUsing cached data for car_data\n",
      "req            INFO \tUsing cached data for position_data\n",
      "req            INFO \tUsing cached data for weather_data\n",
      "req            INFO \tUsing cached data for race_control_messages\n",
      "core           INFO \tFinished loading data for 20 drivers: ['16', '81', '55', '4', '63', '1', '44', '22', '23', '10', '31', '27', '3', '18', '20', '14', '2', '11', '77', '24']\n"
     ]
    }
   ],
   "source": [
    "#Loading the data for the 2024 Monaco Grand Prix Qualifying session from the API\n",
    "fastf1.plotting.setup_mpl(misc_mpl_mods=False)\n",
    "session = fastf1.get_session(2024, 'Monaco Grand Prix', 'Q')\n",
    "session.load()"
   ]
  },
  {
   "cell_type": "code",
   "execution_count": 15,
   "metadata": {},
   "outputs": [
    {
     "data": {
      "text/html": [
       "<div>\n",
       "<style scoped>\n",
       "    .dataframe tbody tr th:only-of-type {\n",
       "        vertical-align: middle;\n",
       "    }\n",
       "\n",
       "    .dataframe tbody tr th {\n",
       "        vertical-align: top;\n",
       "    }\n",
       "\n",
       "    .dataframe thead th {\n",
       "        text-align: right;\n",
       "    }\n",
       "</style>\n",
       "<table border=\"1\" class=\"dataframe\">\n",
       "  <thead>\n",
       "    <tr style=\"text-align: right;\">\n",
       "      <th></th>\n",
       "      <th>index</th>\n",
       "      <th>Time</th>\n",
       "      <th>Driver</th>\n",
       "      <th>DriverNumber</th>\n",
       "      <th>LapTime</th>\n",
       "      <th>LapNumber</th>\n",
       "      <th>Stint</th>\n",
       "      <th>PitOutTime</th>\n",
       "      <th>PitInTime</th>\n",
       "      <th>Sector1Time</th>\n",
       "      <th>...</th>\n",
       "      <th>FreshTyre</th>\n",
       "      <th>Team</th>\n",
       "      <th>LapStartTime</th>\n",
       "      <th>LapStartDate</th>\n",
       "      <th>TrackStatus</th>\n",
       "      <th>Position</th>\n",
       "      <th>Deleted</th>\n",
       "      <th>DeletedReason</th>\n",
       "      <th>FastF1Generated</th>\n",
       "      <th>IsAccurate</th>\n",
       "    </tr>\n",
       "  </thead>\n",
       "  <tbody>\n",
       "    <tr>\n",
       "      <th>0</th>\n",
       "      <td>1</td>\n",
       "      <td>0 days 00:18:50.588000</td>\n",
       "      <td>LEC</td>\n",
       "      <td>16</td>\n",
       "      <td>0 days 00:01:12.839000</td>\n",
       "      <td>2.0</td>\n",
       "      <td>1.0</td>\n",
       "      <td>NaT</td>\n",
       "      <td>NaT</td>\n",
       "      <td>0 days 00:00:19.297000</td>\n",
       "      <td>...</td>\n",
       "      <td>True</td>\n",
       "      <td>Ferrari</td>\n",
       "      <td>0 days 00:17:37.749000</td>\n",
       "      <td>2024-05-25 14:04:42.432</td>\n",
       "      <td>1</td>\n",
       "      <td>NaN</td>\n",
       "      <td>False</td>\n",
       "      <td></td>\n",
       "      <td>False</td>\n",
       "      <td>True</td>\n",
       "    </tr>\n",
       "    <tr>\n",
       "      <th>1</th>\n",
       "      <td>3</td>\n",
       "      <td>0 days 00:21:40.073000</td>\n",
       "      <td>LEC</td>\n",
       "      <td>16</td>\n",
       "      <td>0 days 00:01:12.452000</td>\n",
       "      <td>4.0</td>\n",
       "      <td>1.0</td>\n",
       "      <td>NaT</td>\n",
       "      <td>NaT</td>\n",
       "      <td>0 days 00:00:18.794000</td>\n",
       "      <td>...</td>\n",
       "      <td>True</td>\n",
       "      <td>Ferrari</td>\n",
       "      <td>0 days 00:20:27.621000</td>\n",
       "      <td>2024-05-25 14:07:32.304</td>\n",
       "      <td>1</td>\n",
       "      <td>NaN</td>\n",
       "      <td>False</td>\n",
       "      <td></td>\n",
       "      <td>False</td>\n",
       "      <td>True</td>\n",
       "    </tr>\n",
       "    <tr>\n",
       "      <th>2</th>\n",
       "      <td>6</td>\n",
       "      <td>0 days 00:26:30.492000</td>\n",
       "      <td>LEC</td>\n",
       "      <td>16</td>\n",
       "      <td>0 days 00:01:11.653000</td>\n",
       "      <td>7.0</td>\n",
       "      <td>2.0</td>\n",
       "      <td>NaT</td>\n",
       "      <td>NaT</td>\n",
       "      <td>0 days 00:00:18.702000</td>\n",
       "      <td>...</td>\n",
       "      <td>False</td>\n",
       "      <td>Ferrari</td>\n",
       "      <td>0 days 00:25:18.839000</td>\n",
       "      <td>2024-05-25 14:12:23.522</td>\n",
       "      <td>12</td>\n",
       "      <td>NaN</td>\n",
       "      <td>False</td>\n",
       "      <td></td>\n",
       "      <td>False</td>\n",
       "      <td>True</td>\n",
       "    </tr>\n",
       "    <tr>\n",
       "      <th>3</th>\n",
       "      <td>8</td>\n",
       "      <td>0 days 00:29:21.868000</td>\n",
       "      <td>LEC</td>\n",
       "      <td>16</td>\n",
       "      <td>0 days 00:01:11.584000</td>\n",
       "      <td>9.0</td>\n",
       "      <td>2.0</td>\n",
       "      <td>NaT</td>\n",
       "      <td>NaT</td>\n",
       "      <td>0 days 00:00:18.597000</td>\n",
       "      <td>...</td>\n",
       "      <td>False</td>\n",
       "      <td>Ferrari</td>\n",
       "      <td>0 days 00:28:10.284000</td>\n",
       "      <td>2024-05-25 14:15:14.967</td>\n",
       "      <td>1</td>\n",
       "      <td>NaN</td>\n",
       "      <td>False</td>\n",
       "      <td></td>\n",
       "      <td>False</td>\n",
       "      <td>True</td>\n",
       "    </tr>\n",
       "    <tr>\n",
       "      <th>4</th>\n",
       "      <td>11</td>\n",
       "      <td>0 days 00:41:19.188000</td>\n",
       "      <td>LEC</td>\n",
       "      <td>16</td>\n",
       "      <td>0 days 00:01:11.356000</td>\n",
       "      <td>12.0</td>\n",
       "      <td>3.0</td>\n",
       "      <td>NaT</td>\n",
       "      <td>NaT</td>\n",
       "      <td>0 days 00:00:18.703000</td>\n",
       "      <td>...</td>\n",
       "      <td>True</td>\n",
       "      <td>Ferrari</td>\n",
       "      <td>0 days 00:40:07.832000</td>\n",
       "      <td>2024-05-25 14:27:12.515</td>\n",
       "      <td>1</td>\n",
       "      <td>NaN</td>\n",
       "      <td>False</td>\n",
       "      <td></td>\n",
       "      <td>False</td>\n",
       "      <td>True</td>\n",
       "    </tr>\n",
       "  </tbody>\n",
       "</table>\n",
       "<p>5 rows × 32 columns</p>\n",
       "</div>"
      ],
      "text/plain": [
       "   index                   Time Driver DriverNumber                LapTime  \\\n",
       "0      1 0 days 00:18:50.588000    LEC           16 0 days 00:01:12.839000   \n",
       "1      3 0 days 00:21:40.073000    LEC           16 0 days 00:01:12.452000   \n",
       "2      6 0 days 00:26:30.492000    LEC           16 0 days 00:01:11.653000   \n",
       "3      8 0 days 00:29:21.868000    LEC           16 0 days 00:01:11.584000   \n",
       "4     11 0 days 00:41:19.188000    LEC           16 0 days 00:01:11.356000   \n",
       "\n",
       "   LapNumber  Stint PitOutTime PitInTime            Sector1Time  ...  \\\n",
       "0        2.0    1.0        NaT       NaT 0 days 00:00:19.297000  ...   \n",
       "1        4.0    1.0        NaT       NaT 0 days 00:00:18.794000  ...   \n",
       "2        7.0    2.0        NaT       NaT 0 days 00:00:18.702000  ...   \n",
       "3        9.0    2.0        NaT       NaT 0 days 00:00:18.597000  ...   \n",
       "4       12.0    3.0        NaT       NaT 0 days 00:00:18.703000  ...   \n",
       "\n",
       "  FreshTyre     Team           LapStartTime            LapStartDate  \\\n",
       "0      True  Ferrari 0 days 00:17:37.749000 2024-05-25 14:04:42.432   \n",
       "1      True  Ferrari 0 days 00:20:27.621000 2024-05-25 14:07:32.304   \n",
       "2     False  Ferrari 0 days 00:25:18.839000 2024-05-25 14:12:23.522   \n",
       "3     False  Ferrari 0 days 00:28:10.284000 2024-05-25 14:15:14.967   \n",
       "4      True  Ferrari 0 days 00:40:07.832000 2024-05-25 14:27:12.515   \n",
       "\n",
       "  TrackStatus  Position  Deleted  DeletedReason  FastF1Generated  IsAccurate  \n",
       "0           1       NaN    False                           False        True  \n",
       "1           1       NaN    False                           False        True  \n",
       "2          12       NaN    False                           False        True  \n",
       "3           1       NaN    False                           False        True  \n",
       "4           1       NaN    False                           False        True  \n",
       "\n",
       "[5 rows x 32 columns]"
      ]
     },
     "execution_count": 15,
     "metadata": {},
     "output_type": "execute_result"
    }
   ],
   "source": [
    "#Getting the fastest lap of each selected driver\n",
    "driver1_laps = session.laps.pick_driver(\"LEC\").pick_quicklaps().reset_index()\n",
    "driver2_laps = session.laps.pick_driver(\"PIA\").pick_quicklaps().reset_index()\n",
    "driver1_laps.head()"
   ]
  },
  {
   "cell_type": "code",
   "execution_count": 17,
   "metadata": {},
   "outputs": [
    {
     "data": {
      "text/html": [
       "<div>\n",
       "<style scoped>\n",
       "    .dataframe tbody tr th:only-of-type {\n",
       "        vertical-align: middle;\n",
       "    }\n",
       "\n",
       "    .dataframe tbody tr th {\n",
       "        vertical-align: top;\n",
       "    }\n",
       "\n",
       "    .dataframe thead th {\n",
       "        text-align: right;\n",
       "    }\n",
       "</style>\n",
       "<table border=\"1\" class=\"dataframe\">\n",
       "  <thead>\n",
       "    <tr style=\"text-align: right;\">\n",
       "      <th></th>\n",
       "      <th>Date</th>\n",
       "      <th>RPM</th>\n",
       "      <th>Speed</th>\n",
       "      <th>nGear</th>\n",
       "      <th>Throttle</th>\n",
       "      <th>Brake</th>\n",
       "      <th>DRS</th>\n",
       "      <th>Source</th>\n",
       "      <th>Time</th>\n",
       "      <th>SessionTime</th>\n",
       "      <th>Distance</th>\n",
       "    </tr>\n",
       "  </thead>\n",
       "  <tbody>\n",
       "    <tr>\n",
       "      <th>0</th>\n",
       "      <td>2024-05-25 14:04:42.652</td>\n",
       "      <td>11135</td>\n",
       "      <td>277</td>\n",
       "      <td>7</td>\n",
       "      <td>100</td>\n",
       "      <td>False</td>\n",
       "      <td>12</td>\n",
       "      <td>car</td>\n",
       "      <td>0 days 00:00:00.220000</td>\n",
       "      <td>0 days 00:17:37.969000</td>\n",
       "      <td>16.927778</td>\n",
       "    </tr>\n",
       "    <tr>\n",
       "      <th>1</th>\n",
       "      <td>2024-05-25 14:04:43.132</td>\n",
       "      <td>11245</td>\n",
       "      <td>282</td>\n",
       "      <td>7</td>\n",
       "      <td>100</td>\n",
       "      <td>False</td>\n",
       "      <td>8</td>\n",
       "      <td>car</td>\n",
       "      <td>0 days 00:00:00.700000</td>\n",
       "      <td>0 days 00:17:38.449000</td>\n",
       "      <td>54.527778</td>\n",
       "    </tr>\n",
       "    <tr>\n",
       "      <th>2</th>\n",
       "      <td>2024-05-25 14:04:43.453</td>\n",
       "      <td>10935</td>\n",
       "      <td>282</td>\n",
       "      <td>7</td>\n",
       "      <td>100</td>\n",
       "      <td>True</td>\n",
       "      <td>8</td>\n",
       "      <td>car</td>\n",
       "      <td>0 days 00:00:01.021000</td>\n",
       "      <td>0 days 00:17:38.770000</td>\n",
       "      <td>79.672778</td>\n",
       "    </tr>\n",
       "    <tr>\n",
       "      <th>3</th>\n",
       "      <td>2024-05-25 14:04:43.853</td>\n",
       "      <td>10032</td>\n",
       "      <td>252</td>\n",
       "      <td>7</td>\n",
       "      <td>3</td>\n",
       "      <td>True</td>\n",
       "      <td>8</td>\n",
       "      <td>car</td>\n",
       "      <td>0 days 00:00:01.421000</td>\n",
       "      <td>0 days 00:17:39.170000</td>\n",
       "      <td>107.672778</td>\n",
       "    </tr>\n",
       "    <tr>\n",
       "      <th>4</th>\n",
       "      <td>2024-05-25 14:04:44.093</td>\n",
       "      <td>10485</td>\n",
       "      <td>212</td>\n",
       "      <td>6</td>\n",
       "      <td>1</td>\n",
       "      <td>True</td>\n",
       "      <td>8</td>\n",
       "      <td>car</td>\n",
       "      <td>0 days 00:00:01.661000</td>\n",
       "      <td>0 days 00:17:39.410000</td>\n",
       "      <td>121.806111</td>\n",
       "    </tr>\n",
       "  </tbody>\n",
       "</table>\n",
       "</div>"
      ],
      "text/plain": [
       "                     Date    RPM  Speed  nGear  Throttle  Brake  DRS Source  \\\n",
       "0 2024-05-25 14:04:42.652  11135    277      7       100  False   12    car   \n",
       "1 2024-05-25 14:04:43.132  11245    282      7       100  False    8    car   \n",
       "2 2024-05-25 14:04:43.453  10935    282      7       100   True    8    car   \n",
       "3 2024-05-25 14:04:43.853  10032    252      7         3   True    8    car   \n",
       "4 2024-05-25 14:04:44.093  10485    212      6         1   True    8    car   \n",
       "\n",
       "                    Time            SessionTime    Distance  \n",
       "0 0 days 00:00:00.220000 0 days 00:17:37.969000   16.927778  \n",
       "1 0 days 00:00:00.700000 0 days 00:17:38.449000   54.527778  \n",
       "2 0 days 00:00:01.021000 0 days 00:17:38.770000   79.672778  \n",
       "3 0 days 00:00:01.421000 0 days 00:17:39.170000  107.672778  \n",
       "4 0 days 00:00:01.661000 0 days 00:17:39.410000  121.806111  "
      ]
     },
     "execution_count": 17,
     "metadata": {},
     "output_type": "execute_result"
    }
   ],
   "source": [
    "#Retrieving the telemetry data for the first driver\n",
    "driver1_telemetry = driver1_laps.get_car_data().add_distance()\n",
    "driver1_telemetry.head()"
   ]
  },
  {
   "cell_type": "code",
   "execution_count": 12,
   "metadata": {},
   "outputs": [
    {
     "data": {
      "application/vnd.plotly.v1+json": {
       "config": {
        "plotlyServerURL": "https://plot.ly"
       },
       "data": [
        {
         "hovertemplate": "<b>LEC</b><br><b>Speed: %{y} Km/h</b><extra></extra>",
         "line": {
          "color": "#dc0000"
         },
         "mode": "lines",
         "name": "Leclerc",
         "type": "scatter",
         "x": [
          19.133333333333333,
          47.43333333333334,
          69.67777777777778,
          91.92222222222222,
          109.92222222222222,
          135.46666666666667,
          147.86666666666665,
          160,
          167.7222222222222,
          175.16666666666666,
          180.72222222222223,
          187.38888888888889,
          195.1888888888889,
          204.36666666666667,
          213.7777777777778,
          221.00000000000003,
          227,
          237.06666666666666,
          246.01111111111112,
          255.45555555555558,
          273.25555555555553,
          297.7,
          306.76666666666665,
          320.9,
          330.45555555555546,
          350.3666666666666,
          365.6333333333333,
          383.83333333333337,
          402.4222222222222,
          435.22222222222223,
          454.7361111111111,
          465.86611111111114,
          491.56611111111107,
          503.03277777777777,
          517.4216666666666,
          546.755,
          576.3105555555555,
          588.2661111111111,
          612.2661111111111,
          624.2661111111111,
          636.3549999999999,
          655.9549999999998,
          666.8438888888887,
          686.4883333333332,
          698.2105555555554,
          715.8994444444443,
          726.677222222222,
          740.7549999999998,
          748.7105555555553,
          765.8105555555553,
          779.2661111111108,
          786.9994444444442,
          802.7327777777775,
          816.9661111111109,
          829.2994444444442,
          839.1883333333332,
          846.8327777777777,
          855.933611111111,
          864.9891666666666,
          878.103611111111,
          889.7702777777778,
          901.6702777777778,
          914.1147222222222,
          921.4925,
          935.1813888888887,
          954.3813888888886,
          963.0924999999997,
          974.4258333333332,
          988.5591666666664,
          1000.7258333333331,
          1010.5924999999997,
          1023.2036111111108,
          1040.9813888888887,
          1048.803611111111,
          1063.6924999999999,
          1075.6924999999999,
          1080.1813888888887,
          1084.4480555555554,
          1091.0591666666664,
          1094.6591666666664,
          1099.1036111111107,
          1105.1702777777773,
          1110.236944444444,
          1115.5702777777772,
          1122.439166666666,
          1127.4947222222215,
          1135.7872222222215,
          1155.431666666666,
          1169.1205555555548,
          1179.053888888888,
          1185.3205555555546,
          1196.8761111111103,
          1200.9205555555548,
          1206.9094444444436,
          1210.9094444444436,
          1214.5761111111103,
          1217.9649999999992,
          1221.0761111111103,
          1224.6094444444436,
          1227.4427777777769,
          1230.7094444444435,
          1232.753888888888,
          1236.0872222222213,
          1242.3094444444434,
          1245.6427777777767,
          1250.0427777777768,
          1254.9094444444434,
          1258.5538888888877,
          1262.4205555555543,
          1269.2205555555543,
          1275.1094444444432,
          1279.5538888888875,
          1288.779444444443,
          1292.5572222222208,
          1296.2672222222209,
          1306.4116666666653,
          1310.1005555555541,
          1314.7672222222209,
          1318.7672222222209,
          1329.2672222222209,
          1337.0005555555542,
          1348.467222222221,
          1356.467222222221,
          1362.578333333332,
          1368.189444444443,
          1373.6338888888874,
          1381.989444444443,
          1388.0561111111097,
          1395.0561111111097,
          1406.6672222222207,
          1416.4449999999986,
          1422.778333333332,
          1431.5783333333322,
          1439.578333333332,
          1451.6338888888877,
          1458.5227777777768,
          1470.1894444444433,
          1480.633888888888,
          1500.5891666666655,
          1514.522499999999,
          1533.8397222222213,
          1546.2841666666654,
          1569.5841666666654,
          1585.4508333333322,
          1601.5841666666656,
          1618.0508333333323,
          1637.650833333332,
          1648.9397222222212,
          1660.3174999999987,
          1677.6508333333322,
          1698.106388888888,
          1721.6619444444436,
          1733.52861111111,
          1757.52861111111,
          1778.7619444444433,
          1797.0952777777768,
          1812.539722222221,
          1837.4286111111098,
          1859.2841666666654,
          1878.2841666666657,
          1897.3508333333325,
          1919.595277777777,
          1932.3952777777768,
          1966.572777777777,
          1992.9727777777769,
          2008.5683333333325,
          2021.8683333333324,
          2029.8683333333322,
          2038.1127777777767,
          2050.112777777777,
          2053.890555555555,
          2058.390555555555,
          2063.5905555555546,
          2067.5905555555546,
          2073.812777777777,
          2078.74611111111,
          2083.134999999999,
          2091.134999999999,
          2095.134999999999,
          2108.134999999999,
          2123.6905555555545,
          2130.4016666666657,
          2137.5572222222213,
          2152.6683333333326,
          2171.3683333333324,
          2180.0349999999994,
          2193.234999999999,
          2209.704722222222,
          2232.004722222222,
          2247.2713888888884,
          2257.493611111111,
          2286.2725,
          2304.139166666667,
          2316.6058333333335,
          2330.5280555555555,
          2348.7280555555553,
          2356.950277777778,
          2374.2836111111114,
          2387.8169444444447,
          2404.2280555555553,
          2416.2280555555553,
          2426.094722222222,
          2436.005833333333,
          2459.205833333333,
          2472.150277777778,
          2493.2169444444444,
          2514.7280555555553,
          2536.7724999999996,
          2556.2169444444435,
          2601.4994444444433,
          2617.3994444444434,
          2624.06611111111,
          2633.66611111111,
          2639.8052777777766,
          2650.6163888888877,
          2665.2830555555543,
          2679.83861111111,
          2688.9052777777765,
          2696.9052777777765,
          2703.7052777777767,
          2714.5719444444435,
          2726.105277777777,
          2744.905277777777,
          2760.0719444444435,
          2769.005277777777,
          2782.805277777777,
          2801.994166666666,
          2814.260833333333,
          2820.4274999999993,
          2830.760833333333,
          2835.094166666666,
          2841.0497222222216,
          2844.494166666666,
          2847.2222222222217,
          2853.3222222222216,
          2856.8222222222216,
          2865.3777777777773,
          2873.754444444444,
          2879.954444444444,
          2887.965555555555,
          2894.743333333333,
          2903.0099999999998,
          2911.1766666666663,
          2915.6655555555553,
          2923.6655555555553,
          2929.332222222222,
          2936.7099999999996,
          2942.4433333333327,
          2946.487777777777,
          2954.265555555555,
          2960.154444444444,
          2967.0988888888883,
          2977.754444444444,
          2988.4211111111103,
          3005.8211111111104,
          3013.998888888888,
          3022.354444444444,
          3031.065555555555,
          3047.0877777777773,
          3061.213055555555,
          3070.9908333333324,
          3088.646388888888,
          3104.2463888888874,
          3131.46861111111,
          3162.1986111111096,
          3173.5763888888882,
          3190.9097222222213,
          3220.354166666666,
          3238.420833333332
         ],
         "y": [
          280,
          283,
          286,
          286,
          270,
          209,
          186,
          156,
          139,
          134,
          125,
          120,
          117,
          118,
          121,
          130,
          135,
          151,
          161,
          170,
          178,
          200,
          204,
          212,
          215,
          224,
          229,
          234,
          239,
          246,
          250,
          252,
          257,
          258,
          259,
          264,
          266,
          269,
          270,
          270,
          272,
          252,
          245,
          221,
          211,
          199,
          194,
          181,
          179,
          171,
          173,
          174,
          177,
          183,
          185,
          178,
          172,
          163,
          163,
          148,
          150,
          153,
          160,
          166,
          176,
          192,
          196,
          204,
          212,
          219,
          222,
          227,
          200,
          176,
          134,
          108,
          101,
          96,
          85,
          81,
          80,
          78,
          76,
          80,
          88,
          91,
          107,
          136,
          154,
          149,
          141,
          104,
          91,
          77,
          72,
          66,
          61,
          56,
          53,
          51,
          49,
          46,
          50,
          56,
          60,
          66,
          73,
          82,
          87,
          102,
          106,
          100,
          92,
          85,
          84,
          83,
          83,
          84,
          90,
          105,
          116,
          129,
          120,
          110,
          101,
          98,
          94,
          91,
          90,
          95,
          110,
          114,
          132,
          144,
          155,
          155,
          175,
          188,
          199,
          209,
          218,
          224,
          233,
          238,
          242,
          247,
          252,
          254,
          256,
          260,
          263,
          265,
          267,
          270,
          273,
          275,
          278,
          280,
          281,
          285,
          286,
          286,
          288,
          279,
          216,
          176,
          133,
          120,
          106,
          90,
          85,
          81,
          78,
          72,
          70,
          74,
          79,
          90,
          90,
          117,
          140,
          151,
          161,
          170,
          187,
          195,
          198,
          211,
          223,
          229,
          230,
          236,
          201,
          187,
          179,
          182,
          185,
          195,
          203,
          211,
          216,
          222,
          223,
          232,
          233,
          237,
          242,
          248,
          250,
          177,
          159,
          150,
          144,
          139,
          139,
          132,
          131,
          136,
          144,
          153,
          163,
          173,
          188,
          195,
          201,
          207,
          157,
          138,
          111,
          93,
          78,
          67,
          62,
          61,
          61,
          63,
          70,
          84,
          93,
          103,
          122,
          124,
          105,
          101,
          90,
          85,
          83,
          86,
          91,
          100,
          106,
          125,
          137,
          160,
          174,
          184,
          188,
          196,
          206,
          211,
          220,
          227,
          234,
          245,
          252,
          256,
          260,
          265,
          271
         ]
        },
        {
         "hovertemplate": "<b>PIA</b><br><b>Speed: %{y} Km/h</b><extra></extra>",
         "line": {
          "color": "#ff8700"
         },
         "mode": "lines",
         "name": "Piastri",
         "type": "scatter",
         "x": [
          7.230555555555556,
          22.730555555555554,
          54.06388888888888,
          85.84166666666667,
          98.375,
          119.44166666666666,
          128.775,
          137.0861111111111,
          149.9972222222222,
          157.06388888888887,
          169.15277777777774,
          176.43055555555551,
          187.54166666666663,
          194.3194444444444,
          203.7305555555555,
          209.28611111111107,
          222.48611111111106,
          233.6083333333333,
          240.4083333333333,
          255.16388888888883,
          269.08611111111105,
          281.55277777777775,
          292.3305555555555,
          301.21944444444443,
          312.77694444444444,
          324.5547222222222,
          343.9605555555555,
          361.4605555555555,
          379.58277777777766,
          398.016111111111,
          408.6827777777777,
          427.6605555555555,
          452.56055555555554,
          463.7605555555555,
          477.8716666666666,
          494.8716666666666,
          509.1494444444443,
          520.6605555555554,
          535.1605555555556,
          558.716111111111,
          570.5383333333332,
          600.316111111111,
          630.0938888888888,
          641.8716666666667,
          653.4272222222222,
          671.9383333333333,
          682.2938888888889,
          694.7938888888889,
          711.6716666666667,
          725.205,
          738.205,
          752.5672222222222,
          762.6227777777779,
          776.2627777777778,
          801.8294444444444,
          817.6516666666666,
          829.6516666666666,
          837.5627777777778,
          855.785,
          862.9405555555555,
          875.1516666666666,
          883.5961111111111,
          892.1516666666666,
          900.9294444444445,
          910.0961111111111,
          921.9627777777778,
          932.2405555555555,
          945.0405555555556,
          953.885,
          967.6183333333332,
          991.8405555555554,
          1004.285,
          1019.6849999999998,
          1033.6183333333333,
          1041.7516666666668,
          1049.3072222222222,
          1058.8405555555555,
          1065.8405555555555,
          1071.4405555555554,
          1082.07,
          1086.6033333333332,
          1090.9758333333332,
          1102.0980555555554,
          1106.053611111111,
          1110.8869444444442,
          1114.575833333333,
          1123.375833333333,
          1129.575833333333,
          1138.7313888888887,
          1146.1980555555554,
          1152.6424999999997,
          1160.0313888888886,
          1167.975833333333,
          1181.7536111111108,
          1190.2202777777775,
          1198.075833333333,
          1207.853611111111,
          1213.9869444444444,
          1217.5980555555554,
          1221.664722222222,
          1224.8313888888888,
          1229.0313888888888,
          1231.3425,
          1234.6758333333332,
          1237.2869444444443,
          1242.5013888888889,
          1246.1680555555556,
          1251.6619444444445,
          1255.5508333333335,
          1263.9508333333335,
          1270.5508333333337,
          1277.4175000000002,
          1284.1508333333336,
          1291.6175000000003,
          1295.7508333333337,
          1299.7952777777782,
          1305.5952777777782,
          1312.284166666667,
          1320.373055555556,
          1324.461944444445,
          1334.1508333333338,
          1343.5619444444449,
          1352.4286111111114,
          1359.1508333333336,
          1369.0175000000004,
          1377.1063888888893,
          1383.9063888888893,
          1390.4397222222226,
          1397.8286111111115,
          1402.0063888888892,
          1414.3788888888892,
          1428.556666666667,
          1439.9875000000002,
          1455.0875,
          1465.8208333333334,
          1479.4319444444445,
          1505.4319444444443,
          1514.2319444444445,
          1525.6208333333332,
          1539.8875,
          1552.1097222222224,
          1572.2875000000001,
          1587.7541666666664,
          1600.9208333333331,
          1622.3430555555553,
          1633.2763888888885,
          1661.3875,
          1689.9430555555555,
          1701.4986111111107,
          1713.098611111111,
          1736.6541666666667,
          1763.3541666666667,
          1775.309722222222,
          1793.4430555555555,
          1814.8302777777776,
          1842.5302777777777,
          1861.1302777777778,
          1873.5747222222226,
          1908.0850000000003,
          1933.329444444444,
          1952.196111111111,
          1974.0516666666665,
          1996.4516666666664,
          2005.8294444444443,
          2021.296111111111,
          2030.8961111111107,
          2040.3072222222218,
          2046.7516666666663,
          2051.5516666666663,
          2056.0405555555553,
          2065.0405555555553,
          2069.651666666666,
          2076.6738888888885,
          2083.1627777777776,
          2089.296111111111,
          2094.9738888888887,
          2121.836388888889,
          2134.736388888889,
          2140.4697222222226,
          2150.4697222222226,
          2157.2713888888893,
          2170.4158333333335,
          2191.1936111111117,
          2213.526944444445,
          2227.5936111111114,
          2239.6491666666666,
          2249.3825,
          2264.5158333333334,
          2279.9158333333335,
          2301.0158333333334,
          2316.4158333333335,
          2324.993611111111,
          2337.393611111111,
          2360.249166666667,
          2377.5825,
          2388.6936111111113,
          2412.1380555555556,
          2424.1380555555556,
          2444.0491666666667,
          2456.715833333333,
          2467.0466666666666,
          2490.5466666666666,
          2503.7133333333336,
          2533.5355555555557,
          2558.366388888889,
          2574.9663888888895,
          2594.1775000000007,
          2606.733055555556,
          2619.6663888888893,
          2633.355277777778,
          2640.866388888889,
          2654.821944444445,
          2664.7552777777782,
          2677.2886111111115,
          2686.621944444445,
          2692.6663888888893,
          2703.0108333333337,
          2710.455277777778,
          2718.0108333333337,
          2729.7552777777782,
          2740.488611111112,
          2758.488611111112,
          2766.621944444445,
          2774.888611111112,
          2783.5997222222227,
          2799.233055555556,
          2812.0863888888894,
          2820.1752777777783,
          2831.9975000000004,
          2840.1975000000007,
          2850.641944444445,
          2860.3975000000005,
          2863.7752777777782,
          2868.641944444445,
          2876.0863888888894,
          2880.153055555556,
          2887.375277777778,
          2895.486388888889,
          2900.9530555555557,
          2906.0641666666666,
          2910.4197222222224,
          2915.264166666667,
          2926.286388888889,
          2936.786388888889,
          2941.1863888888893,
          2945.4086111111114,
          2953.053055555556,
          2956.786388888889,
          2964.253055555556,
          2970.253055555556,
          2979.1419444444446,
          2985.395277777778,
          2993.5286111111113,
          3002.0619444444446,
          3017.6619444444445,
          3025.0397222222227,
          3041.0397222222223,
          3062.873888888889,
          3076.4738888888887,
          3093.196111111111,
          3115.8961111111107,
          3133.9405555555554,
          3149.940555555556,
          3160.7405555555556,
          3180.1072222222224,
          3205.6072222222224,
          3228.9849999999997,
          3240.8072222222218,
          3258.7405555555556,
          3279.8183333333336,
          3291.996111111111
         ],
         "y": [
          274,
          279,
          282,
          286,
          282,
          237,
          210,
          187,
          166,
          159,
          136,
          131,
          125,
          122,
          121,
          125,
          132,
          143,
          153,
          166,
          179,
          187,
          194,
          200,
          207,
          212,
          219,
          225,
          233,
          237,
          240,
          244,
          249,
          252,
          254,
          255,
          257,
          259,
          261,
          265,
          266,
          268,
          268,
          265,
          260,
          238,
          233,
          225,
          217,
          203,
          195,
          184,
          181,
          176,
          177,
          178,
          180,
          178,
          164,
          161,
          157,
          152,
          154,
          158,
          165,
          178,
          185,
          192,
          199,
          206,
          218,
          224,
          231,
          209,
          183,
          170,
          143,
          126,
          126,
          106,
          102,
          99,
          91,
          89,
          87,
          83,
          88,
          93,
          103,
          112,
          116,
          133,
          143,
          155,
          127,
          101,
          80,
          69,
          65,
          61,
          57,
          54,
          52,
          50,
          47,
          52,
          55,
          62,
          70,
          84,
          99,
          103,
          101,
          96,
          93,
          91,
          87,
          86,
          91,
          92,
          109,
          121,
          133,
          121,
          111,
          104,
          102,
          98,
          95,
          94,
          101,
          116,
          129,
          151,
          161,
          175,
          195,
          198,
          205,
          214,
          220,
          227,
          232,
          237,
          241,
          246,
          253,
          257,
          260,
          261,
          265,
          267,
          269,
          272,
          274,
          277,
          279,
          280,
          283,
          284,
          283,
          281,
          224,
          211,
          174,
          144,
          121,
          116,
          108,
          101,
          90,
          83,
          79,
          73,
          69,
          73,
          105,
          129,
          129,
          150,
          154,
          169,
          187,
          201,
          211,
          217,
          219,
          227,
          231,
          211,
          198,
          193,
          186,
          187,
          195,
          200,
          211,
          216,
          224,
          228,
          231,
          235,
          237,
          244,
          249,
          249,
          247,
          226,
          194,
          176,
          169,
          157,
          149,
          141,
          140,
          136,
          133,
          134,
          136,
          151,
          161,
          180,
          183,
          186,
          196,
          201,
          192,
          182,
          152,
          123,
          94,
          80,
          76,
          73,
          67,
          61,
          65,
          73,
          82,
          92,
          98,
          109,
          124,
          105,
          99,
          95,
          86,
          84,
          84,
          90,
          100,
          112,
          122,
          128,
          156,
          166,
          180,
          197,
          204,
          215,
          227,
          232,
          240,
          243,
          249,
          255,
          263,
          266,
          269,
          271,
          274
         ]
        }
       ],
       "layout": {
        "annotations": [
         {
          "align": "center",
          "font": {
           "size": 10
          },
          "showarrow": false,
          "text": "C1",
          "x": 181.84332349001994,
          "xref": "x",
          "y": 0.95,
          "yref": "paper"
         },
         {
          "align": "center",
          "font": {
           "size": 10
          },
          "showarrow": false,
          "text": "C2",
          "x": 575.7527229016445,
          "xref": "x",
          "y": 0.95,
          "yref": "paper"
         },
         {
          "align": "center",
          "font": {
           "size": 10
          },
          "showarrow": false,
          "text": "C3",
          "x": 737.4599901678099,
          "xref": "x",
          "y": 0.95,
          "yref": "paper"
         },
         {
          "align": "center",
          "font": {
           "size": 10
          },
          "showarrow": false,
          "text": "C4",
          "x": 866.3697280411783,
          "xref": "x",
          "y": 0.95,
          "yref": "paper"
         },
         {
          "align": "center",
          "font": {
           "size": 10
          },
          "showarrow": false,
          "text": "C5",
          "x": 1091.3918387309345,
          "xref": "x",
          "y": 0.95,
          "yref": "paper"
         },
         {
          "align": "center",
          "font": {
           "size": 10
          },
          "showarrow": false,
          "text": "C6",
          "x": 1220.0940246530383,
          "xref": "x",
          "y": 0.95,
          "yref": "paper"
         },
         {
          "align": "center",
          "font": {
           "size": 10
          },
          "showarrow": false,
          "text": "C7",
          "x": 1299.82381824291,
          "xref": "x",
          "y": 0.95,
          "yref": "paper"
         },
         {
          "align": "center",
          "font": {
           "size": 10
          },
          "showarrow": false,
          "text": "C8",
          "x": 1387.4166298189782,
          "xref": "x",
          "y": 0.95,
          "yref": "paper"
         },
         {
          "align": "center",
          "font": {
           "size": 10
          },
          "showarrow": false,
          "text": "C9",
          "x": 1725.6224580442633,
          "xref": "x",
          "y": 0.95,
          "yref": "paper"
         },
         {
          "align": "center",
          "font": {
           "size": 10
          },
          "showarrow": false,
          "text": "C10",
          "x": 2037.9303113790354,
          "xref": "x",
          "y": 0.95,
          "yref": "paper"
         },
         {
          "align": "center",
          "font": {
           "size": 10
          },
          "showarrow": false,
          "text": "C11",
          "x": 2096.076287083767,
          "xref": "x",
          "y": 0.95,
          "yref": "paper"
         },
         {
          "align": "center",
          "font": {
           "size": 10
          },
          "showarrow": false,
          "text": "C12",
          "x": 2314.1987291613245,
          "xref": "x",
          "y": 0.95,
          "yref": "paper"
         },
         {
          "align": "center",
          "font": {
           "size": 10
          },
          "showarrow": false,
          "text": "C13",
          "x": 2475.5777139671964,
          "xref": "x",
          "y": 0.95,
          "yref": "paper"
         },
         {
          "align": "center",
          "font": {
           "size": 10
          },
          "showarrow": false,
          "text": "C14",
          "x": 2495.38594620495,
          "xref": "x",
          "y": 0.95,
          "yref": "paper"
         },
         {
          "align": "center",
          "font": {
           "size": 10
          },
          "showarrow": false,
          "text": "C15",
          "x": 2620.428325297073,
          "xref": "x",
          "y": 0.95,
          "yref": "paper"
         },
         {
          "align": "center",
          "font": {
           "size": 10
          },
          "showarrow": false,
          "text": "C16",
          "x": 2651.1458401188,
          "xref": "x",
          "y": 0.95,
          "yref": "paper"
         },
         {
          "align": "center",
          "font": {
           "size": 10
          },
          "showarrow": false,
          "text": "C17",
          "x": 2721.820895225605,
          "xref": "x",
          "y": 0.95,
          "yref": "paper"
         },
         {
          "align": "center",
          "font": {
           "size": 10
          },
          "showarrow": false,
          "text": "C18",
          "x": 2845.0761077274233,
          "xref": "x",
          "y": 0.95,
          "yref": "paper"
         },
         {
          "align": "center",
          "font": {
           "size": 10
          },
          "showarrow": false,
          "text": "C19",
          "x": 2934.244848815058,
          "xref": "x",
          "y": 0.95,
          "yref": "paper"
         }
        ],
        "font": {
         "color": "white",
         "family": "Arial",
         "size": 12
        },
        "margin": {
         "b": 50,
         "l": 50,
         "r": 50,
         "t": 50
        },
        "paper_bgcolor": "#1a1a1a",
        "plot_bgcolor": "#1a1a1a",
        "shapes": [
         {
          "line": {
           "color": "grey",
           "dash": "dot",
           "width": 1
          },
          "type": "line",
          "x0": 181.84332349001994,
          "x1": 181.84332349001994,
          "xref": "x",
          "y0": 0,
          "y1": 0.9,
          "yref": "paper"
         },
         {
          "line": {
           "color": "grey",
           "dash": "dot",
           "width": 1
          },
          "type": "line",
          "x0": 575.7527229016445,
          "x1": 575.7527229016445,
          "xref": "x",
          "y0": 0,
          "y1": 0.9,
          "yref": "paper"
         },
         {
          "line": {
           "color": "grey",
           "dash": "dot",
           "width": 1
          },
          "type": "line",
          "x0": 737.4599901678099,
          "x1": 737.4599901678099,
          "xref": "x",
          "y0": 0,
          "y1": 0.9,
          "yref": "paper"
         },
         {
          "line": {
           "color": "grey",
           "dash": "dot",
           "width": 1
          },
          "type": "line",
          "x0": 866.3697280411783,
          "x1": 866.3697280411783,
          "xref": "x",
          "y0": 0,
          "y1": 0.9,
          "yref": "paper"
         },
         {
          "line": {
           "color": "grey",
           "dash": "dot",
           "width": 1
          },
          "type": "line",
          "x0": 1091.3918387309345,
          "x1": 1091.3918387309345,
          "xref": "x",
          "y0": 0,
          "y1": 0.9,
          "yref": "paper"
         },
         {
          "line": {
           "color": "grey",
           "dash": "dot",
           "width": 1
          },
          "type": "line",
          "x0": 1220.0940246530383,
          "x1": 1220.0940246530383,
          "xref": "x",
          "y0": 0,
          "y1": 0.9,
          "yref": "paper"
         },
         {
          "line": {
           "color": "grey",
           "dash": "dot",
           "width": 1
          },
          "type": "line",
          "x0": 1299.82381824291,
          "x1": 1299.82381824291,
          "xref": "x",
          "y0": 0,
          "y1": 0.9,
          "yref": "paper"
         },
         {
          "line": {
           "color": "grey",
           "dash": "dot",
           "width": 1
          },
          "type": "line",
          "x0": 1387.4166298189782,
          "x1": 1387.4166298189782,
          "xref": "x",
          "y0": 0,
          "y1": 0.9,
          "yref": "paper"
         },
         {
          "line": {
           "color": "grey",
           "dash": "dot",
           "width": 1
          },
          "type": "line",
          "x0": 1725.6224580442633,
          "x1": 1725.6224580442633,
          "xref": "x",
          "y0": 0,
          "y1": 0.9,
          "yref": "paper"
         },
         {
          "line": {
           "color": "grey",
           "dash": "dot",
           "width": 1
          },
          "type": "line",
          "x0": 2037.9303113790354,
          "x1": 2037.9303113790354,
          "xref": "x",
          "y0": 0,
          "y1": 0.9,
          "yref": "paper"
         },
         {
          "line": {
           "color": "grey",
           "dash": "dot",
           "width": 1
          },
          "type": "line",
          "x0": 2096.076287083767,
          "x1": 2096.076287083767,
          "xref": "x",
          "y0": 0,
          "y1": 0.9,
          "yref": "paper"
         },
         {
          "line": {
           "color": "grey",
           "dash": "dot",
           "width": 1
          },
          "type": "line",
          "x0": 2314.1987291613245,
          "x1": 2314.1987291613245,
          "xref": "x",
          "y0": 0,
          "y1": 0.9,
          "yref": "paper"
         },
         {
          "line": {
           "color": "grey",
           "dash": "dot",
           "width": 1
          },
          "type": "line",
          "x0": 2475.5777139671964,
          "x1": 2475.5777139671964,
          "xref": "x",
          "y0": 0,
          "y1": 0.9,
          "yref": "paper"
         },
         {
          "line": {
           "color": "grey",
           "dash": "dot",
           "width": 1
          },
          "type": "line",
          "x0": 2495.38594620495,
          "x1": 2495.38594620495,
          "xref": "x",
          "y0": 0,
          "y1": 0.9,
          "yref": "paper"
         },
         {
          "line": {
           "color": "grey",
           "dash": "dot",
           "width": 1
          },
          "type": "line",
          "x0": 2620.428325297073,
          "x1": 2620.428325297073,
          "xref": "x",
          "y0": 0,
          "y1": 0.9,
          "yref": "paper"
         },
         {
          "line": {
           "color": "grey",
           "dash": "dot",
           "width": 1
          },
          "type": "line",
          "x0": 2651.1458401188,
          "x1": 2651.1458401188,
          "xref": "x",
          "y0": 0,
          "y1": 0.9,
          "yref": "paper"
         },
         {
          "line": {
           "color": "grey",
           "dash": "dot",
           "width": 1
          },
          "type": "line",
          "x0": 2721.820895225605,
          "x1": 2721.820895225605,
          "xref": "x",
          "y0": 0,
          "y1": 0.9,
          "yref": "paper"
         },
         {
          "line": {
           "color": "grey",
           "dash": "dot",
           "width": 1
          },
          "type": "line",
          "x0": 2845.0761077274233,
          "x1": 2845.0761077274233,
          "xref": "x",
          "y0": 0,
          "y1": 0.9,
          "yref": "paper"
         },
         {
          "line": {
           "color": "grey",
           "dash": "dot",
           "width": 1
          },
          "type": "line",
          "x0": 2934.244848815058,
          "x1": 2934.244848815058,
          "xref": "x",
          "y0": 0,
          "y1": 0.9,
          "yref": "paper"
         }
        ],
        "template": {
         "data": {
          "bar": [
           {
            "error_x": {
             "color": "#2a3f5f"
            },
            "error_y": {
             "color": "#2a3f5f"
            },
            "marker": {
             "line": {
              "color": "#E5ECF6",
              "width": 0.5
             },
             "pattern": {
              "fillmode": "overlay",
              "size": 10,
              "solidity": 0.2
             }
            },
            "type": "bar"
           }
          ],
          "barpolar": [
           {
            "marker": {
             "line": {
              "color": "#E5ECF6",
              "width": 0.5
             },
             "pattern": {
              "fillmode": "overlay",
              "size": 10,
              "solidity": 0.2
             }
            },
            "type": "barpolar"
           }
          ],
          "carpet": [
           {
            "aaxis": {
             "endlinecolor": "#2a3f5f",
             "gridcolor": "white",
             "linecolor": "white",
             "minorgridcolor": "white",
             "startlinecolor": "#2a3f5f"
            },
            "baxis": {
             "endlinecolor": "#2a3f5f",
             "gridcolor": "white",
             "linecolor": "white",
             "minorgridcolor": "white",
             "startlinecolor": "#2a3f5f"
            },
            "type": "carpet"
           }
          ],
          "choropleth": [
           {
            "colorbar": {
             "outlinewidth": 0,
             "ticks": ""
            },
            "type": "choropleth"
           }
          ],
          "contour": [
           {
            "colorbar": {
             "outlinewidth": 0,
             "ticks": ""
            },
            "colorscale": [
             [
              0,
              "#0d0887"
             ],
             [
              0.1111111111111111,
              "#46039f"
             ],
             [
              0.2222222222222222,
              "#7201a8"
             ],
             [
              0.3333333333333333,
              "#9c179e"
             ],
             [
              0.4444444444444444,
              "#bd3786"
             ],
             [
              0.5555555555555556,
              "#d8576b"
             ],
             [
              0.6666666666666666,
              "#ed7953"
             ],
             [
              0.7777777777777778,
              "#fb9f3a"
             ],
             [
              0.8888888888888888,
              "#fdca26"
             ],
             [
              1,
              "#f0f921"
             ]
            ],
            "type": "contour"
           }
          ],
          "contourcarpet": [
           {
            "colorbar": {
             "outlinewidth": 0,
             "ticks": ""
            },
            "type": "contourcarpet"
           }
          ],
          "heatmap": [
           {
            "colorbar": {
             "outlinewidth": 0,
             "ticks": ""
            },
            "colorscale": [
             [
              0,
              "#0d0887"
             ],
             [
              0.1111111111111111,
              "#46039f"
             ],
             [
              0.2222222222222222,
              "#7201a8"
             ],
             [
              0.3333333333333333,
              "#9c179e"
             ],
             [
              0.4444444444444444,
              "#bd3786"
             ],
             [
              0.5555555555555556,
              "#d8576b"
             ],
             [
              0.6666666666666666,
              "#ed7953"
             ],
             [
              0.7777777777777778,
              "#fb9f3a"
             ],
             [
              0.8888888888888888,
              "#fdca26"
             ],
             [
              1,
              "#f0f921"
             ]
            ],
            "type": "heatmap"
           }
          ],
          "heatmapgl": [
           {
            "colorbar": {
             "outlinewidth": 0,
             "ticks": ""
            },
            "colorscale": [
             [
              0,
              "#0d0887"
             ],
             [
              0.1111111111111111,
              "#46039f"
             ],
             [
              0.2222222222222222,
              "#7201a8"
             ],
             [
              0.3333333333333333,
              "#9c179e"
             ],
             [
              0.4444444444444444,
              "#bd3786"
             ],
             [
              0.5555555555555556,
              "#d8576b"
             ],
             [
              0.6666666666666666,
              "#ed7953"
             ],
             [
              0.7777777777777778,
              "#fb9f3a"
             ],
             [
              0.8888888888888888,
              "#fdca26"
             ],
             [
              1,
              "#f0f921"
             ]
            ],
            "type": "heatmapgl"
           }
          ],
          "histogram": [
           {
            "marker": {
             "pattern": {
              "fillmode": "overlay",
              "size": 10,
              "solidity": 0.2
             }
            },
            "type": "histogram"
           }
          ],
          "histogram2d": [
           {
            "colorbar": {
             "outlinewidth": 0,
             "ticks": ""
            },
            "colorscale": [
             [
              0,
              "#0d0887"
             ],
             [
              0.1111111111111111,
              "#46039f"
             ],
             [
              0.2222222222222222,
              "#7201a8"
             ],
             [
              0.3333333333333333,
              "#9c179e"
             ],
             [
              0.4444444444444444,
              "#bd3786"
             ],
             [
              0.5555555555555556,
              "#d8576b"
             ],
             [
              0.6666666666666666,
              "#ed7953"
             ],
             [
              0.7777777777777778,
              "#fb9f3a"
             ],
             [
              0.8888888888888888,
              "#fdca26"
             ],
             [
              1,
              "#f0f921"
             ]
            ],
            "type": "histogram2d"
           }
          ],
          "histogram2dcontour": [
           {
            "colorbar": {
             "outlinewidth": 0,
             "ticks": ""
            },
            "colorscale": [
             [
              0,
              "#0d0887"
             ],
             [
              0.1111111111111111,
              "#46039f"
             ],
             [
              0.2222222222222222,
              "#7201a8"
             ],
             [
              0.3333333333333333,
              "#9c179e"
             ],
             [
              0.4444444444444444,
              "#bd3786"
             ],
             [
              0.5555555555555556,
              "#d8576b"
             ],
             [
              0.6666666666666666,
              "#ed7953"
             ],
             [
              0.7777777777777778,
              "#fb9f3a"
             ],
             [
              0.8888888888888888,
              "#fdca26"
             ],
             [
              1,
              "#f0f921"
             ]
            ],
            "type": "histogram2dcontour"
           }
          ],
          "mesh3d": [
           {
            "colorbar": {
             "outlinewidth": 0,
             "ticks": ""
            },
            "type": "mesh3d"
           }
          ],
          "parcoords": [
           {
            "line": {
             "colorbar": {
              "outlinewidth": 0,
              "ticks": ""
             }
            },
            "type": "parcoords"
           }
          ],
          "pie": [
           {
            "automargin": true,
            "type": "pie"
           }
          ],
          "scatter": [
           {
            "fillpattern": {
             "fillmode": "overlay",
             "size": 10,
             "solidity": 0.2
            },
            "type": "scatter"
           }
          ],
          "scatter3d": [
           {
            "line": {
             "colorbar": {
              "outlinewidth": 0,
              "ticks": ""
             }
            },
            "marker": {
             "colorbar": {
              "outlinewidth": 0,
              "ticks": ""
             }
            },
            "type": "scatter3d"
           }
          ],
          "scattercarpet": [
           {
            "marker": {
             "colorbar": {
              "outlinewidth": 0,
              "ticks": ""
             }
            },
            "type": "scattercarpet"
           }
          ],
          "scattergeo": [
           {
            "marker": {
             "colorbar": {
              "outlinewidth": 0,
              "ticks": ""
             }
            },
            "type": "scattergeo"
           }
          ],
          "scattergl": [
           {
            "marker": {
             "colorbar": {
              "outlinewidth": 0,
              "ticks": ""
             }
            },
            "type": "scattergl"
           }
          ],
          "scattermapbox": [
           {
            "marker": {
             "colorbar": {
              "outlinewidth": 0,
              "ticks": ""
             }
            },
            "type": "scattermapbox"
           }
          ],
          "scatterpolar": [
           {
            "marker": {
             "colorbar": {
              "outlinewidth": 0,
              "ticks": ""
             }
            },
            "type": "scatterpolar"
           }
          ],
          "scatterpolargl": [
           {
            "marker": {
             "colorbar": {
              "outlinewidth": 0,
              "ticks": ""
             }
            },
            "type": "scatterpolargl"
           }
          ],
          "scatterternary": [
           {
            "marker": {
             "colorbar": {
              "outlinewidth": 0,
              "ticks": ""
             }
            },
            "type": "scatterternary"
           }
          ],
          "surface": [
           {
            "colorbar": {
             "outlinewidth": 0,
             "ticks": ""
            },
            "colorscale": [
             [
              0,
              "#0d0887"
             ],
             [
              0.1111111111111111,
              "#46039f"
             ],
             [
              0.2222222222222222,
              "#7201a8"
             ],
             [
              0.3333333333333333,
              "#9c179e"
             ],
             [
              0.4444444444444444,
              "#bd3786"
             ],
             [
              0.5555555555555556,
              "#d8576b"
             ],
             [
              0.6666666666666666,
              "#ed7953"
             ],
             [
              0.7777777777777778,
              "#fb9f3a"
             ],
             [
              0.8888888888888888,
              "#fdca26"
             ],
             [
              1,
              "#f0f921"
             ]
            ],
            "type": "surface"
           }
          ],
          "table": [
           {
            "cells": {
             "fill": {
              "color": "#EBF0F8"
             },
             "line": {
              "color": "white"
             }
            },
            "header": {
             "fill": {
              "color": "#C8D4E3"
             },
             "line": {
              "color": "white"
             }
            },
            "type": "table"
           }
          ]
         },
         "layout": {
          "annotationdefaults": {
           "arrowcolor": "#2a3f5f",
           "arrowhead": 0,
           "arrowwidth": 1
          },
          "autotypenumbers": "strict",
          "coloraxis": {
           "colorbar": {
            "outlinewidth": 0,
            "ticks": ""
           }
          },
          "colorscale": {
           "diverging": [
            [
             0,
             "#8e0152"
            ],
            [
             0.1,
             "#c51b7d"
            ],
            [
             0.2,
             "#de77ae"
            ],
            [
             0.3,
             "#f1b6da"
            ],
            [
             0.4,
             "#fde0ef"
            ],
            [
             0.5,
             "#f7f7f7"
            ],
            [
             0.6,
             "#e6f5d0"
            ],
            [
             0.7,
             "#b8e186"
            ],
            [
             0.8,
             "#7fbc41"
            ],
            [
             0.9,
             "#4d9221"
            ],
            [
             1,
             "#276419"
            ]
           ],
           "sequential": [
            [
             0,
             "#0d0887"
            ],
            [
             0.1111111111111111,
             "#46039f"
            ],
            [
             0.2222222222222222,
             "#7201a8"
            ],
            [
             0.3333333333333333,
             "#9c179e"
            ],
            [
             0.4444444444444444,
             "#bd3786"
            ],
            [
             0.5555555555555556,
             "#d8576b"
            ],
            [
             0.6666666666666666,
             "#ed7953"
            ],
            [
             0.7777777777777778,
             "#fb9f3a"
            ],
            [
             0.8888888888888888,
             "#fdca26"
            ],
            [
             1,
             "#f0f921"
            ]
           ],
           "sequentialminus": [
            [
             0,
             "#0d0887"
            ],
            [
             0.1111111111111111,
             "#46039f"
            ],
            [
             0.2222222222222222,
             "#7201a8"
            ],
            [
             0.3333333333333333,
             "#9c179e"
            ],
            [
             0.4444444444444444,
             "#bd3786"
            ],
            [
             0.5555555555555556,
             "#d8576b"
            ],
            [
             0.6666666666666666,
             "#ed7953"
            ],
            [
             0.7777777777777778,
             "#fb9f3a"
            ],
            [
             0.8888888888888888,
             "#fdca26"
            ],
            [
             1,
             "#f0f921"
            ]
           ]
          },
          "colorway": [
           "#636efa",
           "#EF553B",
           "#00cc96",
           "#ab63fa",
           "#FFA15A",
           "#19d3f3",
           "#FF6692",
           "#B6E880",
           "#FF97FF",
           "#FECB52"
          ],
          "font": {
           "color": "#2a3f5f"
          },
          "geo": {
           "bgcolor": "white",
           "lakecolor": "white",
           "landcolor": "#E5ECF6",
           "showlakes": true,
           "showland": true,
           "subunitcolor": "white"
          },
          "hoverlabel": {
           "align": "left"
          },
          "hovermode": "closest",
          "mapbox": {
           "style": "light"
          },
          "paper_bgcolor": "white",
          "plot_bgcolor": "#E5ECF6",
          "polar": {
           "angularaxis": {
            "gridcolor": "white",
            "linecolor": "white",
            "ticks": ""
           },
           "bgcolor": "#E5ECF6",
           "radialaxis": {
            "gridcolor": "white",
            "linecolor": "white",
            "ticks": ""
           }
          },
          "scene": {
           "xaxis": {
            "backgroundcolor": "#E5ECF6",
            "gridcolor": "white",
            "gridwidth": 2,
            "linecolor": "white",
            "showbackground": true,
            "ticks": "",
            "zerolinecolor": "white"
           },
           "yaxis": {
            "backgroundcolor": "#E5ECF6",
            "gridcolor": "white",
            "gridwidth": 2,
            "linecolor": "white",
            "showbackground": true,
            "ticks": "",
            "zerolinecolor": "white"
           },
           "zaxis": {
            "backgroundcolor": "#E5ECF6",
            "gridcolor": "white",
            "gridwidth": 2,
            "linecolor": "white",
            "showbackground": true,
            "ticks": "",
            "zerolinecolor": "white"
           }
          },
          "shapedefaults": {
           "line": {
            "color": "#2a3f5f"
           }
          },
          "ternary": {
           "aaxis": {
            "gridcolor": "white",
            "linecolor": "white",
            "ticks": ""
           },
           "baxis": {
            "gridcolor": "white",
            "linecolor": "white",
            "ticks": ""
           },
           "bgcolor": "#E5ECF6",
           "caxis": {
            "gridcolor": "white",
            "linecolor": "white",
            "ticks": ""
           }
          },
          "title": {
           "x": 0.05
          },
          "xaxis": {
           "automargin": true,
           "gridcolor": "white",
           "linecolor": "white",
           "ticks": "",
           "title": {
            "standoff": 15
           },
           "zerolinecolor": "white",
           "zerolinewidth": 2
          },
          "yaxis": {
           "automargin": true,
           "gridcolor": "white",
           "linecolor": "white",
           "ticks": "",
           "title": {
            "standoff": 15
           },
           "zerolinecolor": "white",
           "zerolinewidth": 2
          }
         }
        },
        "title": {
         "text": "Fastest Lap: Driver Speed Comparison",
         "x": 0.5,
         "xanchor": "center"
        },
        "xaxis": {
         "title": {
          "text": "Distance (m)"
         }
        },
        "yaxis": {
         "title": {
          "text": "Speed (Km/h)"
         }
        }
       }
      }
     },
     "metadata": {},
     "output_type": "display_data"
    }
   ],
   "source": [
    "plot_lap_telemetry_comparison(session, 'LEC', 'PIA', 'Speed')"
   ]
  },
  {
   "cell_type": "markdown",
   "metadata": {},
   "source": [
    "Same concept as the previous graph, but with the throttle percentage on the y-axis (made specifically for use in the interactive dashboard)."
   ]
  },
  {
   "cell_type": "code",
   "execution_count": 13,
   "metadata": {},
   "outputs": [
    {
     "data": {
      "application/vnd.plotly.v1+json": {
       "config": {
        "plotlyServerURL": "https://plot.ly"
       },
       "data": [
        {
         "hovertemplate": "<b>LEC</b><br><b>Throttle: %{y} %</b><extra></extra>",
         "line": {
          "color": "#dc0000"
         },
         "mode": "lines",
         "name": "Leclerc",
         "type": "scatter",
         "x": [
          19.133333333333333,
          47.43333333333334,
          69.67777777777778,
          91.92222222222222,
          109.92222222222222,
          135.46666666666667,
          147.86666666666665,
          160,
          167.7222222222222,
          175.16666666666666,
          180.72222222222223,
          187.38888888888889,
          195.1888888888889,
          204.36666666666667,
          213.7777777777778,
          221.00000000000003,
          227,
          237.06666666666666,
          246.01111111111112,
          255.45555555555558,
          273.25555555555553,
          297.7,
          306.76666666666665,
          320.9,
          330.45555555555546,
          350.3666666666666,
          365.6333333333333,
          383.83333333333337,
          402.4222222222222,
          435.22222222222223,
          454.7361111111111,
          465.86611111111114,
          491.56611111111107,
          503.03277777777777,
          517.4216666666666,
          546.755,
          576.3105555555555,
          588.2661111111111,
          612.2661111111111,
          624.2661111111111,
          636.3549999999999,
          655.9549999999998,
          666.8438888888887,
          686.4883333333332,
          698.2105555555554,
          715.8994444444443,
          726.677222222222,
          740.7549999999998,
          748.7105555555553,
          765.8105555555553,
          779.2661111111108,
          786.9994444444442,
          802.7327777777775,
          816.9661111111109,
          829.2994444444442,
          839.1883333333332,
          846.8327777777777,
          855.933611111111,
          864.9891666666666,
          878.103611111111,
          889.7702777777778,
          901.6702777777778,
          914.1147222222222,
          921.4925,
          935.1813888888887,
          954.3813888888886,
          963.0924999999997,
          974.4258333333332,
          988.5591666666664,
          1000.7258333333331,
          1010.5924999999997,
          1023.2036111111108,
          1040.9813888888887,
          1048.803611111111,
          1063.6924999999999,
          1075.6924999999999,
          1080.1813888888887,
          1084.4480555555554,
          1091.0591666666664,
          1094.6591666666664,
          1099.1036111111107,
          1105.1702777777773,
          1110.236944444444,
          1115.5702777777772,
          1122.439166666666,
          1127.4947222222215,
          1135.7872222222215,
          1155.431666666666,
          1169.1205555555548,
          1179.053888888888,
          1185.3205555555546,
          1196.8761111111103,
          1200.9205555555548,
          1206.9094444444436,
          1210.9094444444436,
          1214.5761111111103,
          1217.9649999999992,
          1221.0761111111103,
          1224.6094444444436,
          1227.4427777777769,
          1230.7094444444435,
          1232.753888888888,
          1236.0872222222213,
          1242.3094444444434,
          1245.6427777777767,
          1250.0427777777768,
          1254.9094444444434,
          1258.5538888888877,
          1262.4205555555543,
          1269.2205555555543,
          1275.1094444444432,
          1279.5538888888875,
          1288.779444444443,
          1292.5572222222208,
          1296.2672222222209,
          1306.4116666666653,
          1310.1005555555541,
          1314.7672222222209,
          1318.7672222222209,
          1329.2672222222209,
          1337.0005555555542,
          1348.467222222221,
          1356.467222222221,
          1362.578333333332,
          1368.189444444443,
          1373.6338888888874,
          1381.989444444443,
          1388.0561111111097,
          1395.0561111111097,
          1406.6672222222207,
          1416.4449999999986,
          1422.778333333332,
          1431.5783333333322,
          1439.578333333332,
          1451.6338888888877,
          1458.5227777777768,
          1470.1894444444433,
          1480.633888888888,
          1500.5891666666655,
          1514.522499999999,
          1533.8397222222213,
          1546.2841666666654,
          1569.5841666666654,
          1585.4508333333322,
          1601.5841666666656,
          1618.0508333333323,
          1637.650833333332,
          1648.9397222222212,
          1660.3174999999987,
          1677.6508333333322,
          1698.106388888888,
          1721.6619444444436,
          1733.52861111111,
          1757.52861111111,
          1778.7619444444433,
          1797.0952777777768,
          1812.539722222221,
          1837.4286111111098,
          1859.2841666666654,
          1878.2841666666657,
          1897.3508333333325,
          1919.595277777777,
          1932.3952777777768,
          1966.572777777777,
          1992.9727777777769,
          2008.5683333333325,
          2021.8683333333324,
          2029.8683333333322,
          2038.1127777777767,
          2050.112777777777,
          2053.890555555555,
          2058.390555555555,
          2063.5905555555546,
          2067.5905555555546,
          2073.812777777777,
          2078.74611111111,
          2083.134999999999,
          2091.134999999999,
          2095.134999999999,
          2108.134999999999,
          2123.6905555555545,
          2130.4016666666657,
          2137.5572222222213,
          2152.6683333333326,
          2171.3683333333324,
          2180.0349999999994,
          2193.234999999999,
          2209.704722222222,
          2232.004722222222,
          2247.2713888888884,
          2257.493611111111,
          2286.2725,
          2304.139166666667,
          2316.6058333333335,
          2330.5280555555555,
          2348.7280555555553,
          2356.950277777778,
          2374.2836111111114,
          2387.8169444444447,
          2404.2280555555553,
          2416.2280555555553,
          2426.094722222222,
          2436.005833333333,
          2459.205833333333,
          2472.150277777778,
          2493.2169444444444,
          2514.7280555555553,
          2536.7724999999996,
          2556.2169444444435,
          2601.4994444444433,
          2617.3994444444434,
          2624.06611111111,
          2633.66611111111,
          2639.8052777777766,
          2650.6163888888877,
          2665.2830555555543,
          2679.83861111111,
          2688.9052777777765,
          2696.9052777777765,
          2703.7052777777767,
          2714.5719444444435,
          2726.105277777777,
          2744.905277777777,
          2760.0719444444435,
          2769.005277777777,
          2782.805277777777,
          2801.994166666666,
          2814.260833333333,
          2820.4274999999993,
          2830.760833333333,
          2835.094166666666,
          2841.0497222222216,
          2844.494166666666,
          2847.2222222222217,
          2853.3222222222216,
          2856.8222222222216,
          2865.3777777777773,
          2873.754444444444,
          2879.954444444444,
          2887.965555555555,
          2894.743333333333,
          2903.0099999999998,
          2911.1766666666663,
          2915.6655555555553,
          2923.6655555555553,
          2929.332222222222,
          2936.7099999999996,
          2942.4433333333327,
          2946.487777777777,
          2954.265555555555,
          2960.154444444444,
          2967.0988888888883,
          2977.754444444444,
          2988.4211111111103,
          3005.8211111111104,
          3013.998888888888,
          3022.354444444444,
          3031.065555555555,
          3047.0877777777773,
          3061.213055555555,
          3070.9908333333324,
          3088.646388888888,
          3104.2463888888874,
          3131.46861111111,
          3162.1986111111096,
          3173.5763888888882,
          3190.9097222222213,
          3220.354166666666,
          3238.420833333332
         ],
         "y": [
          99,
          99,
          99,
          99,
          2,
          0,
          0,
          0,
          0,
          0,
          2,
          7,
          32,
          54,
          76,
          92,
          92,
          99,
          99,
          99,
          99,
          99,
          99,
          99,
          99,
          99,
          99,
          99,
          99,
          99,
          99,
          99,
          99,
          99,
          99,
          99,
          99,
          99,
          99,
          99,
          99,
          4,
          3,
          4,
          6,
          8,
          9,
          10,
          10,
          52,
          75,
          77,
          75,
          68,
          6,
          3,
          5,
          6,
          6,
          52,
          61,
          80,
          76,
          90,
          99,
          99,
          99,
          99,
          99,
          99,
          99,
          100,
          0,
          0,
          0,
          0,
          0,
          0,
          0,
          0,
          0,
          3,
          43,
          47,
          57,
          59,
          77,
          99,
          99,
          0,
          0,
          0,
          0,
          0,
          0,
          0,
          0,
          0,
          0,
          2,
          14,
          17,
          25,
          40,
          46,
          49,
          61,
          67,
          69,
          73,
          0,
          0,
          0,
          0,
          0,
          32,
          37,
          48,
          56,
          80,
          89,
          23,
          1,
          2,
          0,
          5,
          0,
          8,
          29,
          62,
          80,
          99,
          99,
          99,
          99,
          99,
          99,
          99,
          99,
          99,
          99,
          99,
          99,
          99,
          99,
          99,
          99,
          99,
          99,
          99,
          99,
          99,
          99,
          99,
          99,
          99,
          99,
          99,
          99,
          99,
          99,
          99,
          99,
          5,
          0,
          0,
          0,
          0,
          0,
          0,
          0,
          0,
          0,
          7,
          30,
          30,
          58,
          71,
          72,
          99,
          99,
          99,
          99,
          99,
          99,
          99,
          99,
          99,
          99,
          99,
          99,
          15,
          9,
          16,
          62,
          76,
          99,
          99,
          99,
          99,
          99,
          99,
          99,
          99,
          99,
          99,
          99,
          99,
          99,
          3,
          6,
          8,
          9,
          25,
          21,
          20,
          62,
          99,
          99,
          99,
          99,
          99,
          99,
          99,
          99,
          0,
          0,
          0,
          0,
          0,
          0,
          0,
          1,
          1,
          26,
          34,
          51,
          69,
          74,
          84,
          99,
          0,
          0,
          0,
          0,
          0,
          43,
          57,
          69,
          87,
          99,
          99,
          99,
          99,
          99,
          99,
          99,
          99,
          99,
          99,
          99,
          99,
          99,
          99,
          99,
          99,
          99,
          99,
          99
         ]
        },
        {
         "hovertemplate": "<b>PIA</b><br><b>Throttle: %{y} %</b><extra></extra>",
         "line": {
          "color": "#ff8700"
         },
         "mode": "lines",
         "name": "Piastri",
         "type": "scatter",
         "x": [
          7.230555555555556,
          22.730555555555554,
          54.06388888888888,
          85.84166666666667,
          98.375,
          119.44166666666666,
          128.775,
          137.0861111111111,
          149.9972222222222,
          157.06388888888887,
          169.15277777777774,
          176.43055555555551,
          187.54166666666663,
          194.3194444444444,
          203.7305555555555,
          209.28611111111107,
          222.48611111111106,
          233.6083333333333,
          240.4083333333333,
          255.16388888888883,
          269.08611111111105,
          281.55277777777775,
          292.3305555555555,
          301.21944444444443,
          312.77694444444444,
          324.5547222222222,
          343.9605555555555,
          361.4605555555555,
          379.58277777777766,
          398.016111111111,
          408.6827777777777,
          427.6605555555555,
          452.56055555555554,
          463.7605555555555,
          477.8716666666666,
          494.8716666666666,
          509.1494444444443,
          520.6605555555554,
          535.1605555555556,
          558.716111111111,
          570.5383333333332,
          600.316111111111,
          630.0938888888888,
          641.8716666666667,
          653.4272222222222,
          671.9383333333333,
          682.2938888888889,
          694.7938888888889,
          711.6716666666667,
          725.205,
          738.205,
          752.5672222222222,
          762.6227777777779,
          776.2627777777778,
          801.8294444444444,
          817.6516666666666,
          829.6516666666666,
          837.5627777777778,
          855.785,
          862.9405555555555,
          875.1516666666666,
          883.5961111111111,
          892.1516666666666,
          900.9294444444445,
          910.0961111111111,
          921.9627777777778,
          932.2405555555555,
          945.0405555555556,
          953.885,
          967.6183333333332,
          991.8405555555554,
          1004.285,
          1019.6849999999998,
          1033.6183333333333,
          1041.7516666666668,
          1049.3072222222222,
          1058.8405555555555,
          1065.8405555555555,
          1071.4405555555554,
          1082.07,
          1086.6033333333332,
          1090.9758333333332,
          1102.0980555555554,
          1106.053611111111,
          1110.8869444444442,
          1114.575833333333,
          1123.375833333333,
          1129.575833333333,
          1138.7313888888887,
          1146.1980555555554,
          1152.6424999999997,
          1160.0313888888886,
          1167.975833333333,
          1181.7536111111108,
          1190.2202777777775,
          1198.075833333333,
          1207.853611111111,
          1213.9869444444444,
          1217.5980555555554,
          1221.664722222222,
          1224.8313888888888,
          1229.0313888888888,
          1231.3425,
          1234.6758333333332,
          1237.2869444444443,
          1242.5013888888889,
          1246.1680555555556,
          1251.6619444444445,
          1255.5508333333335,
          1263.9508333333335,
          1270.5508333333337,
          1277.4175000000002,
          1284.1508333333336,
          1291.6175000000003,
          1295.7508333333337,
          1299.7952777777782,
          1305.5952777777782,
          1312.284166666667,
          1320.373055555556,
          1324.461944444445,
          1334.1508333333338,
          1343.5619444444449,
          1352.4286111111114,
          1359.1508333333336,
          1369.0175000000004,
          1377.1063888888893,
          1383.9063888888893,
          1390.4397222222226,
          1397.8286111111115,
          1402.0063888888892,
          1414.3788888888892,
          1428.556666666667,
          1439.9875000000002,
          1455.0875,
          1465.8208333333334,
          1479.4319444444445,
          1505.4319444444443,
          1514.2319444444445,
          1525.6208333333332,
          1539.8875,
          1552.1097222222224,
          1572.2875000000001,
          1587.7541666666664,
          1600.9208333333331,
          1622.3430555555553,
          1633.2763888888885,
          1661.3875,
          1689.9430555555555,
          1701.4986111111107,
          1713.098611111111,
          1736.6541666666667,
          1763.3541666666667,
          1775.309722222222,
          1793.4430555555555,
          1814.8302777777776,
          1842.5302777777777,
          1861.1302777777778,
          1873.5747222222226,
          1908.0850000000003,
          1933.329444444444,
          1952.196111111111,
          1974.0516666666665,
          1996.4516666666664,
          2005.8294444444443,
          2021.296111111111,
          2030.8961111111107,
          2040.3072222222218,
          2046.7516666666663,
          2051.5516666666663,
          2056.0405555555553,
          2065.0405555555553,
          2069.651666666666,
          2076.6738888888885,
          2083.1627777777776,
          2089.296111111111,
          2094.9738888888887,
          2121.836388888889,
          2134.736388888889,
          2140.4697222222226,
          2150.4697222222226,
          2157.2713888888893,
          2170.4158333333335,
          2191.1936111111117,
          2213.526944444445,
          2227.5936111111114,
          2239.6491666666666,
          2249.3825,
          2264.5158333333334,
          2279.9158333333335,
          2301.0158333333334,
          2316.4158333333335,
          2324.993611111111,
          2337.393611111111,
          2360.249166666667,
          2377.5825,
          2388.6936111111113,
          2412.1380555555556,
          2424.1380555555556,
          2444.0491666666667,
          2456.715833333333,
          2467.0466666666666,
          2490.5466666666666,
          2503.7133333333336,
          2533.5355555555557,
          2558.366388888889,
          2574.9663888888895,
          2594.1775000000007,
          2606.733055555556,
          2619.6663888888893,
          2633.355277777778,
          2640.866388888889,
          2654.821944444445,
          2664.7552777777782,
          2677.2886111111115,
          2686.621944444445,
          2692.6663888888893,
          2703.0108333333337,
          2710.455277777778,
          2718.0108333333337,
          2729.7552777777782,
          2740.488611111112,
          2758.488611111112,
          2766.621944444445,
          2774.888611111112,
          2783.5997222222227,
          2799.233055555556,
          2812.0863888888894,
          2820.1752777777783,
          2831.9975000000004,
          2840.1975000000007,
          2850.641944444445,
          2860.3975000000005,
          2863.7752777777782,
          2868.641944444445,
          2876.0863888888894,
          2880.153055555556,
          2887.375277777778,
          2895.486388888889,
          2900.9530555555557,
          2906.0641666666666,
          2910.4197222222224,
          2915.264166666667,
          2926.286388888889,
          2936.786388888889,
          2941.1863888888893,
          2945.4086111111114,
          2953.053055555556,
          2956.786388888889,
          2964.253055555556,
          2970.253055555556,
          2979.1419444444446,
          2985.395277777778,
          2993.5286111111113,
          3002.0619444444446,
          3017.6619444444445,
          3025.0397222222227,
          3041.0397222222223,
          3062.873888888889,
          3076.4738888888887,
          3093.196111111111,
          3115.8961111111107,
          3133.9405555555554,
          3149.940555555556,
          3160.7405555555556,
          3180.1072222222224,
          3205.6072222222224,
          3228.9849999999997,
          3240.8072222222218,
          3258.7405555555556,
          3279.8183333333336,
          3291.996111111111
         ],
         "y": [
          100,
          100,
          98,
          79,
          0,
          0,
          0,
          0,
          0,
          0,
          0,
          0,
          0,
          15,
          30,
          64,
          76,
          97,
          99,
          99,
          99,
          99,
          100,
          100,
          99,
          99,
          100,
          100,
          100,
          100,
          100,
          100,
          100,
          99,
          100,
          100,
          100,
          100,
          100,
          100,
          100,
          100,
          9,
          0,
          0,
          0,
          0,
          0,
          0,
          0,
          0,
          1,
          31,
          54,
          58,
          59,
          47,
          1,
          1,
          1,
          26,
          55,
          68,
          78,
          93,
          100,
          100,
          100,
          100,
          99,
          99,
          99,
          60,
          0,
          0,
          0,
          0,
          0,
          0,
          0,
          0,
          0,
          0,
          0,
          0,
          23,
          39,
          42,
          77,
          78,
          88,
          99,
          99,
          4,
          0,
          0,
          0,
          0,
          0,
          0,
          0,
          0,
          1,
          7,
          16,
          28,
          28,
          42,
          51,
          59,
          62,
          7,
          0,
          0,
          0,
          0,
          8,
          35,
          50,
          54,
          78,
          83,
          0,
          0,
          0,
          0,
          0,
          0,
          20,
          25,
          58,
          76,
          99,
          100,
          99,
          100,
          100,
          100,
          100,
          100,
          100,
          99,
          100,
          99,
          99,
          100,
          100,
          100,
          100,
          100,
          100,
          100,
          100,
          100,
          100,
          100,
          100,
          100,
          100,
          100,
          100,
          0,
          0,
          0,
          0,
          0,
          0,
          0,
          0,
          0,
          0,
          2,
          2,
          9,
          17,
          27,
          80,
          92,
          99,
          100,
          99,
          100,
          99,
          100,
          99,
          99,
          100,
          100,
          100,
          0,
          0,
          1,
          10,
          98,
          99,
          100,
          100,
          100,
          99,
          100,
          100,
          100,
          99,
          100,
          100,
          100,
          0,
          0,
          0,
          0,
          0,
          0,
          0,
          0,
          5,
          10,
          48,
          48,
          81,
          99,
          100,
          100,
          99,
          99,
          99,
          99,
          0,
          0,
          0,
          0,
          0,
          0,
          0,
          0,
          1,
          16,
          41,
          51,
          71,
          77,
          78,
          91,
          0,
          0,
          0,
          0,
          0,
          8,
          32,
          39,
          72,
          82,
          92,
          99,
          99,
          99,
          99,
          100,
          100,
          100,
          100,
          100,
          100,
          100,
          100,
          100,
          100,
          100,
          100,
          100,
          100
         ]
        }
       ],
       "layout": {
        "annotations": [
         {
          "align": "center",
          "font": {
           "size": 10
          },
          "showarrow": false,
          "text": "C1",
          "x": 181.84332349001994,
          "xref": "x",
          "y": 0.95,
          "yref": "paper"
         },
         {
          "align": "center",
          "font": {
           "size": 10
          },
          "showarrow": false,
          "text": "C2",
          "x": 575.7527229016445,
          "xref": "x",
          "y": 0.95,
          "yref": "paper"
         },
         {
          "align": "center",
          "font": {
           "size": 10
          },
          "showarrow": false,
          "text": "C3",
          "x": 737.4599901678099,
          "xref": "x",
          "y": 0.95,
          "yref": "paper"
         },
         {
          "align": "center",
          "font": {
           "size": 10
          },
          "showarrow": false,
          "text": "C4",
          "x": 866.3697280411783,
          "xref": "x",
          "y": 0.95,
          "yref": "paper"
         },
         {
          "align": "center",
          "font": {
           "size": 10
          },
          "showarrow": false,
          "text": "C5",
          "x": 1091.3918387309345,
          "xref": "x",
          "y": 0.95,
          "yref": "paper"
         },
         {
          "align": "center",
          "font": {
           "size": 10
          },
          "showarrow": false,
          "text": "C6",
          "x": 1220.0940246530383,
          "xref": "x",
          "y": 0.95,
          "yref": "paper"
         },
         {
          "align": "center",
          "font": {
           "size": 10
          },
          "showarrow": false,
          "text": "C7",
          "x": 1299.82381824291,
          "xref": "x",
          "y": 0.95,
          "yref": "paper"
         },
         {
          "align": "center",
          "font": {
           "size": 10
          },
          "showarrow": false,
          "text": "C8",
          "x": 1387.4166298189782,
          "xref": "x",
          "y": 0.95,
          "yref": "paper"
         },
         {
          "align": "center",
          "font": {
           "size": 10
          },
          "showarrow": false,
          "text": "C9",
          "x": 1725.6224580442633,
          "xref": "x",
          "y": 0.95,
          "yref": "paper"
         },
         {
          "align": "center",
          "font": {
           "size": 10
          },
          "showarrow": false,
          "text": "C10",
          "x": 2037.9303113790354,
          "xref": "x",
          "y": 0.95,
          "yref": "paper"
         },
         {
          "align": "center",
          "font": {
           "size": 10
          },
          "showarrow": false,
          "text": "C11",
          "x": 2096.076287083767,
          "xref": "x",
          "y": 0.95,
          "yref": "paper"
         },
         {
          "align": "center",
          "font": {
           "size": 10
          },
          "showarrow": false,
          "text": "C12",
          "x": 2314.1987291613245,
          "xref": "x",
          "y": 0.95,
          "yref": "paper"
         },
         {
          "align": "center",
          "font": {
           "size": 10
          },
          "showarrow": false,
          "text": "C13",
          "x": 2475.5777139671964,
          "xref": "x",
          "y": 0.95,
          "yref": "paper"
         },
         {
          "align": "center",
          "font": {
           "size": 10
          },
          "showarrow": false,
          "text": "C14",
          "x": 2495.38594620495,
          "xref": "x",
          "y": 0.95,
          "yref": "paper"
         },
         {
          "align": "center",
          "font": {
           "size": 10
          },
          "showarrow": false,
          "text": "C15",
          "x": 2620.428325297073,
          "xref": "x",
          "y": 0.95,
          "yref": "paper"
         },
         {
          "align": "center",
          "font": {
           "size": 10
          },
          "showarrow": false,
          "text": "C16",
          "x": 2651.1458401188,
          "xref": "x",
          "y": 0.95,
          "yref": "paper"
         },
         {
          "align": "center",
          "font": {
           "size": 10
          },
          "showarrow": false,
          "text": "C17",
          "x": 2721.820895225605,
          "xref": "x",
          "y": 0.95,
          "yref": "paper"
         },
         {
          "align": "center",
          "font": {
           "size": 10
          },
          "showarrow": false,
          "text": "C18",
          "x": 2845.0761077274233,
          "xref": "x",
          "y": 0.95,
          "yref": "paper"
         },
         {
          "align": "center",
          "font": {
           "size": 10
          },
          "showarrow": false,
          "text": "C19",
          "x": 2934.244848815058,
          "xref": "x",
          "y": 0.95,
          "yref": "paper"
         }
        ],
        "font": {
         "color": "white",
         "family": "Arial",
         "size": 12
        },
        "margin": {
         "b": 50,
         "l": 50,
         "r": 50,
         "t": 50
        },
        "paper_bgcolor": "#1a1a1a",
        "plot_bgcolor": "#1a1a1a",
        "shapes": [
         {
          "line": {
           "color": "grey",
           "dash": "dot",
           "width": 1
          },
          "type": "line",
          "x0": 181.84332349001994,
          "x1": 181.84332349001994,
          "xref": "x",
          "y0": 0,
          "y1": 0.9,
          "yref": "paper"
         },
         {
          "line": {
           "color": "grey",
           "dash": "dot",
           "width": 1
          },
          "type": "line",
          "x0": 575.7527229016445,
          "x1": 575.7527229016445,
          "xref": "x",
          "y0": 0,
          "y1": 0.9,
          "yref": "paper"
         },
         {
          "line": {
           "color": "grey",
           "dash": "dot",
           "width": 1
          },
          "type": "line",
          "x0": 737.4599901678099,
          "x1": 737.4599901678099,
          "xref": "x",
          "y0": 0,
          "y1": 0.9,
          "yref": "paper"
         },
         {
          "line": {
           "color": "grey",
           "dash": "dot",
           "width": 1
          },
          "type": "line",
          "x0": 866.3697280411783,
          "x1": 866.3697280411783,
          "xref": "x",
          "y0": 0,
          "y1": 0.9,
          "yref": "paper"
         },
         {
          "line": {
           "color": "grey",
           "dash": "dot",
           "width": 1
          },
          "type": "line",
          "x0": 1091.3918387309345,
          "x1": 1091.3918387309345,
          "xref": "x",
          "y0": 0,
          "y1": 0.9,
          "yref": "paper"
         },
         {
          "line": {
           "color": "grey",
           "dash": "dot",
           "width": 1
          },
          "type": "line",
          "x0": 1220.0940246530383,
          "x1": 1220.0940246530383,
          "xref": "x",
          "y0": 0,
          "y1": 0.9,
          "yref": "paper"
         },
         {
          "line": {
           "color": "grey",
           "dash": "dot",
           "width": 1
          },
          "type": "line",
          "x0": 1299.82381824291,
          "x1": 1299.82381824291,
          "xref": "x",
          "y0": 0,
          "y1": 0.9,
          "yref": "paper"
         },
         {
          "line": {
           "color": "grey",
           "dash": "dot",
           "width": 1
          },
          "type": "line",
          "x0": 1387.4166298189782,
          "x1": 1387.4166298189782,
          "xref": "x",
          "y0": 0,
          "y1": 0.9,
          "yref": "paper"
         },
         {
          "line": {
           "color": "grey",
           "dash": "dot",
           "width": 1
          },
          "type": "line",
          "x0": 1725.6224580442633,
          "x1": 1725.6224580442633,
          "xref": "x",
          "y0": 0,
          "y1": 0.9,
          "yref": "paper"
         },
         {
          "line": {
           "color": "grey",
           "dash": "dot",
           "width": 1
          },
          "type": "line",
          "x0": 2037.9303113790354,
          "x1": 2037.9303113790354,
          "xref": "x",
          "y0": 0,
          "y1": 0.9,
          "yref": "paper"
         },
         {
          "line": {
           "color": "grey",
           "dash": "dot",
           "width": 1
          },
          "type": "line",
          "x0": 2096.076287083767,
          "x1": 2096.076287083767,
          "xref": "x",
          "y0": 0,
          "y1": 0.9,
          "yref": "paper"
         },
         {
          "line": {
           "color": "grey",
           "dash": "dot",
           "width": 1
          },
          "type": "line",
          "x0": 2314.1987291613245,
          "x1": 2314.1987291613245,
          "xref": "x",
          "y0": 0,
          "y1": 0.9,
          "yref": "paper"
         },
         {
          "line": {
           "color": "grey",
           "dash": "dot",
           "width": 1
          },
          "type": "line",
          "x0": 2475.5777139671964,
          "x1": 2475.5777139671964,
          "xref": "x",
          "y0": 0,
          "y1": 0.9,
          "yref": "paper"
         },
         {
          "line": {
           "color": "grey",
           "dash": "dot",
           "width": 1
          },
          "type": "line",
          "x0": 2495.38594620495,
          "x1": 2495.38594620495,
          "xref": "x",
          "y0": 0,
          "y1": 0.9,
          "yref": "paper"
         },
         {
          "line": {
           "color": "grey",
           "dash": "dot",
           "width": 1
          },
          "type": "line",
          "x0": 2620.428325297073,
          "x1": 2620.428325297073,
          "xref": "x",
          "y0": 0,
          "y1": 0.9,
          "yref": "paper"
         },
         {
          "line": {
           "color": "grey",
           "dash": "dot",
           "width": 1
          },
          "type": "line",
          "x0": 2651.1458401188,
          "x1": 2651.1458401188,
          "xref": "x",
          "y0": 0,
          "y1": 0.9,
          "yref": "paper"
         },
         {
          "line": {
           "color": "grey",
           "dash": "dot",
           "width": 1
          },
          "type": "line",
          "x0": 2721.820895225605,
          "x1": 2721.820895225605,
          "xref": "x",
          "y0": 0,
          "y1": 0.9,
          "yref": "paper"
         },
         {
          "line": {
           "color": "grey",
           "dash": "dot",
           "width": 1
          },
          "type": "line",
          "x0": 2845.0761077274233,
          "x1": 2845.0761077274233,
          "xref": "x",
          "y0": 0,
          "y1": 0.9,
          "yref": "paper"
         },
         {
          "line": {
           "color": "grey",
           "dash": "dot",
           "width": 1
          },
          "type": "line",
          "x0": 2934.244848815058,
          "x1": 2934.244848815058,
          "xref": "x",
          "y0": 0,
          "y1": 0.9,
          "yref": "paper"
         }
        ],
        "template": {
         "data": {
          "bar": [
           {
            "error_x": {
             "color": "#2a3f5f"
            },
            "error_y": {
             "color": "#2a3f5f"
            },
            "marker": {
             "line": {
              "color": "#E5ECF6",
              "width": 0.5
             },
             "pattern": {
              "fillmode": "overlay",
              "size": 10,
              "solidity": 0.2
             }
            },
            "type": "bar"
           }
          ],
          "barpolar": [
           {
            "marker": {
             "line": {
              "color": "#E5ECF6",
              "width": 0.5
             },
             "pattern": {
              "fillmode": "overlay",
              "size": 10,
              "solidity": 0.2
             }
            },
            "type": "barpolar"
           }
          ],
          "carpet": [
           {
            "aaxis": {
             "endlinecolor": "#2a3f5f",
             "gridcolor": "white",
             "linecolor": "white",
             "minorgridcolor": "white",
             "startlinecolor": "#2a3f5f"
            },
            "baxis": {
             "endlinecolor": "#2a3f5f",
             "gridcolor": "white",
             "linecolor": "white",
             "minorgridcolor": "white",
             "startlinecolor": "#2a3f5f"
            },
            "type": "carpet"
           }
          ],
          "choropleth": [
           {
            "colorbar": {
             "outlinewidth": 0,
             "ticks": ""
            },
            "type": "choropleth"
           }
          ],
          "contour": [
           {
            "colorbar": {
             "outlinewidth": 0,
             "ticks": ""
            },
            "colorscale": [
             [
              0,
              "#0d0887"
             ],
             [
              0.1111111111111111,
              "#46039f"
             ],
             [
              0.2222222222222222,
              "#7201a8"
             ],
             [
              0.3333333333333333,
              "#9c179e"
             ],
             [
              0.4444444444444444,
              "#bd3786"
             ],
             [
              0.5555555555555556,
              "#d8576b"
             ],
             [
              0.6666666666666666,
              "#ed7953"
             ],
             [
              0.7777777777777778,
              "#fb9f3a"
             ],
             [
              0.8888888888888888,
              "#fdca26"
             ],
             [
              1,
              "#f0f921"
             ]
            ],
            "type": "contour"
           }
          ],
          "contourcarpet": [
           {
            "colorbar": {
             "outlinewidth": 0,
             "ticks": ""
            },
            "type": "contourcarpet"
           }
          ],
          "heatmap": [
           {
            "colorbar": {
             "outlinewidth": 0,
             "ticks": ""
            },
            "colorscale": [
             [
              0,
              "#0d0887"
             ],
             [
              0.1111111111111111,
              "#46039f"
             ],
             [
              0.2222222222222222,
              "#7201a8"
             ],
             [
              0.3333333333333333,
              "#9c179e"
             ],
             [
              0.4444444444444444,
              "#bd3786"
             ],
             [
              0.5555555555555556,
              "#d8576b"
             ],
             [
              0.6666666666666666,
              "#ed7953"
             ],
             [
              0.7777777777777778,
              "#fb9f3a"
             ],
             [
              0.8888888888888888,
              "#fdca26"
             ],
             [
              1,
              "#f0f921"
             ]
            ],
            "type": "heatmap"
           }
          ],
          "heatmapgl": [
           {
            "colorbar": {
             "outlinewidth": 0,
             "ticks": ""
            },
            "colorscale": [
             [
              0,
              "#0d0887"
             ],
             [
              0.1111111111111111,
              "#46039f"
             ],
             [
              0.2222222222222222,
              "#7201a8"
             ],
             [
              0.3333333333333333,
              "#9c179e"
             ],
             [
              0.4444444444444444,
              "#bd3786"
             ],
             [
              0.5555555555555556,
              "#d8576b"
             ],
             [
              0.6666666666666666,
              "#ed7953"
             ],
             [
              0.7777777777777778,
              "#fb9f3a"
             ],
             [
              0.8888888888888888,
              "#fdca26"
             ],
             [
              1,
              "#f0f921"
             ]
            ],
            "type": "heatmapgl"
           }
          ],
          "histogram": [
           {
            "marker": {
             "pattern": {
              "fillmode": "overlay",
              "size": 10,
              "solidity": 0.2
             }
            },
            "type": "histogram"
           }
          ],
          "histogram2d": [
           {
            "colorbar": {
             "outlinewidth": 0,
             "ticks": ""
            },
            "colorscale": [
             [
              0,
              "#0d0887"
             ],
             [
              0.1111111111111111,
              "#46039f"
             ],
             [
              0.2222222222222222,
              "#7201a8"
             ],
             [
              0.3333333333333333,
              "#9c179e"
             ],
             [
              0.4444444444444444,
              "#bd3786"
             ],
             [
              0.5555555555555556,
              "#d8576b"
             ],
             [
              0.6666666666666666,
              "#ed7953"
             ],
             [
              0.7777777777777778,
              "#fb9f3a"
             ],
             [
              0.8888888888888888,
              "#fdca26"
             ],
             [
              1,
              "#f0f921"
             ]
            ],
            "type": "histogram2d"
           }
          ],
          "histogram2dcontour": [
           {
            "colorbar": {
             "outlinewidth": 0,
             "ticks": ""
            },
            "colorscale": [
             [
              0,
              "#0d0887"
             ],
             [
              0.1111111111111111,
              "#46039f"
             ],
             [
              0.2222222222222222,
              "#7201a8"
             ],
             [
              0.3333333333333333,
              "#9c179e"
             ],
             [
              0.4444444444444444,
              "#bd3786"
             ],
             [
              0.5555555555555556,
              "#d8576b"
             ],
             [
              0.6666666666666666,
              "#ed7953"
             ],
             [
              0.7777777777777778,
              "#fb9f3a"
             ],
             [
              0.8888888888888888,
              "#fdca26"
             ],
             [
              1,
              "#f0f921"
             ]
            ],
            "type": "histogram2dcontour"
           }
          ],
          "mesh3d": [
           {
            "colorbar": {
             "outlinewidth": 0,
             "ticks": ""
            },
            "type": "mesh3d"
           }
          ],
          "parcoords": [
           {
            "line": {
             "colorbar": {
              "outlinewidth": 0,
              "ticks": ""
             }
            },
            "type": "parcoords"
           }
          ],
          "pie": [
           {
            "automargin": true,
            "type": "pie"
           }
          ],
          "scatter": [
           {
            "fillpattern": {
             "fillmode": "overlay",
             "size": 10,
             "solidity": 0.2
            },
            "type": "scatter"
           }
          ],
          "scatter3d": [
           {
            "line": {
             "colorbar": {
              "outlinewidth": 0,
              "ticks": ""
             }
            },
            "marker": {
             "colorbar": {
              "outlinewidth": 0,
              "ticks": ""
             }
            },
            "type": "scatter3d"
           }
          ],
          "scattercarpet": [
           {
            "marker": {
             "colorbar": {
              "outlinewidth": 0,
              "ticks": ""
             }
            },
            "type": "scattercarpet"
           }
          ],
          "scattergeo": [
           {
            "marker": {
             "colorbar": {
              "outlinewidth": 0,
              "ticks": ""
             }
            },
            "type": "scattergeo"
           }
          ],
          "scattergl": [
           {
            "marker": {
             "colorbar": {
              "outlinewidth": 0,
              "ticks": ""
             }
            },
            "type": "scattergl"
           }
          ],
          "scattermapbox": [
           {
            "marker": {
             "colorbar": {
              "outlinewidth": 0,
              "ticks": ""
             }
            },
            "type": "scattermapbox"
           }
          ],
          "scatterpolar": [
           {
            "marker": {
             "colorbar": {
              "outlinewidth": 0,
              "ticks": ""
             }
            },
            "type": "scatterpolar"
           }
          ],
          "scatterpolargl": [
           {
            "marker": {
             "colorbar": {
              "outlinewidth": 0,
              "ticks": ""
             }
            },
            "type": "scatterpolargl"
           }
          ],
          "scatterternary": [
           {
            "marker": {
             "colorbar": {
              "outlinewidth": 0,
              "ticks": ""
             }
            },
            "type": "scatterternary"
           }
          ],
          "surface": [
           {
            "colorbar": {
             "outlinewidth": 0,
             "ticks": ""
            },
            "colorscale": [
             [
              0,
              "#0d0887"
             ],
             [
              0.1111111111111111,
              "#46039f"
             ],
             [
              0.2222222222222222,
              "#7201a8"
             ],
             [
              0.3333333333333333,
              "#9c179e"
             ],
             [
              0.4444444444444444,
              "#bd3786"
             ],
             [
              0.5555555555555556,
              "#d8576b"
             ],
             [
              0.6666666666666666,
              "#ed7953"
             ],
             [
              0.7777777777777778,
              "#fb9f3a"
             ],
             [
              0.8888888888888888,
              "#fdca26"
             ],
             [
              1,
              "#f0f921"
             ]
            ],
            "type": "surface"
           }
          ],
          "table": [
           {
            "cells": {
             "fill": {
              "color": "#EBF0F8"
             },
             "line": {
              "color": "white"
             }
            },
            "header": {
             "fill": {
              "color": "#C8D4E3"
             },
             "line": {
              "color": "white"
             }
            },
            "type": "table"
           }
          ]
         },
         "layout": {
          "annotationdefaults": {
           "arrowcolor": "#2a3f5f",
           "arrowhead": 0,
           "arrowwidth": 1
          },
          "autotypenumbers": "strict",
          "coloraxis": {
           "colorbar": {
            "outlinewidth": 0,
            "ticks": ""
           }
          },
          "colorscale": {
           "diverging": [
            [
             0,
             "#8e0152"
            ],
            [
             0.1,
             "#c51b7d"
            ],
            [
             0.2,
             "#de77ae"
            ],
            [
             0.3,
             "#f1b6da"
            ],
            [
             0.4,
             "#fde0ef"
            ],
            [
             0.5,
             "#f7f7f7"
            ],
            [
             0.6,
             "#e6f5d0"
            ],
            [
             0.7,
             "#b8e186"
            ],
            [
             0.8,
             "#7fbc41"
            ],
            [
             0.9,
             "#4d9221"
            ],
            [
             1,
             "#276419"
            ]
           ],
           "sequential": [
            [
             0,
             "#0d0887"
            ],
            [
             0.1111111111111111,
             "#46039f"
            ],
            [
             0.2222222222222222,
             "#7201a8"
            ],
            [
             0.3333333333333333,
             "#9c179e"
            ],
            [
             0.4444444444444444,
             "#bd3786"
            ],
            [
             0.5555555555555556,
             "#d8576b"
            ],
            [
             0.6666666666666666,
             "#ed7953"
            ],
            [
             0.7777777777777778,
             "#fb9f3a"
            ],
            [
             0.8888888888888888,
             "#fdca26"
            ],
            [
             1,
             "#f0f921"
            ]
           ],
           "sequentialminus": [
            [
             0,
             "#0d0887"
            ],
            [
             0.1111111111111111,
             "#46039f"
            ],
            [
             0.2222222222222222,
             "#7201a8"
            ],
            [
             0.3333333333333333,
             "#9c179e"
            ],
            [
             0.4444444444444444,
             "#bd3786"
            ],
            [
             0.5555555555555556,
             "#d8576b"
            ],
            [
             0.6666666666666666,
             "#ed7953"
            ],
            [
             0.7777777777777778,
             "#fb9f3a"
            ],
            [
             0.8888888888888888,
             "#fdca26"
            ],
            [
             1,
             "#f0f921"
            ]
           ]
          },
          "colorway": [
           "#636efa",
           "#EF553B",
           "#00cc96",
           "#ab63fa",
           "#FFA15A",
           "#19d3f3",
           "#FF6692",
           "#B6E880",
           "#FF97FF",
           "#FECB52"
          ],
          "font": {
           "color": "#2a3f5f"
          },
          "geo": {
           "bgcolor": "white",
           "lakecolor": "white",
           "landcolor": "#E5ECF6",
           "showlakes": true,
           "showland": true,
           "subunitcolor": "white"
          },
          "hoverlabel": {
           "align": "left"
          },
          "hovermode": "closest",
          "mapbox": {
           "style": "light"
          },
          "paper_bgcolor": "white",
          "plot_bgcolor": "#E5ECF6",
          "polar": {
           "angularaxis": {
            "gridcolor": "white",
            "linecolor": "white",
            "ticks": ""
           },
           "bgcolor": "#E5ECF6",
           "radialaxis": {
            "gridcolor": "white",
            "linecolor": "white",
            "ticks": ""
           }
          },
          "scene": {
           "xaxis": {
            "backgroundcolor": "#E5ECF6",
            "gridcolor": "white",
            "gridwidth": 2,
            "linecolor": "white",
            "showbackground": true,
            "ticks": "",
            "zerolinecolor": "white"
           },
           "yaxis": {
            "backgroundcolor": "#E5ECF6",
            "gridcolor": "white",
            "gridwidth": 2,
            "linecolor": "white",
            "showbackground": true,
            "ticks": "",
            "zerolinecolor": "white"
           },
           "zaxis": {
            "backgroundcolor": "#E5ECF6",
            "gridcolor": "white",
            "gridwidth": 2,
            "linecolor": "white",
            "showbackground": true,
            "ticks": "",
            "zerolinecolor": "white"
           }
          },
          "shapedefaults": {
           "line": {
            "color": "#2a3f5f"
           }
          },
          "ternary": {
           "aaxis": {
            "gridcolor": "white",
            "linecolor": "white",
            "ticks": ""
           },
           "baxis": {
            "gridcolor": "white",
            "linecolor": "white",
            "ticks": ""
           },
           "bgcolor": "#E5ECF6",
           "caxis": {
            "gridcolor": "white",
            "linecolor": "white",
            "ticks": ""
           }
          },
          "title": {
           "x": 0.05
          },
          "xaxis": {
           "automargin": true,
           "gridcolor": "white",
           "linecolor": "white",
           "ticks": "",
           "title": {
            "standoff": 15
           },
           "zerolinecolor": "white",
           "zerolinewidth": 2
          },
          "yaxis": {
           "automargin": true,
           "gridcolor": "white",
           "linecolor": "white",
           "ticks": "",
           "title": {
            "standoff": 15
           },
           "zerolinecolor": "white",
           "zerolinewidth": 2
          }
         }
        },
        "title": {
         "text": "Fastest Lap: Driver Throttle Percentage Comparison",
         "x": 0.5,
         "xanchor": "center"
        },
        "xaxis": {
         "title": {
          "text": "Distance (m)"
         }
        },
        "yaxis": {
         "title": {
          "text": "Throttle (%)"
         }
        }
       }
      }
     },
     "metadata": {},
     "output_type": "display_data"
    }
   ],
   "source": [
    "plot_lap_telemetry_comparison(session, 'LEC', 'PIA', 'Throttle')"
   ]
  },
  {
   "cell_type": "markdown",
   "metadata": {},
   "source": [
    "## 3 - Bar Plot with negative values: Speed difference between two drivers\n",
    "This graph was an experiment in visualisation using the bar graph with negative values. The x-axis shows all the corner numbers of the track, while the y-axis shows the speed difference (positive or negative) between the reference driver and a second driver. The important channels in this graph are the green colour when the driver is gaining on the opponent and red when he is losing, and the length of the bars. The idea behind this graph is that a driver comes back into the box and has a few seconds to work out where he can improve before he goes out again. Or his engineers, who has to pass on this information. The annotation of the speed difference value within the bar makes it faster to read, and the legend makes it clear who the reference driver is.\n",
    "\n",
    "Disclaimer!: \\\n",
    "Due to the tick rate of the measurements in a lap, which are different for each driver's car (in this API), the graph is not very accurate, but the concept is still valid."
   ]
  },
  {
   "cell_type": "code",
   "execution_count": 4,
   "metadata": {},
   "outputs": [
    {
     "name": "stderr",
     "output_type": "stream",
     "text": [
      "core           INFO \tLoading data for British Grand Prix - Race [v3.3.8]\n",
      "req            INFO \tUsing cached data for session_info\n",
      "req            INFO \tUsing cached data for driver_info\n",
      "req            INFO \tUsing cached data for session_status_data\n",
      "req            INFO \tUsing cached data for lap_count\n",
      "req            INFO \tUsing cached data for track_status_data\n",
      "req            INFO \tUsing cached data for _extended_timing_data\n",
      "req            INFO \tUsing cached data for timing_app_data\n",
      "core           INFO \tProcessing timing data...\n",
      "Request for URL https://ergast.com/api/f1/2024/12/laps/1.json failed; using cached response\n",
      "Traceback (most recent call last):\n",
      "  File \"c:\\Users\\andre\\Desktop\\SLDV\\F1-Dash\\.venv\\Lib\\site-packages\\requests_cache\\session.py\", line 291, in _resend\n",
      "    response.raise_for_status()\n",
      "  File \"c:\\Users\\andre\\Desktop\\SLDV\\F1-Dash\\.venv\\Lib\\site-packages\\requests\\models.py\", line 1024, in raise_for_status\n",
      "    raise HTTPError(http_error_msg, response=self)\n",
      "requests.exceptions.HTTPError: 503 Server Error: Backend fetch failed for url: https://ergast.com/api/f1/2024/12/laps/1.json\n",
      "core        WARNING \tCannot load lap times for first lap from Ergast. Timing data is not available for this session.\n",
      "req            INFO \tUsing cached data for car_data\n",
      "req            INFO \tUsing cached data for position_data\n",
      "req            INFO \tUsing cached data for weather_data\n",
      "req            INFO \tUsing cached data for race_control_messages\n",
      "core           INFO \tFinished loading data for 20 drivers: ['44', '1', '4', '81', '55', '27', '18', '14', '23', '22', '2', '20', '3', '16', '77', '31', '11', '24', '63', '10']\n"
     ]
    },
    {
     "data": {
      "text/html": [
       "<div>\n",
       "<style scoped>\n",
       "    .dataframe tbody tr th:only-of-type {\n",
       "        vertical-align: middle;\n",
       "    }\n",
       "\n",
       "    .dataframe tbody tr th {\n",
       "        vertical-align: top;\n",
       "    }\n",
       "\n",
       "    .dataframe thead th {\n",
       "        text-align: right;\n",
       "    }\n",
       "</style>\n",
       "<table border=\"1\" class=\"dataframe\">\n",
       "  <thead>\n",
       "    <tr style=\"text-align: right;\">\n",
       "      <th></th>\n",
       "      <th>HAM_avg_speed</th>\n",
       "      <th>corner_number</th>\n",
       "      <th>start_dist</th>\n",
       "      <th>end_dist</th>\n",
       "      <th>VER_avg_speed</th>\n",
       "      <th>start_dist</th>\n",
       "      <th>end_dist</th>\n",
       "      <th>speed_diff</th>\n",
       "    </tr>\n",
       "  </thead>\n",
       "  <tbody>\n",
       "    <tr>\n",
       "      <th>1</th>\n",
       "      <td>285.80</td>\n",
       "      <td>1.0</td>\n",
       "      <td>0.000000</td>\n",
       "      <td>446.184167</td>\n",
       "      <td>288.95</td>\n",
       "      <td>0.000000</td>\n",
       "      <td>443.318056</td>\n",
       "      <td>-3.15</td>\n",
       "    </tr>\n",
       "    <tr>\n",
       "      <th>2</th>\n",
       "      <td>294.57</td>\n",
       "      <td>2.0</td>\n",
       "      <td>446.184167</td>\n",
       "      <td>596.839722</td>\n",
       "      <td>297.00</td>\n",
       "      <td>443.318056</td>\n",
       "      <td>585.068333</td>\n",
       "      <td>-2.43</td>\n",
       "    </tr>\n",
       "    <tr>\n",
       "      <th>3</th>\n",
       "      <td>256.93</td>\n",
       "      <td>3.0</td>\n",
       "      <td>596.839722</td>\n",
       "      <td>853.759167</td>\n",
       "      <td>245.53</td>\n",
       "      <td>585.068333</td>\n",
       "      <td>857.839722</td>\n",
       "      <td>11.40</td>\n",
       "    </tr>\n",
       "    <tr>\n",
       "      <th>4</th>\n",
       "      <td>114.58</td>\n",
       "      <td>4.0</td>\n",
       "      <td>853.759167</td>\n",
       "      <td>1027.492500</td>\n",
       "      <td>110.33</td>\n",
       "      <td>857.839722</td>\n",
       "      <td>1027.776667</td>\n",
       "      <td>4.25</td>\n",
       "    </tr>\n",
       "    <tr>\n",
       "      <th>5</th>\n",
       "      <td>149.45</td>\n",
       "      <td>5.0</td>\n",
       "      <td>1027.492500</td>\n",
       "      <td>1217.394167</td>\n",
       "      <td>147.94</td>\n",
       "      <td>1027.776667</td>\n",
       "      <td>1220.585278</td>\n",
       "      <td>1.51</td>\n",
       "    </tr>\n",
       "  </tbody>\n",
       "</table>\n",
       "</div>"
      ],
      "text/plain": [
       "   HAM_avg_speed  corner_number   start_dist     end_dist  VER_avg_speed  \\\n",
       "1         285.80            1.0     0.000000   446.184167         288.95   \n",
       "2         294.57            2.0   446.184167   596.839722         297.00   \n",
       "3         256.93            3.0   596.839722   853.759167         245.53   \n",
       "4         114.58            4.0   853.759167  1027.492500         110.33   \n",
       "5         149.45            5.0  1027.492500  1217.394167         147.94   \n",
       "\n",
       "    start_dist     end_dist  speed_diff  \n",
       "1     0.000000   443.318056       -3.15  \n",
       "2   443.318056   585.068333       -2.43  \n",
       "3   585.068333   857.839722       11.40  \n",
       "4   857.839722  1027.776667        4.25  \n",
       "5  1027.776667  1220.585278        1.51  "
      ]
     },
     "execution_count": 4,
     "metadata": {},
     "output_type": "execute_result"
    }
   ],
   "source": [
    "df = get_avg_speed_diff_drivers(session, 'LEC', 'PIA')\n",
    "df.head()"
   ]
  },
  {
   "cell_type": "code",
   "execution_count": 21,
   "metadata": {},
   "outputs": [
    {
     "data": {
      "application/vnd.plotly.v1+json": {
       "config": {
        "plotlyServerURL": "https://plot.ly"
       },
       "data": [
        {
         "base": 0,
         "customdata": [
          -5.08,
          -8.52,
          0.75,
          -2.48,
          -1.16,
          -5.84,
          -0.07,
          -4.1,
          2.53,
          -4.63,
          -8.12,
          7.78,
          -0.6,
          2,
          -19.94,
          -29.5,
          2.42,
          -34.19,
          5.23
         ],
         "hovertemplate": "%{customdata} Km/h<extra></extra>",
         "insidetextanchor": "middle",
         "marker": {
          "color": [
           "red",
           "red",
           "green",
           "red",
           "red",
           "red",
           "red",
           "red",
           "green",
           "red",
           "red",
           "green",
           "red",
           "green",
           "red",
           "red",
           "green",
           "red",
           "green"
          ]
         },
         "name": "Speed Difference",
         "showlegend": false,
         "text": [
          -5.08,
          -8.52,
          0.75,
          -2.48,
          -1.16,
          -5.84,
          -0.07,
          -4.1,
          2.53,
          -4.63,
          -8.12,
          7.78,
          -0.6,
          2,
          -19.94,
          -29.5,
          2.42,
          -34.19,
          5.23
         ],
         "textposition": "inside",
         "type": "bar",
         "x": [
          1,
          2,
          3,
          4,
          5,
          6,
          7,
          8,
          9,
          10,
          11,
          12,
          13,
          14,
          15,
          16,
          17,
          18,
          19
         ],
         "y": [
          -5.0800000000000125,
          -8.52000000000001,
          0.75,
          -2.480000000000018,
          -1.1599999999999966,
          -5.840000000000003,
          -0.07000000000000739,
          -4.1000000000000085,
          2.530000000000001,
          -4.6299999999999955,
          -8.11999999999999,
          7.780000000000001,
          -0.6000000000000227,
          2,
          -19.939999999999998,
          -29.5,
          2.4199999999999875,
          -34.190000000000026,
          5.22999999999999
         ]
        },
        {
         "legendgroup": "Gains",
         "marker": {
          "color": "green",
          "size": 10
         },
         "mode": "markers",
         "name": "LEC Gain",
         "showlegend": true,
         "type": "scatter",
         "x": [
          null
         ],
         "y": [
          null
         ]
        },
        {
         "legendgroup": "Losses",
         "marker": {
          "color": "red",
          "size": 10
         },
         "mode": "markers",
         "name": "LEC Loss",
         "showlegend": true,
         "type": "scatter",
         "x": [
          null
         ],
         "y": [
          null
         ]
        }
       ],
       "layout": {
        "font": {
         "color": "white",
         "family": "Arial",
         "size": 12
        },
        "paper_bgcolor": "#1a1a1a",
        "plot_bgcolor": "#1a1a1a",
        "showlegend": true,
        "template": {
         "data": {
          "bar": [
           {
            "error_x": {
             "color": "#2a3f5f"
            },
            "error_y": {
             "color": "#2a3f5f"
            },
            "marker": {
             "line": {
              "color": "#E5ECF6",
              "width": 0.5
             },
             "pattern": {
              "fillmode": "overlay",
              "size": 10,
              "solidity": 0.2
             }
            },
            "type": "bar"
           }
          ],
          "barpolar": [
           {
            "marker": {
             "line": {
              "color": "#E5ECF6",
              "width": 0.5
             },
             "pattern": {
              "fillmode": "overlay",
              "size": 10,
              "solidity": 0.2
             }
            },
            "type": "barpolar"
           }
          ],
          "carpet": [
           {
            "aaxis": {
             "endlinecolor": "#2a3f5f",
             "gridcolor": "white",
             "linecolor": "white",
             "minorgridcolor": "white",
             "startlinecolor": "#2a3f5f"
            },
            "baxis": {
             "endlinecolor": "#2a3f5f",
             "gridcolor": "white",
             "linecolor": "white",
             "minorgridcolor": "white",
             "startlinecolor": "#2a3f5f"
            },
            "type": "carpet"
           }
          ],
          "choropleth": [
           {
            "colorbar": {
             "outlinewidth": 0,
             "ticks": ""
            },
            "type": "choropleth"
           }
          ],
          "contour": [
           {
            "colorbar": {
             "outlinewidth": 0,
             "ticks": ""
            },
            "colorscale": [
             [
              0,
              "#0d0887"
             ],
             [
              0.1111111111111111,
              "#46039f"
             ],
             [
              0.2222222222222222,
              "#7201a8"
             ],
             [
              0.3333333333333333,
              "#9c179e"
             ],
             [
              0.4444444444444444,
              "#bd3786"
             ],
             [
              0.5555555555555556,
              "#d8576b"
             ],
             [
              0.6666666666666666,
              "#ed7953"
             ],
             [
              0.7777777777777778,
              "#fb9f3a"
             ],
             [
              0.8888888888888888,
              "#fdca26"
             ],
             [
              1,
              "#f0f921"
             ]
            ],
            "type": "contour"
           }
          ],
          "contourcarpet": [
           {
            "colorbar": {
             "outlinewidth": 0,
             "ticks": ""
            },
            "type": "contourcarpet"
           }
          ],
          "heatmap": [
           {
            "colorbar": {
             "outlinewidth": 0,
             "ticks": ""
            },
            "colorscale": [
             [
              0,
              "#0d0887"
             ],
             [
              0.1111111111111111,
              "#46039f"
             ],
             [
              0.2222222222222222,
              "#7201a8"
             ],
             [
              0.3333333333333333,
              "#9c179e"
             ],
             [
              0.4444444444444444,
              "#bd3786"
             ],
             [
              0.5555555555555556,
              "#d8576b"
             ],
             [
              0.6666666666666666,
              "#ed7953"
             ],
             [
              0.7777777777777778,
              "#fb9f3a"
             ],
             [
              0.8888888888888888,
              "#fdca26"
             ],
             [
              1,
              "#f0f921"
             ]
            ],
            "type": "heatmap"
           }
          ],
          "heatmapgl": [
           {
            "colorbar": {
             "outlinewidth": 0,
             "ticks": ""
            },
            "colorscale": [
             [
              0,
              "#0d0887"
             ],
             [
              0.1111111111111111,
              "#46039f"
             ],
             [
              0.2222222222222222,
              "#7201a8"
             ],
             [
              0.3333333333333333,
              "#9c179e"
             ],
             [
              0.4444444444444444,
              "#bd3786"
             ],
             [
              0.5555555555555556,
              "#d8576b"
             ],
             [
              0.6666666666666666,
              "#ed7953"
             ],
             [
              0.7777777777777778,
              "#fb9f3a"
             ],
             [
              0.8888888888888888,
              "#fdca26"
             ],
             [
              1,
              "#f0f921"
             ]
            ],
            "type": "heatmapgl"
           }
          ],
          "histogram": [
           {
            "marker": {
             "pattern": {
              "fillmode": "overlay",
              "size": 10,
              "solidity": 0.2
             }
            },
            "type": "histogram"
           }
          ],
          "histogram2d": [
           {
            "colorbar": {
             "outlinewidth": 0,
             "ticks": ""
            },
            "colorscale": [
             [
              0,
              "#0d0887"
             ],
             [
              0.1111111111111111,
              "#46039f"
             ],
             [
              0.2222222222222222,
              "#7201a8"
             ],
             [
              0.3333333333333333,
              "#9c179e"
             ],
             [
              0.4444444444444444,
              "#bd3786"
             ],
             [
              0.5555555555555556,
              "#d8576b"
             ],
             [
              0.6666666666666666,
              "#ed7953"
             ],
             [
              0.7777777777777778,
              "#fb9f3a"
             ],
             [
              0.8888888888888888,
              "#fdca26"
             ],
             [
              1,
              "#f0f921"
             ]
            ],
            "type": "histogram2d"
           }
          ],
          "histogram2dcontour": [
           {
            "colorbar": {
             "outlinewidth": 0,
             "ticks": ""
            },
            "colorscale": [
             [
              0,
              "#0d0887"
             ],
             [
              0.1111111111111111,
              "#46039f"
             ],
             [
              0.2222222222222222,
              "#7201a8"
             ],
             [
              0.3333333333333333,
              "#9c179e"
             ],
             [
              0.4444444444444444,
              "#bd3786"
             ],
             [
              0.5555555555555556,
              "#d8576b"
             ],
             [
              0.6666666666666666,
              "#ed7953"
             ],
             [
              0.7777777777777778,
              "#fb9f3a"
             ],
             [
              0.8888888888888888,
              "#fdca26"
             ],
             [
              1,
              "#f0f921"
             ]
            ],
            "type": "histogram2dcontour"
           }
          ],
          "mesh3d": [
           {
            "colorbar": {
             "outlinewidth": 0,
             "ticks": ""
            },
            "type": "mesh3d"
           }
          ],
          "parcoords": [
           {
            "line": {
             "colorbar": {
              "outlinewidth": 0,
              "ticks": ""
             }
            },
            "type": "parcoords"
           }
          ],
          "pie": [
           {
            "automargin": true,
            "type": "pie"
           }
          ],
          "scatter": [
           {
            "fillpattern": {
             "fillmode": "overlay",
             "size": 10,
             "solidity": 0.2
            },
            "type": "scatter"
           }
          ],
          "scatter3d": [
           {
            "line": {
             "colorbar": {
              "outlinewidth": 0,
              "ticks": ""
             }
            },
            "marker": {
             "colorbar": {
              "outlinewidth": 0,
              "ticks": ""
             }
            },
            "type": "scatter3d"
           }
          ],
          "scattercarpet": [
           {
            "marker": {
             "colorbar": {
              "outlinewidth": 0,
              "ticks": ""
             }
            },
            "type": "scattercarpet"
           }
          ],
          "scattergeo": [
           {
            "marker": {
             "colorbar": {
              "outlinewidth": 0,
              "ticks": ""
             }
            },
            "type": "scattergeo"
           }
          ],
          "scattergl": [
           {
            "marker": {
             "colorbar": {
              "outlinewidth": 0,
              "ticks": ""
             }
            },
            "type": "scattergl"
           }
          ],
          "scattermapbox": [
           {
            "marker": {
             "colorbar": {
              "outlinewidth": 0,
              "ticks": ""
             }
            },
            "type": "scattermapbox"
           }
          ],
          "scatterpolar": [
           {
            "marker": {
             "colorbar": {
              "outlinewidth": 0,
              "ticks": ""
             }
            },
            "type": "scatterpolar"
           }
          ],
          "scatterpolargl": [
           {
            "marker": {
             "colorbar": {
              "outlinewidth": 0,
              "ticks": ""
             }
            },
            "type": "scatterpolargl"
           }
          ],
          "scatterternary": [
           {
            "marker": {
             "colorbar": {
              "outlinewidth": 0,
              "ticks": ""
             }
            },
            "type": "scatterternary"
           }
          ],
          "surface": [
           {
            "colorbar": {
             "outlinewidth": 0,
             "ticks": ""
            },
            "colorscale": [
             [
              0,
              "#0d0887"
             ],
             [
              0.1111111111111111,
              "#46039f"
             ],
             [
              0.2222222222222222,
              "#7201a8"
             ],
             [
              0.3333333333333333,
              "#9c179e"
             ],
             [
              0.4444444444444444,
              "#bd3786"
             ],
             [
              0.5555555555555556,
              "#d8576b"
             ],
             [
              0.6666666666666666,
              "#ed7953"
             ],
             [
              0.7777777777777778,
              "#fb9f3a"
             ],
             [
              0.8888888888888888,
              "#fdca26"
             ],
             [
              1,
              "#f0f921"
             ]
            ],
            "type": "surface"
           }
          ],
          "table": [
           {
            "cells": {
             "fill": {
              "color": "#EBF0F8"
             },
             "line": {
              "color": "white"
             }
            },
            "header": {
             "fill": {
              "color": "#C8D4E3"
             },
             "line": {
              "color": "white"
             }
            },
            "type": "table"
           }
          ]
         },
         "layout": {
          "annotationdefaults": {
           "arrowcolor": "#2a3f5f",
           "arrowhead": 0,
           "arrowwidth": 1
          },
          "autotypenumbers": "strict",
          "coloraxis": {
           "colorbar": {
            "outlinewidth": 0,
            "ticks": ""
           }
          },
          "colorscale": {
           "diverging": [
            [
             0,
             "#8e0152"
            ],
            [
             0.1,
             "#c51b7d"
            ],
            [
             0.2,
             "#de77ae"
            ],
            [
             0.3,
             "#f1b6da"
            ],
            [
             0.4,
             "#fde0ef"
            ],
            [
             0.5,
             "#f7f7f7"
            ],
            [
             0.6,
             "#e6f5d0"
            ],
            [
             0.7,
             "#b8e186"
            ],
            [
             0.8,
             "#7fbc41"
            ],
            [
             0.9,
             "#4d9221"
            ],
            [
             1,
             "#276419"
            ]
           ],
           "sequential": [
            [
             0,
             "#0d0887"
            ],
            [
             0.1111111111111111,
             "#46039f"
            ],
            [
             0.2222222222222222,
             "#7201a8"
            ],
            [
             0.3333333333333333,
             "#9c179e"
            ],
            [
             0.4444444444444444,
             "#bd3786"
            ],
            [
             0.5555555555555556,
             "#d8576b"
            ],
            [
             0.6666666666666666,
             "#ed7953"
            ],
            [
             0.7777777777777778,
             "#fb9f3a"
            ],
            [
             0.8888888888888888,
             "#fdca26"
            ],
            [
             1,
             "#f0f921"
            ]
           ],
           "sequentialminus": [
            [
             0,
             "#0d0887"
            ],
            [
             0.1111111111111111,
             "#46039f"
            ],
            [
             0.2222222222222222,
             "#7201a8"
            ],
            [
             0.3333333333333333,
             "#9c179e"
            ],
            [
             0.4444444444444444,
             "#bd3786"
            ],
            [
             0.5555555555555556,
             "#d8576b"
            ],
            [
             0.6666666666666666,
             "#ed7953"
            ],
            [
             0.7777777777777778,
             "#fb9f3a"
            ],
            [
             0.8888888888888888,
             "#fdca26"
            ],
            [
             1,
             "#f0f921"
            ]
           ]
          },
          "colorway": [
           "#636efa",
           "#EF553B",
           "#00cc96",
           "#ab63fa",
           "#FFA15A",
           "#19d3f3",
           "#FF6692",
           "#B6E880",
           "#FF97FF",
           "#FECB52"
          ],
          "font": {
           "color": "#2a3f5f"
          },
          "geo": {
           "bgcolor": "white",
           "lakecolor": "white",
           "landcolor": "#E5ECF6",
           "showlakes": true,
           "showland": true,
           "subunitcolor": "white"
          },
          "hoverlabel": {
           "align": "left"
          },
          "hovermode": "closest",
          "mapbox": {
           "style": "light"
          },
          "paper_bgcolor": "white",
          "plot_bgcolor": "#E5ECF6",
          "polar": {
           "angularaxis": {
            "gridcolor": "white",
            "linecolor": "white",
            "ticks": ""
           },
           "bgcolor": "#E5ECF6",
           "radialaxis": {
            "gridcolor": "white",
            "linecolor": "white",
            "ticks": ""
           }
          },
          "scene": {
           "xaxis": {
            "backgroundcolor": "#E5ECF6",
            "gridcolor": "white",
            "gridwidth": 2,
            "linecolor": "white",
            "showbackground": true,
            "ticks": "",
            "zerolinecolor": "white"
           },
           "yaxis": {
            "backgroundcolor": "#E5ECF6",
            "gridcolor": "white",
            "gridwidth": 2,
            "linecolor": "white",
            "showbackground": true,
            "ticks": "",
            "zerolinecolor": "white"
           },
           "zaxis": {
            "backgroundcolor": "#E5ECF6",
            "gridcolor": "white",
            "gridwidth": 2,
            "linecolor": "white",
            "showbackground": true,
            "ticks": "",
            "zerolinecolor": "white"
           }
          },
          "shapedefaults": {
           "line": {
            "color": "#2a3f5f"
           }
          },
          "ternary": {
           "aaxis": {
            "gridcolor": "white",
            "linecolor": "white",
            "ticks": ""
           },
           "baxis": {
            "gridcolor": "white",
            "linecolor": "white",
            "ticks": ""
           },
           "bgcolor": "#E5ECF6",
           "caxis": {
            "gridcolor": "white",
            "linecolor": "white",
            "ticks": ""
           }
          },
          "title": {
           "x": 0.05
          },
          "xaxis": {
           "automargin": true,
           "gridcolor": "white",
           "linecolor": "white",
           "ticks": "",
           "title": {
            "standoff": 15
           },
           "zerolinecolor": "white",
           "zerolinewidth": 2
          },
          "yaxis": {
           "automargin": true,
           "gridcolor": "white",
           "linecolor": "white",
           "ticks": "",
           "title": {
            "standoff": 15
           },
           "zerolinecolor": "white",
           "zerolinewidth": 2
          }
         }
        },
        "title": {
         "text": "Fastest lap: speed diff LEC-PIA at Each Corner",
         "x": 0.5,
         "xanchor": "center"
        },
        "xaxis": {
         "tickmode": "array",
         "ticktext": [
          1,
          2,
          3,
          4,
          5,
          6,
          7,
          8,
          9,
          10,
          11,
          12,
          13,
          14,
          15,
          16,
          17,
          18,
          19
         ],
         "tickvals": [
          1,
          2,
          3,
          4,
          5,
          6,
          7,
          8,
          9,
          10,
          11,
          12,
          13,
          14,
          15,
          16,
          17,
          18,
          19
         ],
         "title": {
          "text": "Corner Number"
         }
        },
        "yaxis": {
         "title": {
          "text": "Speed Difference (km/h)"
         }
        }
       }
      }
     },
     "metadata": {},
     "output_type": "display_data"
    }
   ],
   "source": [
    "plot_speed_diff_drivers(session, 'LEC', 'PIA')"
   ]
  },
  {
   "cell_type": "markdown",
   "metadata": {},
   "source": [
    "## 4 - Scatter plot: Laptimes and compounds (tyre selection)\n",
    "\n",
    "### A brief introduction to compounds\n",
    "The type of compound is one of the most important elements in F1 as different ones have different performances.\n",
    "The available ones are:\n",
    "* Soft (red)\n",
    "* Medium (yellow)\n",
    "* Hard (white)\n",
    "* Intermediate (green)\n",
    "* Fully wet (blue) \n",
    "\n",
    "The softer a compound is, the more performance it gives in the short term and the more it degrades over time. The last two, intermediate and full wet, are used for light and heavy rain respectively.\n",
    "\n",
    "### Visualisation explanation\n",
    "\n",
    "This graph shows the lap times and the compound types for the data of one driver's session. On the x-axis is the lap number and on the y-axis is the lap time. Another important channel of information is the colour of the points that represent the type of compound, as explained in the legend. \n",
    "\n",
    "The shape of the dots gives additional information about tyre degradation and fuel consumption. If the lap times are getting slower every lap, a diagonal upward pattern (as in the example I have chosen) means that there is more tyre degradation than fuel consumption gains, making the car lighter every lap.\n",
    "On the other hand, if we have a downward diagonal pattern, it means that the car is getting lighter each lap for the fuel consumption and the tyres are not degrading much.\n",
    "\n",
    "To make it easier to interpret, I have added a hover annotation to each point, giving the exact lap time and lap.\n",
    "\n",
    "This graph serves as the basis for the next one, which is the idea for the experiment, in which there is a comparison between two drivers."
   ]
  },
  {
   "cell_type": "code",
   "execution_count": 2,
   "metadata": {},
   "outputs": [
    {
     "name": "stderr",
     "output_type": "stream",
     "text": [
      "core           INFO \tLoading data for Austrian Grand Prix - Race [v3.3.5]\n",
      "req            INFO \tUsing cached data for session_info\n",
      "req            INFO \tUsing cached data for driver_info\n",
      "req            INFO \tUsing cached data for session_status_data\n",
      "req            INFO \tUsing cached data for lap_count\n",
      "req            INFO \tUsing cached data for track_status_data\n",
      "req            INFO \tUsing cached data for _extended_timing_data\n",
      "req            INFO \tUsing cached data for timing_app_data\n",
      "core           INFO \tProcessing timing data...\n",
      "req            INFO \tUsing cached data for car_data\n",
      "req            INFO \tUsing cached data for position_data\n",
      "req            INFO \tUsing cached data for weather_data\n",
      "req            INFO \tUsing cached data for race_control_messages\n",
      "core           INFO \tFinished loading data for 20 drivers: ['63', '81', '55', '44', '1', '27', '11', '20', '3', '10', '16', '31', '18', '22', '23', '77', '24', '14', '2', '4']\n"
     ]
    },
    {
     "data": {
      "application/vnd.plotly.v1+json": {
       "config": {
        "plotlyServerURL": "https://plot.ly"
       },
       "data": [
        {
         "hoverinfo": "text",
         "marker": {
          "color": "#da291c",
          "size": 8
         },
         "mode": "markers",
         "name": "SOFT",
         "text": [
          "Lap 67 Time: 1:11:691",
          "Lap 68 Time: 1:7:719",
          "Lap 69 Time: 1:8:321",
          "Lap 70 Time: 1:8:72",
          "Lap 71 Time: 1:8:518"
         ],
         "type": "scatter",
         "x": [
          67,
          68,
          69,
          70,
          71
         ],
         "y": [
          "1900-01-01T00:01:11.691000",
          "1900-01-01T00:01:07.719000",
          "1900-01-01T00:01:08.321000",
          "1900-01-01T00:01:08.072000",
          "1900-01-01T00:01:08.518000"
         ]
        },
        {
         "hoverinfo": "text",
         "marker": {
          "color": "#ffd12e",
          "size": 8
         },
         "mode": "markers",
         "name": "MEDIUM",
         "text": [
          "Lap 1 Time: 1:12:50",
          "Lap 2 Time: 1:9:938",
          "Lap 3 Time: 1:9:857",
          "Lap 4 Time: 1:9:903",
          "Lap 5 Time: 1:10:5",
          "Lap 6 Time: 1:10:238",
          "Lap 7 Time: 1:10:220",
          "Lap 8 Time: 1:10:331",
          "Lap 9 Time: 1:10:600",
          "Lap 10 Time: 1:10:596",
          "Lap 11 Time: 1:10:562",
          "Lap 12 Time: 1:10:512",
          "Lap 13 Time: 1:10:955",
          "Lap 14 Time: 1:10:707",
          "Lap 15 Time: 1:11:28",
          "Lap 16 Time: 1:10:957",
          "Lap 17 Time: 1:10:981",
          "Lap 18 Time: 1:11:364",
          "Lap 19 Time: 1:11:515",
          "Lap 20 Time: 1:11:548",
          "Lap 21 Time: 1:11:300",
          "Lap 22 Time: 1:11:549",
          "Lap 53 Time: 1:8:772",
          "Lap 54 Time: 1:8:789",
          "Lap 55 Time: 1:9:213",
          "Lap 56 Time: 1:8:623",
          "Lap 57 Time: 1:8:975",
          "Lap 58 Time: 1:9:183",
          "Lap 59 Time: 1:10:646",
          "Lap 60 Time: 1:9:399",
          "Lap 61 Time: 1:10:3",
          "Lap 62 Time: 1:9:528",
          "Lap 63 Time: 1:10:412"
         ],
         "type": "scatter",
         "x": [
          1,
          2,
          3,
          4,
          5,
          6,
          7,
          8,
          9,
          10,
          11,
          12,
          13,
          14,
          15,
          16,
          17,
          18,
          19,
          20,
          21,
          22,
          53,
          54,
          55,
          56,
          57,
          58,
          59,
          60,
          61,
          62,
          63
         ],
         "y": [
          "1900-01-01T00:01:12.050000",
          "1900-01-01T00:01:09.938000",
          "1900-01-01T00:01:09.857000",
          "1900-01-01T00:01:09.903000",
          "1900-01-01T00:01:10.005000",
          "1900-01-01T00:01:10.238000",
          "1900-01-01T00:01:10.220000",
          "1900-01-01T00:01:10.331000",
          "1900-01-01T00:01:10.600000",
          "1900-01-01T00:01:10.596000",
          "1900-01-01T00:01:10.562000",
          "1900-01-01T00:01:10.512000",
          "1900-01-01T00:01:10.955000",
          "1900-01-01T00:01:10.707000",
          "1900-01-01T00:01:11.028000",
          "1900-01-01T00:01:10.957000",
          "1900-01-01T00:01:10.981000",
          "1900-01-01T00:01:11.364000",
          "1900-01-01T00:01:11.515000",
          "1900-01-01T00:01:11.548000",
          "1900-01-01T00:01:11.300000",
          "1900-01-01T00:01:11.549000",
          "1900-01-01T00:01:08.772000",
          "1900-01-01T00:01:08.789000",
          "1900-01-01T00:01:09.213000",
          "1900-01-01T00:01:08.623000",
          "1900-01-01T00:01:08.975000",
          "1900-01-01T00:01:09.183000",
          "1900-01-01T00:01:10.646000",
          "1900-01-01T00:01:09.399000",
          "1900-01-01T00:01:10.003000",
          "1900-01-01T00:01:09.528000",
          "1900-01-01T00:01:10.412000"
         ]
        },
        {
         "hoverinfo": "text",
         "marker": {
          "color": "#f0f0ec",
          "size": 8
         },
         "mode": "markers",
         "name": "HARD",
         "text": [
          "Lap 25 Time: 1:9:766",
          "Lap 26 Time: 1:9:506",
          "Lap 27 Time: 1:9:451",
          "Lap 28 Time: 1:9:581",
          "Lap 29 Time: 1:9:696",
          "Lap 30 Time: 1:9:661",
          "Lap 31 Time: 1:9:696",
          "Lap 32 Time: 1:9:576",
          "Lap 33 Time: 1:9:455",
          "Lap 34 Time: 1:9:482",
          "Lap 35 Time: 1:9:958",
          "Lap 36 Time: 1:9:907",
          "Lap 37 Time: 1:10:120",
          "Lap 38 Time: 1:10:143",
          "Lap 39 Time: 1:10:258",
          "Lap 40 Time: 1:10:217",
          "Lap 41 Time: 1:11:114",
          "Lap 42 Time: 1:10:628",
          "Lap 43 Time: 1:10:904",
          "Lap 44 Time: 1:10:479",
          "Lap 45 Time: 1:10:349",
          "Lap 46 Time: 1:10:288",
          "Lap 47 Time: 1:10:658",
          "Lap 48 Time: 1:10:360",
          "Lap 49 Time: 1:10:543",
          "Lap 50 Time: 1:10:738"
         ],
         "type": "scatter",
         "x": [
          25,
          26,
          27,
          28,
          29,
          30,
          31,
          32,
          33,
          34,
          35,
          36,
          37,
          38,
          39,
          40,
          41,
          42,
          43,
          44,
          45,
          46,
          47,
          48,
          49,
          50
         ],
         "y": [
          "1900-01-01T00:01:09.766000",
          "1900-01-01T00:01:09.506000",
          "1900-01-01T00:01:09.451000",
          "1900-01-01T00:01:09.581000",
          "1900-01-01T00:01:09.696000",
          "1900-01-01T00:01:09.661000",
          "1900-01-01T00:01:09.696000",
          "1900-01-01T00:01:09.576000",
          "1900-01-01T00:01:09.455000",
          "1900-01-01T00:01:09.482000",
          "1900-01-01T00:01:09.958000",
          "1900-01-01T00:01:09.907000",
          "1900-01-01T00:01:10.120000",
          "1900-01-01T00:01:10.143000",
          "1900-01-01T00:01:10.258000",
          "1900-01-01T00:01:10.217000",
          "1900-01-01T00:01:11.114000",
          "1900-01-01T00:01:10.628000",
          "1900-01-01T00:01:10.904000",
          "1900-01-01T00:01:10.479000",
          "1900-01-01T00:01:10.349000",
          "1900-01-01T00:01:10.288000",
          "1900-01-01T00:01:10.658000",
          "1900-01-01T00:01:10.360000",
          "1900-01-01T00:01:10.543000",
          "1900-01-01T00:01:10.738000"
         ]
        },
        {
         "hoverinfo": "text",
         "marker": {
          "color": "#43b02a",
          "size": 8
         },
         "mode": "markers",
         "name": "INTERMEDIATE",
         "text": [],
         "type": "scatter",
         "x": [],
         "y": []
        },
        {
         "hoverinfo": "text",
         "marker": {
          "color": "#0067ad",
          "size": 8
         },
         "mode": "markers",
         "name": "WET",
         "text": [],
         "type": "scatter",
         "x": [],
         "y": []
        },
        {
         "hoverinfo": "text",
         "marker": {
          "color": "#00ffff",
          "size": 8
         },
         "mode": "markers",
         "name": "UNKNOWN",
         "text": [],
         "type": "scatter",
         "x": [],
         "y": []
        },
        {
         "hoverinfo": "text",
         "marker": {
          "color": "#434649",
          "size": 8
         },
         "mode": "markers",
         "name": "TEST-UNKNOWN",
         "text": [],
         "type": "scatter",
         "x": [],
         "y": []
        }
       ],
       "layout": {
        "font": {
         "color": "white",
         "family": "Arial",
         "size": 12
        },
        "legend": {
         "orientation": "v",
         "title": {
          "text": "Compound"
         },
         "x": 1.12,
         "xanchor": "right",
         "y": 1,
         "yanchor": "top"
        },
        "paper_bgcolor": "#1a1a1a",
        "plot_bgcolor": "#1a1a1a",
        "showlegend": true,
        "template": {
         "data": {
          "bar": [
           {
            "error_x": {
             "color": "#2a3f5f"
            },
            "error_y": {
             "color": "#2a3f5f"
            },
            "marker": {
             "line": {
              "color": "#E5ECF6",
              "width": 0.5
             },
             "pattern": {
              "fillmode": "overlay",
              "size": 10,
              "solidity": 0.2
             }
            },
            "type": "bar"
           }
          ],
          "barpolar": [
           {
            "marker": {
             "line": {
              "color": "#E5ECF6",
              "width": 0.5
             },
             "pattern": {
              "fillmode": "overlay",
              "size": 10,
              "solidity": 0.2
             }
            },
            "type": "barpolar"
           }
          ],
          "carpet": [
           {
            "aaxis": {
             "endlinecolor": "#2a3f5f",
             "gridcolor": "white",
             "linecolor": "white",
             "minorgridcolor": "white",
             "startlinecolor": "#2a3f5f"
            },
            "baxis": {
             "endlinecolor": "#2a3f5f",
             "gridcolor": "white",
             "linecolor": "white",
             "minorgridcolor": "white",
             "startlinecolor": "#2a3f5f"
            },
            "type": "carpet"
           }
          ],
          "choropleth": [
           {
            "colorbar": {
             "outlinewidth": 0,
             "ticks": ""
            },
            "type": "choropleth"
           }
          ],
          "contour": [
           {
            "colorbar": {
             "outlinewidth": 0,
             "ticks": ""
            },
            "colorscale": [
             [
              0,
              "#0d0887"
             ],
             [
              0.1111111111111111,
              "#46039f"
             ],
             [
              0.2222222222222222,
              "#7201a8"
             ],
             [
              0.3333333333333333,
              "#9c179e"
             ],
             [
              0.4444444444444444,
              "#bd3786"
             ],
             [
              0.5555555555555556,
              "#d8576b"
             ],
             [
              0.6666666666666666,
              "#ed7953"
             ],
             [
              0.7777777777777778,
              "#fb9f3a"
             ],
             [
              0.8888888888888888,
              "#fdca26"
             ],
             [
              1,
              "#f0f921"
             ]
            ],
            "type": "contour"
           }
          ],
          "contourcarpet": [
           {
            "colorbar": {
             "outlinewidth": 0,
             "ticks": ""
            },
            "type": "contourcarpet"
           }
          ],
          "heatmap": [
           {
            "colorbar": {
             "outlinewidth": 0,
             "ticks": ""
            },
            "colorscale": [
             [
              0,
              "#0d0887"
             ],
             [
              0.1111111111111111,
              "#46039f"
             ],
             [
              0.2222222222222222,
              "#7201a8"
             ],
             [
              0.3333333333333333,
              "#9c179e"
             ],
             [
              0.4444444444444444,
              "#bd3786"
             ],
             [
              0.5555555555555556,
              "#d8576b"
             ],
             [
              0.6666666666666666,
              "#ed7953"
             ],
             [
              0.7777777777777778,
              "#fb9f3a"
             ],
             [
              0.8888888888888888,
              "#fdca26"
             ],
             [
              1,
              "#f0f921"
             ]
            ],
            "type": "heatmap"
           }
          ],
          "heatmapgl": [
           {
            "colorbar": {
             "outlinewidth": 0,
             "ticks": ""
            },
            "colorscale": [
             [
              0,
              "#0d0887"
             ],
             [
              0.1111111111111111,
              "#46039f"
             ],
             [
              0.2222222222222222,
              "#7201a8"
             ],
             [
              0.3333333333333333,
              "#9c179e"
             ],
             [
              0.4444444444444444,
              "#bd3786"
             ],
             [
              0.5555555555555556,
              "#d8576b"
             ],
             [
              0.6666666666666666,
              "#ed7953"
             ],
             [
              0.7777777777777778,
              "#fb9f3a"
             ],
             [
              0.8888888888888888,
              "#fdca26"
             ],
             [
              1,
              "#f0f921"
             ]
            ],
            "type": "heatmapgl"
           }
          ],
          "histogram": [
           {
            "marker": {
             "pattern": {
              "fillmode": "overlay",
              "size": 10,
              "solidity": 0.2
             }
            },
            "type": "histogram"
           }
          ],
          "histogram2d": [
           {
            "colorbar": {
             "outlinewidth": 0,
             "ticks": ""
            },
            "colorscale": [
             [
              0,
              "#0d0887"
             ],
             [
              0.1111111111111111,
              "#46039f"
             ],
             [
              0.2222222222222222,
              "#7201a8"
             ],
             [
              0.3333333333333333,
              "#9c179e"
             ],
             [
              0.4444444444444444,
              "#bd3786"
             ],
             [
              0.5555555555555556,
              "#d8576b"
             ],
             [
              0.6666666666666666,
              "#ed7953"
             ],
             [
              0.7777777777777778,
              "#fb9f3a"
             ],
             [
              0.8888888888888888,
              "#fdca26"
             ],
             [
              1,
              "#f0f921"
             ]
            ],
            "type": "histogram2d"
           }
          ],
          "histogram2dcontour": [
           {
            "colorbar": {
             "outlinewidth": 0,
             "ticks": ""
            },
            "colorscale": [
             [
              0,
              "#0d0887"
             ],
             [
              0.1111111111111111,
              "#46039f"
             ],
             [
              0.2222222222222222,
              "#7201a8"
             ],
             [
              0.3333333333333333,
              "#9c179e"
             ],
             [
              0.4444444444444444,
              "#bd3786"
             ],
             [
              0.5555555555555556,
              "#d8576b"
             ],
             [
              0.6666666666666666,
              "#ed7953"
             ],
             [
              0.7777777777777778,
              "#fb9f3a"
             ],
             [
              0.8888888888888888,
              "#fdca26"
             ],
             [
              1,
              "#f0f921"
             ]
            ],
            "type": "histogram2dcontour"
           }
          ],
          "mesh3d": [
           {
            "colorbar": {
             "outlinewidth": 0,
             "ticks": ""
            },
            "type": "mesh3d"
           }
          ],
          "parcoords": [
           {
            "line": {
             "colorbar": {
              "outlinewidth": 0,
              "ticks": ""
             }
            },
            "type": "parcoords"
           }
          ],
          "pie": [
           {
            "automargin": true,
            "type": "pie"
           }
          ],
          "scatter": [
           {
            "fillpattern": {
             "fillmode": "overlay",
             "size": 10,
             "solidity": 0.2
            },
            "type": "scatter"
           }
          ],
          "scatter3d": [
           {
            "line": {
             "colorbar": {
              "outlinewidth": 0,
              "ticks": ""
             }
            },
            "marker": {
             "colorbar": {
              "outlinewidth": 0,
              "ticks": ""
             }
            },
            "type": "scatter3d"
           }
          ],
          "scattercarpet": [
           {
            "marker": {
             "colorbar": {
              "outlinewidth": 0,
              "ticks": ""
             }
            },
            "type": "scattercarpet"
           }
          ],
          "scattergeo": [
           {
            "marker": {
             "colorbar": {
              "outlinewidth": 0,
              "ticks": ""
             }
            },
            "type": "scattergeo"
           }
          ],
          "scattergl": [
           {
            "marker": {
             "colorbar": {
              "outlinewidth": 0,
              "ticks": ""
             }
            },
            "type": "scattergl"
           }
          ],
          "scattermapbox": [
           {
            "marker": {
             "colorbar": {
              "outlinewidth": 0,
              "ticks": ""
             }
            },
            "type": "scattermapbox"
           }
          ],
          "scatterpolar": [
           {
            "marker": {
             "colorbar": {
              "outlinewidth": 0,
              "ticks": ""
             }
            },
            "type": "scatterpolar"
           }
          ],
          "scatterpolargl": [
           {
            "marker": {
             "colorbar": {
              "outlinewidth": 0,
              "ticks": ""
             }
            },
            "type": "scatterpolargl"
           }
          ],
          "scatterternary": [
           {
            "marker": {
             "colorbar": {
              "outlinewidth": 0,
              "ticks": ""
             }
            },
            "type": "scatterternary"
           }
          ],
          "surface": [
           {
            "colorbar": {
             "outlinewidth": 0,
             "ticks": ""
            },
            "colorscale": [
             [
              0,
              "#0d0887"
             ],
             [
              0.1111111111111111,
              "#46039f"
             ],
             [
              0.2222222222222222,
              "#7201a8"
             ],
             [
              0.3333333333333333,
              "#9c179e"
             ],
             [
              0.4444444444444444,
              "#bd3786"
             ],
             [
              0.5555555555555556,
              "#d8576b"
             ],
             [
              0.6666666666666666,
              "#ed7953"
             ],
             [
              0.7777777777777778,
              "#fb9f3a"
             ],
             [
              0.8888888888888888,
              "#fdca26"
             ],
             [
              1,
              "#f0f921"
             ]
            ],
            "type": "surface"
           }
          ],
          "table": [
           {
            "cells": {
             "fill": {
              "color": "#EBF0F8"
             },
             "line": {
              "color": "white"
             }
            },
            "header": {
             "fill": {
              "color": "#C8D4E3"
             },
             "line": {
              "color": "white"
             }
            },
            "type": "table"
           }
          ]
         },
         "layout": {
          "annotationdefaults": {
           "arrowcolor": "#2a3f5f",
           "arrowhead": 0,
           "arrowwidth": 1
          },
          "autotypenumbers": "strict",
          "coloraxis": {
           "colorbar": {
            "outlinewidth": 0,
            "ticks": ""
           }
          },
          "colorscale": {
           "diverging": [
            [
             0,
             "#8e0152"
            ],
            [
             0.1,
             "#c51b7d"
            ],
            [
             0.2,
             "#de77ae"
            ],
            [
             0.3,
             "#f1b6da"
            ],
            [
             0.4,
             "#fde0ef"
            ],
            [
             0.5,
             "#f7f7f7"
            ],
            [
             0.6,
             "#e6f5d0"
            ],
            [
             0.7,
             "#b8e186"
            ],
            [
             0.8,
             "#7fbc41"
            ],
            [
             0.9,
             "#4d9221"
            ],
            [
             1,
             "#276419"
            ]
           ],
           "sequential": [
            [
             0,
             "#0d0887"
            ],
            [
             0.1111111111111111,
             "#46039f"
            ],
            [
             0.2222222222222222,
             "#7201a8"
            ],
            [
             0.3333333333333333,
             "#9c179e"
            ],
            [
             0.4444444444444444,
             "#bd3786"
            ],
            [
             0.5555555555555556,
             "#d8576b"
            ],
            [
             0.6666666666666666,
             "#ed7953"
            ],
            [
             0.7777777777777778,
             "#fb9f3a"
            ],
            [
             0.8888888888888888,
             "#fdca26"
            ],
            [
             1,
             "#f0f921"
            ]
           ],
           "sequentialminus": [
            [
             0,
             "#0d0887"
            ],
            [
             0.1111111111111111,
             "#46039f"
            ],
            [
             0.2222222222222222,
             "#7201a8"
            ],
            [
             0.3333333333333333,
             "#9c179e"
            ],
            [
             0.4444444444444444,
             "#bd3786"
            ],
            [
             0.5555555555555556,
             "#d8576b"
            ],
            [
             0.6666666666666666,
             "#ed7953"
            ],
            [
             0.7777777777777778,
             "#fb9f3a"
            ],
            [
             0.8888888888888888,
             "#fdca26"
            ],
            [
             1,
             "#f0f921"
            ]
           ]
          },
          "colorway": [
           "#636efa",
           "#EF553B",
           "#00cc96",
           "#ab63fa",
           "#FFA15A",
           "#19d3f3",
           "#FF6692",
           "#B6E880",
           "#FF97FF",
           "#FECB52"
          ],
          "font": {
           "color": "#2a3f5f"
          },
          "geo": {
           "bgcolor": "white",
           "lakecolor": "white",
           "landcolor": "#E5ECF6",
           "showlakes": true,
           "showland": true,
           "subunitcolor": "white"
          },
          "hoverlabel": {
           "align": "left"
          },
          "hovermode": "closest",
          "mapbox": {
           "style": "light"
          },
          "paper_bgcolor": "white",
          "plot_bgcolor": "#E5ECF6",
          "polar": {
           "angularaxis": {
            "gridcolor": "white",
            "linecolor": "white",
            "ticks": ""
           },
           "bgcolor": "#E5ECF6",
           "radialaxis": {
            "gridcolor": "white",
            "linecolor": "white",
            "ticks": ""
           }
          },
          "scene": {
           "xaxis": {
            "backgroundcolor": "#E5ECF6",
            "gridcolor": "white",
            "gridwidth": 2,
            "linecolor": "white",
            "showbackground": true,
            "ticks": "",
            "zerolinecolor": "white"
           },
           "yaxis": {
            "backgroundcolor": "#E5ECF6",
            "gridcolor": "white",
            "gridwidth": 2,
            "linecolor": "white",
            "showbackground": true,
            "ticks": "",
            "zerolinecolor": "white"
           },
           "zaxis": {
            "backgroundcolor": "#E5ECF6",
            "gridcolor": "white",
            "gridwidth": 2,
            "linecolor": "white",
            "showbackground": true,
            "ticks": "",
            "zerolinecolor": "white"
           }
          },
          "shapedefaults": {
           "line": {
            "color": "#2a3f5f"
           }
          },
          "ternary": {
           "aaxis": {
            "gridcolor": "white",
            "linecolor": "white",
            "ticks": ""
           },
           "baxis": {
            "gridcolor": "white",
            "linecolor": "white",
            "ticks": ""
           },
           "bgcolor": "#E5ECF6",
           "caxis": {
            "gridcolor": "white",
            "linecolor": "white",
            "ticks": ""
           }
          },
          "title": {
           "x": 0.05
          },
          "xaxis": {
           "automargin": true,
           "gridcolor": "white",
           "linecolor": "white",
           "ticks": "",
           "title": {
            "standoff": 15
           },
           "zerolinecolor": "white",
           "zerolinewidth": 2
          },
          "yaxis": {
           "automargin": true,
           "gridcolor": "white",
           "linecolor": "white",
           "ticks": "",
           "title": {
            "standoff": 15
           },
           "zerolinecolor": "white",
           "zerolinewidth": 2
          }
         }
        },
        "title": {
         "text": "VER Race Lap Times with Compound Type",
         "x": 0.5,
         "xanchor": "center"
        },
        "xaxis": {
         "title": {
          "text": "Lap Number"
         }
        },
        "yaxis": {
         "tickformat": "%M:%S.%f",
         "title": {
          "text": "Lap Time"
         }
        }
       }
      }
     },
     "metadata": {},
     "output_type": "display_data"
    }
   ],
   "source": [
    "fastf1.plotting.setup_mpl(misc_mpl_mods=False)\n",
    "session = fastf1.get_session(2024, 'Austrian Grand Prix', 'R')\n",
    "session.load()\n",
    "\n",
    "plot_session_laptimes_with_compound_type(session, 'VER')"
   ]
  },
  {
   "cell_type": "markdown",
   "metadata": {},
   "source": [
    "### Merged Scatter Plot: Driver Laptime/Compounds Comparison\n",
    "The aim of this graph is the same as the last one, but this time we have two drivers. If we used the same system as the previous one, we would have the problem of not being able to distinguish between the drivers, as the colour of the dots represents only the compounds. We also want to keep the information about the type of compound. \n",
    "\n",
    "The simplest solution would have been to make the dots of each driver different colours and add the type of compound in the hover annotation. \n",
    "\n",
    "The more advanced solution I came up with, which still makes the plot fairly readable, is to use the colour of the dots to represent the driver, while an outer edge of the dot is used for the compound type. This solution was also inspired by how tyre compounds look in the real world (image below). \n",
    "\n",
    "<img src=\"images/tyrecompounds.jpg\" alt=\"TyreCompounds\" width=\"300\"/>\n",
    "\n",
    "\n",
    "\n",
    "This allows you to quickly compare the performance of one driver to another just by looking at the shapes. The addition of the hover annotation, which tells you exactly \"DRIVER-COMPOUND-LAP-LAPTIME\", and the legend, which specifies each colour with each border, the possibility of clicking and activating/deactivating some compounds, makes this graph quite readable, even if there is a lot of information inside.\n",
    "\n",
    "The target of this plot is both an entusiast of the sport and engineers who want to review the session."
   ]
  },
  {
   "cell_type": "code",
   "execution_count": 9,
   "metadata": {},
   "outputs": [
    {
     "data": {
      "application/vnd.plotly.v1+json": {
       "config": {
        "plotlyServerURL": "https://plot.ly"
       },
       "data": [
        {
         "hoverinfo": "text",
         "marker": {
          "color": "#fcd700",
          "line": {
           "color": "#da291c",
           "width": 2
          },
          "size": 10
         },
         "mode": "markers",
         "name": "VER- SOFT",
         "text": [
          "VER-SOFT - Lap 67: 1:11:691",
          "VER-SOFT - Lap 68: 1:7:719",
          "VER-SOFT - Lap 69: 1:8:321",
          "VER-SOFT - Lap 70: 1:8:72",
          "VER-SOFT - Lap 71: 1:8:518"
         ],
         "type": "scatter",
         "x": [
          67,
          68,
          69,
          70,
          71
         ],
         "y": [
          "1900-01-01T00:01:11.691000",
          "1900-01-01T00:01:07.719000",
          "1900-01-01T00:01:08.321000",
          "1900-01-01T00:01:08.072000",
          "1900-01-01T00:01:08.518000"
         ]
        },
        {
         "hoverinfo": "text",
         "marker": {
          "color": "#fcd700",
          "line": {
           "color": "#ffd12e",
           "width": 2
          },
          "size": 10
         },
         "mode": "markers",
         "name": "VER- MEDIUM",
         "text": [
          "VER-MEDIUM - Lap 1: 1:12:50",
          "VER-MEDIUM - Lap 2: 1:9:938",
          "VER-MEDIUM - Lap 3: 1:9:857",
          "VER-MEDIUM - Lap 4: 1:9:903",
          "VER-MEDIUM - Lap 5: 1:10:5",
          "VER-MEDIUM - Lap 6: 1:10:238",
          "VER-MEDIUM - Lap 7: 1:10:220",
          "VER-MEDIUM - Lap 8: 1:10:331",
          "VER-MEDIUM - Lap 9: 1:10:600",
          "VER-MEDIUM - Lap 10: 1:10:596",
          "VER-MEDIUM - Lap 11: 1:10:562",
          "VER-MEDIUM - Lap 12: 1:10:512",
          "VER-MEDIUM - Lap 13: 1:10:955",
          "VER-MEDIUM - Lap 14: 1:10:707",
          "VER-MEDIUM - Lap 15: 1:11:28",
          "VER-MEDIUM - Lap 16: 1:10:957",
          "VER-MEDIUM - Lap 17: 1:10:981",
          "VER-MEDIUM - Lap 18: 1:11:364",
          "VER-MEDIUM - Lap 19: 1:11:515",
          "VER-MEDIUM - Lap 20: 1:11:548",
          "VER-MEDIUM - Lap 21: 1:11:300",
          "VER-MEDIUM - Lap 22: 1:11:549",
          "VER-MEDIUM - Lap 53: 1:8:772",
          "VER-MEDIUM - Lap 54: 1:8:789",
          "VER-MEDIUM - Lap 55: 1:9:213",
          "VER-MEDIUM - Lap 56: 1:8:623",
          "VER-MEDIUM - Lap 57: 1:8:975",
          "VER-MEDIUM - Lap 58: 1:9:183",
          "VER-MEDIUM - Lap 59: 1:10:646",
          "VER-MEDIUM - Lap 60: 1:9:399",
          "VER-MEDIUM - Lap 61: 1:10:3",
          "VER-MEDIUM - Lap 62: 1:9:528",
          "VER-MEDIUM - Lap 63: 1:10:412"
         ],
         "type": "scatter",
         "x": [
          1,
          2,
          3,
          4,
          5,
          6,
          7,
          8,
          9,
          10,
          11,
          12,
          13,
          14,
          15,
          16,
          17,
          18,
          19,
          20,
          21,
          22,
          53,
          54,
          55,
          56,
          57,
          58,
          59,
          60,
          61,
          62,
          63
         ],
         "y": [
          "1900-01-01T00:01:12.050000",
          "1900-01-01T00:01:09.938000",
          "1900-01-01T00:01:09.857000",
          "1900-01-01T00:01:09.903000",
          "1900-01-01T00:01:10.005000",
          "1900-01-01T00:01:10.238000",
          "1900-01-01T00:01:10.220000",
          "1900-01-01T00:01:10.331000",
          "1900-01-01T00:01:10.600000",
          "1900-01-01T00:01:10.596000",
          "1900-01-01T00:01:10.562000",
          "1900-01-01T00:01:10.512000",
          "1900-01-01T00:01:10.955000",
          "1900-01-01T00:01:10.707000",
          "1900-01-01T00:01:11.028000",
          "1900-01-01T00:01:10.957000",
          "1900-01-01T00:01:10.981000",
          "1900-01-01T00:01:11.364000",
          "1900-01-01T00:01:11.515000",
          "1900-01-01T00:01:11.548000",
          "1900-01-01T00:01:11.300000",
          "1900-01-01T00:01:11.549000",
          "1900-01-01T00:01:08.772000",
          "1900-01-01T00:01:08.789000",
          "1900-01-01T00:01:09.213000",
          "1900-01-01T00:01:08.623000",
          "1900-01-01T00:01:08.975000",
          "1900-01-01T00:01:09.183000",
          "1900-01-01T00:01:10.646000",
          "1900-01-01T00:01:09.399000",
          "1900-01-01T00:01:10.003000",
          "1900-01-01T00:01:09.528000",
          "1900-01-01T00:01:10.412000"
         ]
        },
        {
         "hoverinfo": "text",
         "marker": {
          "color": "#fcd700",
          "line": {
           "color": "#f0f0ec",
           "width": 2
          },
          "size": 10
         },
         "mode": "markers",
         "name": "VER- HARD",
         "text": [
          "VER-HARD - Lap 25: 1:9:766",
          "VER-HARD - Lap 26: 1:9:506",
          "VER-HARD - Lap 27: 1:9:451",
          "VER-HARD - Lap 28: 1:9:581",
          "VER-HARD - Lap 29: 1:9:696",
          "VER-HARD - Lap 30: 1:9:661",
          "VER-HARD - Lap 31: 1:9:696",
          "VER-HARD - Lap 32: 1:9:576",
          "VER-HARD - Lap 33: 1:9:455",
          "VER-HARD - Lap 34: 1:9:482",
          "VER-HARD - Lap 35: 1:9:958",
          "VER-HARD - Lap 36: 1:9:907",
          "VER-HARD - Lap 37: 1:10:120",
          "VER-HARD - Lap 38: 1:10:143",
          "VER-HARD - Lap 39: 1:10:258",
          "VER-HARD - Lap 40: 1:10:217",
          "VER-HARD - Lap 41: 1:11:114",
          "VER-HARD - Lap 42: 1:10:628",
          "VER-HARD - Lap 43: 1:10:904",
          "VER-HARD - Lap 44: 1:10:479",
          "VER-HARD - Lap 45: 1:10:349",
          "VER-HARD - Lap 46: 1:10:288",
          "VER-HARD - Lap 47: 1:10:658",
          "VER-HARD - Lap 48: 1:10:360",
          "VER-HARD - Lap 49: 1:10:543",
          "VER-HARD - Lap 50: 1:10:738"
         ],
         "type": "scatter",
         "x": [
          25,
          26,
          27,
          28,
          29,
          30,
          31,
          32,
          33,
          34,
          35,
          36,
          37,
          38,
          39,
          40,
          41,
          42,
          43,
          44,
          45,
          46,
          47,
          48,
          49,
          50
         ],
         "y": [
          "1900-01-01T00:01:09.766000",
          "1900-01-01T00:01:09.506000",
          "1900-01-01T00:01:09.451000",
          "1900-01-01T00:01:09.581000",
          "1900-01-01T00:01:09.696000",
          "1900-01-01T00:01:09.661000",
          "1900-01-01T00:01:09.696000",
          "1900-01-01T00:01:09.576000",
          "1900-01-01T00:01:09.455000",
          "1900-01-01T00:01:09.482000",
          "1900-01-01T00:01:09.958000",
          "1900-01-01T00:01:09.907000",
          "1900-01-01T00:01:10.120000",
          "1900-01-01T00:01:10.143000",
          "1900-01-01T00:01:10.258000",
          "1900-01-01T00:01:10.217000",
          "1900-01-01T00:01:11.114000",
          "1900-01-01T00:01:10.628000",
          "1900-01-01T00:01:10.904000",
          "1900-01-01T00:01:10.479000",
          "1900-01-01T00:01:10.349000",
          "1900-01-01T00:01:10.288000",
          "1900-01-01T00:01:10.658000",
          "1900-01-01T00:01:10.360000",
          "1900-01-01T00:01:10.543000",
          "1900-01-01T00:01:10.738000"
         ]
        },
        {
         "hoverinfo": "text",
         "marker": {
          "color": "#fcd700",
          "line": {
           "color": "#43b02a",
           "width": 2
          },
          "size": 10
         },
         "mode": "markers",
         "name": "VER- INTERMEDIATE",
         "text": [],
         "type": "scatter",
         "x": [],
         "y": []
        },
        {
         "hoverinfo": "text",
         "marker": {
          "color": "#fcd700",
          "line": {
           "color": "#0067ad",
           "width": 2
          },
          "size": 10
         },
         "mode": "markers",
         "name": "VER- WET",
         "text": [],
         "type": "scatter",
         "x": [],
         "y": []
        },
        {
         "hoverinfo": "text",
         "marker": {
          "color": "#fcd700",
          "line": {
           "color": "#00ffff",
           "width": 2
          },
          "size": 10
         },
         "mode": "markers",
         "name": "VER- UNKNOWN",
         "text": [],
         "type": "scatter",
         "x": [],
         "y": []
        },
        {
         "hoverinfo": "text",
         "marker": {
          "color": "#fcd700",
          "line": {
           "color": "#434649",
           "width": 2
          },
          "size": 10
         },
         "mode": "markers",
         "name": "VER- TEST-UNKNOWN",
         "text": [],
         "type": "scatter",
         "x": [],
         "y": []
        },
        {
         "hoverinfo": "text",
         "marker": {
          "color": "#00d2be",
          "line": {
           "color": "#da291c",
           "width": 2
          },
          "size": 10
         },
         "mode": "markers",
         "name": "RUS - SOFT",
         "text": [],
         "type": "scatter",
         "x": [],
         "y": []
        },
        {
         "hoverinfo": "text",
         "marker": {
          "color": "#00d2be",
          "line": {
           "color": "#ffd12e",
           "width": 2
          },
          "size": 10
         },
         "mode": "markers",
         "name": "RUS - MEDIUM",
         "text": [
          "RUS-MEDIUM - Lap 2: 1:10:580",
          "RUS-MEDIUM - Lap 3: 1:10:441",
          "RUS-MEDIUM - Lap 4: 1:10:467",
          "RUS-MEDIUM - Lap 5: 1:10:193",
          "RUS-MEDIUM - Lap 6: 1:11:33",
          "RUS-MEDIUM - Lap 7: 1:10:682",
          "RUS-MEDIUM - Lap 8: 1:10:655",
          "RUS-MEDIUM - Lap 9: 1:10:628",
          "RUS-MEDIUM - Lap 10: 1:11:263",
          "RUS-MEDIUM - Lap 11: 1:11:281",
          "RUS-MEDIUM - Lap 12: 1:11:135",
          "RUS-MEDIUM - Lap 13: 1:11:321",
          "RUS-MEDIUM - Lap 14: 1:11:440",
          "RUS-MEDIUM - Lap 15: 1:11:471",
          "RUS-MEDIUM - Lap 16: 1:11:382",
          "RUS-MEDIUM - Lap 17: 1:11:459",
          "RUS-MEDIUM - Lap 18: 1:11:297",
          "RUS-MEDIUM - Lap 19: 1:11:569",
          "RUS-MEDIUM - Lap 20: 1:11:531",
          "RUS-MEDIUM - Lap 21: 1:11:641",
          "RUS-MEDIUM - Lap 24: 1:9:563",
          "RUS-MEDIUM - Lap 25: 1:9:792",
          "RUS-MEDIUM - Lap 26: 1:10:37",
          "RUS-MEDIUM - Lap 27: 1:9:864",
          "RUS-MEDIUM - Lap 28: 1:10:85",
          "RUS-MEDIUM - Lap 29: 1:10:157",
          "RUS-MEDIUM - Lap 30: 1:10:180",
          "RUS-MEDIUM - Lap 31: 1:9:936",
          "RUS-MEDIUM - Lap 32: 1:10:219",
          "RUS-MEDIUM - Lap 33: 1:10:93",
          "RUS-MEDIUM - Lap 34: 1:10:260",
          "RUS-MEDIUM - Lap 35: 1:10:524",
          "RUS-MEDIUM - Lap 36: 1:10:598",
          "RUS-MEDIUM - Lap 37: 1:10:506",
          "RUS-MEDIUM - Lap 38: 1:10:640",
          "RUS-MEDIUM - Lap 39: 1:10:724",
          "RUS-MEDIUM - Lap 40: 1:10:761",
          "RUS-MEDIUM - Lap 41: 1:11:167",
          "RUS-MEDIUM - Lap 42: 1:10:797",
          "RUS-MEDIUM - Lap 43: 1:10:784",
          "RUS-MEDIUM - Lap 44: 1:11:385",
          "RUS-MEDIUM - Lap 45: 1:11:402"
         ],
         "type": "scatter",
         "x": [
          2,
          3,
          4,
          5,
          6,
          7,
          8,
          9,
          10,
          11,
          12,
          13,
          14,
          15,
          16,
          17,
          18,
          19,
          20,
          21,
          24,
          25,
          26,
          27,
          28,
          29,
          30,
          31,
          32,
          33,
          34,
          35,
          36,
          37,
          38,
          39,
          40,
          41,
          42,
          43,
          44,
          45
         ],
         "y": [
          "1900-01-01T00:01:10.580000",
          "1900-01-01T00:01:10.441000",
          "1900-01-01T00:01:10.467000",
          "1900-01-01T00:01:10.193000",
          "1900-01-01T00:01:11.033000",
          "1900-01-01T00:01:10.682000",
          "1900-01-01T00:01:10.655000",
          "1900-01-01T00:01:10.628000",
          "1900-01-01T00:01:11.263000",
          "1900-01-01T00:01:11.281000",
          "1900-01-01T00:01:11.135000",
          "1900-01-01T00:01:11.321000",
          "1900-01-01T00:01:11.440000",
          "1900-01-01T00:01:11.471000",
          "1900-01-01T00:01:11.382000",
          "1900-01-01T00:01:11.459000",
          "1900-01-01T00:01:11.297000",
          "1900-01-01T00:01:11.569000",
          "1900-01-01T00:01:11.531000",
          "1900-01-01T00:01:11.641000",
          "1900-01-01T00:01:09.563000",
          "1900-01-01T00:01:09.792000",
          "1900-01-01T00:01:10.037000",
          "1900-01-01T00:01:09.864000",
          "1900-01-01T00:01:10.085000",
          "1900-01-01T00:01:10.157000",
          "1900-01-01T00:01:10.180000",
          "1900-01-01T00:01:09.936000",
          "1900-01-01T00:01:10.219000",
          "1900-01-01T00:01:10.093000",
          "1900-01-01T00:01:10.260000",
          "1900-01-01T00:01:10.524000",
          "1900-01-01T00:01:10.598000",
          "1900-01-01T00:01:10.506000",
          "1900-01-01T00:01:10.640000",
          "1900-01-01T00:01:10.724000",
          "1900-01-01T00:01:10.761000",
          "1900-01-01T00:01:11.167000",
          "1900-01-01T00:01:10.797000",
          "1900-01-01T00:01:10.784000",
          "1900-01-01T00:01:11.385000",
          "1900-01-01T00:01:11.402000"
         ]
        },
        {
         "hoverinfo": "text",
         "marker": {
          "color": "#00d2be",
          "line": {
           "color": "#f0f0ec",
           "width": 2
          },
          "size": 10
         },
         "mode": "markers",
         "name": "RUS - HARD",
         "text": [
          "RUS-HARD - Lap 48: 1:9:164",
          "RUS-HARD - Lap 49: 1:9:288",
          "RUS-HARD - Lap 50: 1:9:342",
          "RUS-HARD - Lap 51: 1:9:759",
          "RUS-HARD - Lap 52: 1:9:881",
          "RUS-HARD - Lap 53: 1:9:872",
          "RUS-HARD - Lap 54: 1:10:372",
          "RUS-HARD - Lap 55: 1:9:895",
          "RUS-HARD - Lap 56: 1:9:711",
          "RUS-HARD - Lap 57: 1:10:64",
          "RUS-HARD - Lap 58: 1:10:2",
          "RUS-HARD - Lap 59: 1:9:961",
          "RUS-HARD - Lap 60: 1:10:65",
          "RUS-HARD - Lap 61: 1:9:611",
          "RUS-HARD - Lap 62: 1:10:50",
          "RUS-HARD - Lap 63: 1:10:42",
          "RUS-HARD - Lap 64: 1:10:924",
          "RUS-HARD - Lap 65: 1:10:278",
          "RUS-HARD - Lap 67: 1:9:352",
          "RUS-HARD - Lap 68: 1:9:645",
          "RUS-HARD - Lap 69: 1:9:747",
          "RUS-HARD - Lap 70: 1:9:627",
          "RUS-HARD - Lap 71: 1:10:193"
         ],
         "type": "scatter",
         "x": [
          48,
          49,
          50,
          51,
          52,
          53,
          54,
          55,
          56,
          57,
          58,
          59,
          60,
          61,
          62,
          63,
          64,
          65,
          67,
          68,
          69,
          70,
          71
         ],
         "y": [
          "1900-01-01T00:01:09.164000",
          "1900-01-01T00:01:09.288000",
          "1900-01-01T00:01:09.342000",
          "1900-01-01T00:01:09.759000",
          "1900-01-01T00:01:09.881000",
          "1900-01-01T00:01:09.872000",
          "1900-01-01T00:01:10.372000",
          "1900-01-01T00:01:09.895000",
          "1900-01-01T00:01:09.711000",
          "1900-01-01T00:01:10.064000",
          "1900-01-01T00:01:10.002000",
          "1900-01-01T00:01:09.961000",
          "1900-01-01T00:01:10.065000",
          "1900-01-01T00:01:09.611000",
          "1900-01-01T00:01:10.050000",
          "1900-01-01T00:01:10.042000",
          "1900-01-01T00:01:10.924000",
          "1900-01-01T00:01:10.278000",
          "1900-01-01T00:01:09.352000",
          "1900-01-01T00:01:09.645000",
          "1900-01-01T00:01:09.747000",
          "1900-01-01T00:01:09.627000",
          "1900-01-01T00:01:10.193000"
         ]
        },
        {
         "hoverinfo": "text",
         "marker": {
          "color": "#00d2be",
          "line": {
           "color": "#43b02a",
           "width": 2
          },
          "size": 10
         },
         "mode": "markers",
         "name": "RUS - INTERMEDIATE",
         "text": [],
         "type": "scatter",
         "x": [],
         "y": []
        },
        {
         "hoverinfo": "text",
         "marker": {
          "color": "#00d2be",
          "line": {
           "color": "#0067ad",
           "width": 2
          },
          "size": 10
         },
         "mode": "markers",
         "name": "RUS - WET",
         "text": [],
         "type": "scatter",
         "x": [],
         "y": []
        },
        {
         "hoverinfo": "text",
         "marker": {
          "color": "#00d2be",
          "line": {
           "color": "#00ffff",
           "width": 2
          },
          "size": 10
         },
         "mode": "markers",
         "name": "RUS - UNKNOWN",
         "text": [],
         "type": "scatter",
         "x": [],
         "y": []
        },
        {
         "hoverinfo": "text",
         "marker": {
          "color": "#00d2be",
          "line": {
           "color": "#434649",
           "width": 2
          },
          "size": 10
         },
         "mode": "markers",
         "name": "RUS - TEST-UNKNOWN",
         "text": [],
         "type": "scatter",
         "x": [],
         "y": []
        }
       ],
       "layout": {
        "font": {
         "color": "white",
         "family": "Arial",
         "size": 12
        },
        "legend": {
         "orientation": "v",
         "title": {
          "text": "Driver - Compound"
         },
         "x": 1.27,
         "xanchor": "right",
         "y": 1,
         "yanchor": "top"
        },
        "paper_bgcolor": "#1a1a1a",
        "plot_bgcolor": "#1a1a1a",
        "showlegend": true,
        "template": {
         "data": {
          "bar": [
           {
            "error_x": {
             "color": "#2a3f5f"
            },
            "error_y": {
             "color": "#2a3f5f"
            },
            "marker": {
             "line": {
              "color": "#E5ECF6",
              "width": 0.5
             },
             "pattern": {
              "fillmode": "overlay",
              "size": 10,
              "solidity": 0.2
             }
            },
            "type": "bar"
           }
          ],
          "barpolar": [
           {
            "marker": {
             "line": {
              "color": "#E5ECF6",
              "width": 0.5
             },
             "pattern": {
              "fillmode": "overlay",
              "size": 10,
              "solidity": 0.2
             }
            },
            "type": "barpolar"
           }
          ],
          "carpet": [
           {
            "aaxis": {
             "endlinecolor": "#2a3f5f",
             "gridcolor": "white",
             "linecolor": "white",
             "minorgridcolor": "white",
             "startlinecolor": "#2a3f5f"
            },
            "baxis": {
             "endlinecolor": "#2a3f5f",
             "gridcolor": "white",
             "linecolor": "white",
             "minorgridcolor": "white",
             "startlinecolor": "#2a3f5f"
            },
            "type": "carpet"
           }
          ],
          "choropleth": [
           {
            "colorbar": {
             "outlinewidth": 0,
             "ticks": ""
            },
            "type": "choropleth"
           }
          ],
          "contour": [
           {
            "colorbar": {
             "outlinewidth": 0,
             "ticks": ""
            },
            "colorscale": [
             [
              0,
              "#0d0887"
             ],
             [
              0.1111111111111111,
              "#46039f"
             ],
             [
              0.2222222222222222,
              "#7201a8"
             ],
             [
              0.3333333333333333,
              "#9c179e"
             ],
             [
              0.4444444444444444,
              "#bd3786"
             ],
             [
              0.5555555555555556,
              "#d8576b"
             ],
             [
              0.6666666666666666,
              "#ed7953"
             ],
             [
              0.7777777777777778,
              "#fb9f3a"
             ],
             [
              0.8888888888888888,
              "#fdca26"
             ],
             [
              1,
              "#f0f921"
             ]
            ],
            "type": "contour"
           }
          ],
          "contourcarpet": [
           {
            "colorbar": {
             "outlinewidth": 0,
             "ticks": ""
            },
            "type": "contourcarpet"
           }
          ],
          "heatmap": [
           {
            "colorbar": {
             "outlinewidth": 0,
             "ticks": ""
            },
            "colorscale": [
             [
              0,
              "#0d0887"
             ],
             [
              0.1111111111111111,
              "#46039f"
             ],
             [
              0.2222222222222222,
              "#7201a8"
             ],
             [
              0.3333333333333333,
              "#9c179e"
             ],
             [
              0.4444444444444444,
              "#bd3786"
             ],
             [
              0.5555555555555556,
              "#d8576b"
             ],
             [
              0.6666666666666666,
              "#ed7953"
             ],
             [
              0.7777777777777778,
              "#fb9f3a"
             ],
             [
              0.8888888888888888,
              "#fdca26"
             ],
             [
              1,
              "#f0f921"
             ]
            ],
            "type": "heatmap"
           }
          ],
          "heatmapgl": [
           {
            "colorbar": {
             "outlinewidth": 0,
             "ticks": ""
            },
            "colorscale": [
             [
              0,
              "#0d0887"
             ],
             [
              0.1111111111111111,
              "#46039f"
             ],
             [
              0.2222222222222222,
              "#7201a8"
             ],
             [
              0.3333333333333333,
              "#9c179e"
             ],
             [
              0.4444444444444444,
              "#bd3786"
             ],
             [
              0.5555555555555556,
              "#d8576b"
             ],
             [
              0.6666666666666666,
              "#ed7953"
             ],
             [
              0.7777777777777778,
              "#fb9f3a"
             ],
             [
              0.8888888888888888,
              "#fdca26"
             ],
             [
              1,
              "#f0f921"
             ]
            ],
            "type": "heatmapgl"
           }
          ],
          "histogram": [
           {
            "marker": {
             "pattern": {
              "fillmode": "overlay",
              "size": 10,
              "solidity": 0.2
             }
            },
            "type": "histogram"
           }
          ],
          "histogram2d": [
           {
            "colorbar": {
             "outlinewidth": 0,
             "ticks": ""
            },
            "colorscale": [
             [
              0,
              "#0d0887"
             ],
             [
              0.1111111111111111,
              "#46039f"
             ],
             [
              0.2222222222222222,
              "#7201a8"
             ],
             [
              0.3333333333333333,
              "#9c179e"
             ],
             [
              0.4444444444444444,
              "#bd3786"
             ],
             [
              0.5555555555555556,
              "#d8576b"
             ],
             [
              0.6666666666666666,
              "#ed7953"
             ],
             [
              0.7777777777777778,
              "#fb9f3a"
             ],
             [
              0.8888888888888888,
              "#fdca26"
             ],
             [
              1,
              "#f0f921"
             ]
            ],
            "type": "histogram2d"
           }
          ],
          "histogram2dcontour": [
           {
            "colorbar": {
             "outlinewidth": 0,
             "ticks": ""
            },
            "colorscale": [
             [
              0,
              "#0d0887"
             ],
             [
              0.1111111111111111,
              "#46039f"
             ],
             [
              0.2222222222222222,
              "#7201a8"
             ],
             [
              0.3333333333333333,
              "#9c179e"
             ],
             [
              0.4444444444444444,
              "#bd3786"
             ],
             [
              0.5555555555555556,
              "#d8576b"
             ],
             [
              0.6666666666666666,
              "#ed7953"
             ],
             [
              0.7777777777777778,
              "#fb9f3a"
             ],
             [
              0.8888888888888888,
              "#fdca26"
             ],
             [
              1,
              "#f0f921"
             ]
            ],
            "type": "histogram2dcontour"
           }
          ],
          "mesh3d": [
           {
            "colorbar": {
             "outlinewidth": 0,
             "ticks": ""
            },
            "type": "mesh3d"
           }
          ],
          "parcoords": [
           {
            "line": {
             "colorbar": {
              "outlinewidth": 0,
              "ticks": ""
             }
            },
            "type": "parcoords"
           }
          ],
          "pie": [
           {
            "automargin": true,
            "type": "pie"
           }
          ],
          "scatter": [
           {
            "fillpattern": {
             "fillmode": "overlay",
             "size": 10,
             "solidity": 0.2
            },
            "type": "scatter"
           }
          ],
          "scatter3d": [
           {
            "line": {
             "colorbar": {
              "outlinewidth": 0,
              "ticks": ""
             }
            },
            "marker": {
             "colorbar": {
              "outlinewidth": 0,
              "ticks": ""
             }
            },
            "type": "scatter3d"
           }
          ],
          "scattercarpet": [
           {
            "marker": {
             "colorbar": {
              "outlinewidth": 0,
              "ticks": ""
             }
            },
            "type": "scattercarpet"
           }
          ],
          "scattergeo": [
           {
            "marker": {
             "colorbar": {
              "outlinewidth": 0,
              "ticks": ""
             }
            },
            "type": "scattergeo"
           }
          ],
          "scattergl": [
           {
            "marker": {
             "colorbar": {
              "outlinewidth": 0,
              "ticks": ""
             }
            },
            "type": "scattergl"
           }
          ],
          "scattermapbox": [
           {
            "marker": {
             "colorbar": {
              "outlinewidth": 0,
              "ticks": ""
             }
            },
            "type": "scattermapbox"
           }
          ],
          "scatterpolar": [
           {
            "marker": {
             "colorbar": {
              "outlinewidth": 0,
              "ticks": ""
             }
            },
            "type": "scatterpolar"
           }
          ],
          "scatterpolargl": [
           {
            "marker": {
             "colorbar": {
              "outlinewidth": 0,
              "ticks": ""
             }
            },
            "type": "scatterpolargl"
           }
          ],
          "scatterternary": [
           {
            "marker": {
             "colorbar": {
              "outlinewidth": 0,
              "ticks": ""
             }
            },
            "type": "scatterternary"
           }
          ],
          "surface": [
           {
            "colorbar": {
             "outlinewidth": 0,
             "ticks": ""
            },
            "colorscale": [
             [
              0,
              "#0d0887"
             ],
             [
              0.1111111111111111,
              "#46039f"
             ],
             [
              0.2222222222222222,
              "#7201a8"
             ],
             [
              0.3333333333333333,
              "#9c179e"
             ],
             [
              0.4444444444444444,
              "#bd3786"
             ],
             [
              0.5555555555555556,
              "#d8576b"
             ],
             [
              0.6666666666666666,
              "#ed7953"
             ],
             [
              0.7777777777777778,
              "#fb9f3a"
             ],
             [
              0.8888888888888888,
              "#fdca26"
             ],
             [
              1,
              "#f0f921"
             ]
            ],
            "type": "surface"
           }
          ],
          "table": [
           {
            "cells": {
             "fill": {
              "color": "#EBF0F8"
             },
             "line": {
              "color": "white"
             }
            },
            "header": {
             "fill": {
              "color": "#C8D4E3"
             },
             "line": {
              "color": "white"
             }
            },
            "type": "table"
           }
          ]
         },
         "layout": {
          "annotationdefaults": {
           "arrowcolor": "#2a3f5f",
           "arrowhead": 0,
           "arrowwidth": 1
          },
          "autotypenumbers": "strict",
          "coloraxis": {
           "colorbar": {
            "outlinewidth": 0,
            "ticks": ""
           }
          },
          "colorscale": {
           "diverging": [
            [
             0,
             "#8e0152"
            ],
            [
             0.1,
             "#c51b7d"
            ],
            [
             0.2,
             "#de77ae"
            ],
            [
             0.3,
             "#f1b6da"
            ],
            [
             0.4,
             "#fde0ef"
            ],
            [
             0.5,
             "#f7f7f7"
            ],
            [
             0.6,
             "#e6f5d0"
            ],
            [
             0.7,
             "#b8e186"
            ],
            [
             0.8,
             "#7fbc41"
            ],
            [
             0.9,
             "#4d9221"
            ],
            [
             1,
             "#276419"
            ]
           ],
           "sequential": [
            [
             0,
             "#0d0887"
            ],
            [
             0.1111111111111111,
             "#46039f"
            ],
            [
             0.2222222222222222,
             "#7201a8"
            ],
            [
             0.3333333333333333,
             "#9c179e"
            ],
            [
             0.4444444444444444,
             "#bd3786"
            ],
            [
             0.5555555555555556,
             "#d8576b"
            ],
            [
             0.6666666666666666,
             "#ed7953"
            ],
            [
             0.7777777777777778,
             "#fb9f3a"
            ],
            [
             0.8888888888888888,
             "#fdca26"
            ],
            [
             1,
             "#f0f921"
            ]
           ],
           "sequentialminus": [
            [
             0,
             "#0d0887"
            ],
            [
             0.1111111111111111,
             "#46039f"
            ],
            [
             0.2222222222222222,
             "#7201a8"
            ],
            [
             0.3333333333333333,
             "#9c179e"
            ],
            [
             0.4444444444444444,
             "#bd3786"
            ],
            [
             0.5555555555555556,
             "#d8576b"
            ],
            [
             0.6666666666666666,
             "#ed7953"
            ],
            [
             0.7777777777777778,
             "#fb9f3a"
            ],
            [
             0.8888888888888888,
             "#fdca26"
            ],
            [
             1,
             "#f0f921"
            ]
           ]
          },
          "colorway": [
           "#636efa",
           "#EF553B",
           "#00cc96",
           "#ab63fa",
           "#FFA15A",
           "#19d3f3",
           "#FF6692",
           "#B6E880",
           "#FF97FF",
           "#FECB52"
          ],
          "font": {
           "color": "#2a3f5f"
          },
          "geo": {
           "bgcolor": "white",
           "lakecolor": "white",
           "landcolor": "#E5ECF6",
           "showlakes": true,
           "showland": true,
           "subunitcolor": "white"
          },
          "hoverlabel": {
           "align": "left"
          },
          "hovermode": "closest",
          "mapbox": {
           "style": "light"
          },
          "paper_bgcolor": "white",
          "plot_bgcolor": "#E5ECF6",
          "polar": {
           "angularaxis": {
            "gridcolor": "white",
            "linecolor": "white",
            "ticks": ""
           },
           "bgcolor": "#E5ECF6",
           "radialaxis": {
            "gridcolor": "white",
            "linecolor": "white",
            "ticks": ""
           }
          },
          "scene": {
           "xaxis": {
            "backgroundcolor": "#E5ECF6",
            "gridcolor": "white",
            "gridwidth": 2,
            "linecolor": "white",
            "showbackground": true,
            "ticks": "",
            "zerolinecolor": "white"
           },
           "yaxis": {
            "backgroundcolor": "#E5ECF6",
            "gridcolor": "white",
            "gridwidth": 2,
            "linecolor": "white",
            "showbackground": true,
            "ticks": "",
            "zerolinecolor": "white"
           },
           "zaxis": {
            "backgroundcolor": "#E5ECF6",
            "gridcolor": "white",
            "gridwidth": 2,
            "linecolor": "white",
            "showbackground": true,
            "ticks": "",
            "zerolinecolor": "white"
           }
          },
          "shapedefaults": {
           "line": {
            "color": "#2a3f5f"
           }
          },
          "ternary": {
           "aaxis": {
            "gridcolor": "white",
            "linecolor": "white",
            "ticks": ""
           },
           "baxis": {
            "gridcolor": "white",
            "linecolor": "white",
            "ticks": ""
           },
           "bgcolor": "#E5ECF6",
           "caxis": {
            "gridcolor": "white",
            "linecolor": "white",
            "ticks": ""
           }
          },
          "title": {
           "x": 0.05
          },
          "xaxis": {
           "automargin": true,
           "gridcolor": "white",
           "linecolor": "white",
           "ticks": "",
           "title": {
            "standoff": 15
           },
           "zerolinecolor": "white",
           "zerolinewidth": 2
          },
          "yaxis": {
           "automargin": true,
           "gridcolor": "white",
           "linecolor": "white",
           "ticks": "",
           "title": {
            "standoff": 15
           },
           "zerolinecolor": "white",
           "zerolinewidth": 2
          }
         }
        },
        "title": {
         "text": "VER - RUS - Lap Times with Compound Comparison",
         "x": 0.5,
         "xanchor": "center"
        },
        "xaxis": {
         "title": {
          "text": "Lap Number"
         }
        },
        "yaxis": {
         "tickformat": "%M:%S.%f",
         "title": {
          "text": "Lap Time"
         }
        }
       }
      }
     },
     "metadata": {},
     "output_type": "display_data"
    }
   ],
   "source": [
    "plot_laptime_compound_comparison_merged(session, 'VER', 'RUS')"
   ]
  },
  {
   "cell_type": "markdown",
   "metadata": {},
   "source": [
    "## 5 - Parallel Coordinates: Multidata Strategy Analysis\n",
    "The last graph was the most challenging in terms of preparing the data well. The concept of this experiment is to represent the data and extract useful patterns regarding the optimal strategy, to do this the parallel coordinates plot has been used.\n",
    "The data represented are:\n",
    "* Qualifying position (starting position)\n",
    "* Compound strategy \n",
    "* Number of pit stops\n",
    "* Finish position of the race \n",
    "\n",
    "Each unique strategy used in the race has been extracted and annotated in the CompoundStrategy column, keeping only the first letter of each compound to improve readability. The same procedure is used for the number of pit stops. The colour lines have been adjusted to show the first position as red and the last positions as white. \n",
    "This makes it really easy to spot patterns by understanding the most common strategies of compounds and the number of stops that lead to the best final positions. The ability to swap columns and filter certain parts of the columns improves readability.\n",
    "\n",
    "The target user of this graph is an engineer who knows what a parallel coordinates plot is."
   ]
  },
  {
   "cell_type": "code",
   "execution_count": 2,
   "metadata": {},
   "outputs": [
    {
     "name": "stderr",
     "output_type": "stream",
     "text": [
      "core           INFO \tLoading data for British Grand Prix - Race [v3.3.8]\n",
      "req            INFO \tUsing cached data for session_info\n",
      "req            INFO \tUsing cached data for driver_info\n",
      "req            INFO \tUsing cached data for session_status_data\n",
      "req            INFO \tUsing cached data for lap_count\n",
      "req            INFO \tUsing cached data for track_status_data\n",
      "req            INFO \tUsing cached data for _extended_timing_data\n",
      "req            INFO \tUsing cached data for timing_app_data\n",
      "core           INFO \tProcessing timing data...\n",
      "core        WARNING \tCannot load lap times for first lap from Ergast. Timing data is not available for this session.\n",
      "req            INFO \tUsing cached data for car_data\n",
      "req            INFO \tUsing cached data for position_data\n",
      "req            INFO \tUsing cached data for weather_data\n",
      "req            INFO \tUsing cached data for race_control_messages\n",
      "core           INFO \tFinished loading data for 20 drivers: ['44', '1', '4', '81', '55', '27', '18', '14', '23', '22', '2', '20', '3', '16', '77', '31', '11', '24', '63', '10']\n",
      "c:\\Users\\andre\\Desktop\\SLDV\\F1-Dash\\utils.py:263: FutureWarning: The behavior of DataFrame concatenation with empty or all-NA entries is deprecated. In a future version, this will no longer exclude empty or all-NA columns when determining the result dtypes. To retain the old behavior, exclude the relevant entries before the concat operation.\n",
      "  df = pd.concat([df, driver_stints])\n",
      "core           INFO \tLoading data for British Grand Prix - Qualifying [v3.3.8]\n",
      "req            INFO \tUsing cached data for session_info\n",
      "req            INFO \tUsing cached data for driver_info\n",
      "req            INFO \tUsing cached data for session_status_data\n",
      "req            INFO \tUsing cached data for track_status_data\n",
      "req            INFO \tUsing cached data for _extended_timing_data\n",
      "req            INFO \tUsing cached data for timing_app_data\n",
      "core           INFO \tProcessing timing data...\n",
      "req            INFO \tUsing cached data for car_data\n",
      "req            INFO \tUsing cached data for position_data\n",
      "req            INFO \tUsing cached data for weather_data\n",
      "req            INFO \tUsing cached data for race_control_messages\n",
      "core           INFO \tFinished loading data for 20 drivers: ['63', '44', '4', '1', '81', '27', '55', '18', '23', '14', '16', '2', '22', '24', '3', '77', '20', '31', '11', '10']\n",
      "core           INFO \tLoading data for British Grand Prix - Race [v3.3.8]\n",
      "req            INFO \tUsing cached data for session_info\n",
      "req            INFO \tUsing cached data for driver_info\n",
      "req            INFO \tUsing cached data for session_status_data\n",
      "req            INFO \tUsing cached data for lap_count\n",
      "req            INFO \tUsing cached data for track_status_data\n",
      "req            INFO \tUsing cached data for _extended_timing_data\n",
      "req            INFO \tUsing cached data for timing_app_data\n",
      "core           INFO \tProcessing timing data...\n",
      "core        WARNING \tCannot load lap times for first lap from Ergast. Timing data is not available for this session.\n",
      "req            INFO \tUsing cached data for car_data\n",
      "req            INFO \tUsing cached data for position_data\n",
      "req            INFO \tUsing cached data for weather_data\n",
      "req            INFO \tUsing cached data for race_control_messages\n",
      "core           INFO \tFinished loading data for 20 drivers: ['44', '1', '4', '81', '55', '27', '18', '14', '23', '22', '2', '20', '3', '16', '77', '31', '11', '24', '63', '10']\n"
     ]
    },
    {
     "data": {
      "text/html": [
       "<div>\n",
       "<style scoped>\n",
       "    .dataframe tbody tr th:only-of-type {\n",
       "        vertical-align: middle;\n",
       "    }\n",
       "\n",
       "    .dataframe tbody tr th {\n",
       "        vertical-align: top;\n",
       "    }\n",
       "\n",
       "    .dataframe thead th {\n",
       "        text-align: right;\n",
       "    }\n",
       "</style>\n",
       "<table border=\"1\" class=\"dataframe\">\n",
       "  <thead>\n",
       "    <tr style=\"text-align: right;\">\n",
       "      <th></th>\n",
       "      <th>Driver</th>\n",
       "      <th>Stops</th>\n",
       "      <th>CompoundStrategy</th>\n",
       "      <th>QualiPosition</th>\n",
       "      <th>FinishPosition</th>\n",
       "    </tr>\n",
       "  </thead>\n",
       "  <tbody>\n",
       "    <tr>\n",
       "      <th>18</th>\n",
       "      <td>RUS</td>\n",
       "      <td>1</td>\n",
       "      <td>[MEDIUM, INTERMEDIATE]</td>\n",
       "      <td>1</td>\n",
       "      <td>19</td>\n",
       "    </tr>\n",
       "    <tr>\n",
       "      <th>0</th>\n",
       "      <td>HAM</td>\n",
       "      <td>2</td>\n",
       "      <td>[MEDIUM, INTERMEDIATE, SOFT]</td>\n",
       "      <td>2</td>\n",
       "      <td>1</td>\n",
       "    </tr>\n",
       "    <tr>\n",
       "      <th>2</th>\n",
       "      <td>NOR</td>\n",
       "      <td>2</td>\n",
       "      <td>[MEDIUM, INTERMEDIATE, SOFT]</td>\n",
       "      <td>3</td>\n",
       "      <td>3</td>\n",
       "    </tr>\n",
       "    <tr>\n",
       "      <th>1</th>\n",
       "      <td>VER</td>\n",
       "      <td>2</td>\n",
       "      <td>[MEDIUM, INTERMEDIATE, HARD]</td>\n",
       "      <td>4</td>\n",
       "      <td>2</td>\n",
       "    </tr>\n",
       "    <tr>\n",
       "      <th>3</th>\n",
       "      <td>PIA</td>\n",
       "      <td>2</td>\n",
       "      <td>[MEDIUM, INTERMEDIATE, MEDIUM]</td>\n",
       "      <td>5</td>\n",
       "      <td>4</td>\n",
       "    </tr>\n",
       "    <tr>\n",
       "      <th>5</th>\n",
       "      <td>HUL</td>\n",
       "      <td>2</td>\n",
       "      <td>[MEDIUM, INTERMEDIATE, SOFT]</td>\n",
       "      <td>6</td>\n",
       "      <td>6</td>\n",
       "    </tr>\n",
       "    <tr>\n",
       "      <th>4</th>\n",
       "      <td>SAI</td>\n",
       "      <td>3</td>\n",
       "      <td>[MEDIUM, INTERMEDIATE, HARD, SOFT]</td>\n",
       "      <td>7</td>\n",
       "      <td>5</td>\n",
       "    </tr>\n",
       "    <tr>\n",
       "      <th>6</th>\n",
       "      <td>STR</td>\n",
       "      <td>2</td>\n",
       "      <td>[MEDIUM, INTERMEDIATE, MEDIUM]</td>\n",
       "      <td>8</td>\n",
       "      <td>7</td>\n",
       "    </tr>\n",
       "    <tr>\n",
       "      <th>8</th>\n",
       "      <td>ALB</td>\n",
       "      <td>2</td>\n",
       "      <td>[MEDIUM, INTERMEDIATE, MEDIUM]</td>\n",
       "      <td>9</td>\n",
       "      <td>9</td>\n",
       "    </tr>\n",
       "    <tr>\n",
       "      <th>7</th>\n",
       "      <td>ALO</td>\n",
       "      <td>2</td>\n",
       "      <td>[MEDIUM, INTERMEDIATE, MEDIUM]</td>\n",
       "      <td>10</td>\n",
       "      <td>8</td>\n",
       "    </tr>\n",
       "    <tr>\n",
       "      <th>13</th>\n",
       "      <td>LEC</td>\n",
       "      <td>3</td>\n",
       "      <td>[MEDIUM, INTERMEDIATE, INTERMEDIATE, SOFT]</td>\n",
       "      <td>11</td>\n",
       "      <td>14</td>\n",
       "    </tr>\n",
       "    <tr>\n",
       "      <th>10</th>\n",
       "      <td>SAR</td>\n",
       "      <td>2</td>\n",
       "      <td>[MEDIUM, INTERMEDIATE, SOFT]</td>\n",
       "      <td>12</td>\n",
       "      <td>11</td>\n",
       "    </tr>\n",
       "    <tr>\n",
       "      <th>9</th>\n",
       "      <td>TSU</td>\n",
       "      <td>2</td>\n",
       "      <td>[MEDIUM, INTERMEDIATE, SOFT]</td>\n",
       "      <td>13</td>\n",
       "      <td>10</td>\n",
       "    </tr>\n",
       "    <tr>\n",
       "      <th>17</th>\n",
       "      <td>ZHO</td>\n",
       "      <td>4</td>\n",
       "      <td>[SOFT, MEDIUM, INTERMEDIATE, INTERMEDIATE, SOFT]</td>\n",
       "      <td>14</td>\n",
       "      <td>18</td>\n",
       "    </tr>\n",
       "    <tr>\n",
       "      <th>12</th>\n",
       "      <td>RIC</td>\n",
       "      <td>2</td>\n",
       "      <td>[MEDIUM, INTERMEDIATE, SOFT]</td>\n",
       "      <td>15</td>\n",
       "      <td>13</td>\n",
       "    </tr>\n",
       "    <tr>\n",
       "      <th>14</th>\n",
       "      <td>BOT</td>\n",
       "      <td>2</td>\n",
       "      <td>[MEDIUM, INTERMEDIATE, SOFT]</td>\n",
       "      <td>16</td>\n",
       "      <td>15</td>\n",
       "    </tr>\n",
       "    <tr>\n",
       "      <th>11</th>\n",
       "      <td>MAG</td>\n",
       "      <td>2</td>\n",
       "      <td>[MEDIUM, INTERMEDIATE, SOFT]</td>\n",
       "      <td>17</td>\n",
       "      <td>12</td>\n",
       "    </tr>\n",
       "    <tr>\n",
       "      <th>15</th>\n",
       "      <td>OCO</td>\n",
       "      <td>4</td>\n",
       "      <td>[SOFT, INTERMEDIATE, MEDIUM, INTERMEDIATE, MED...</td>\n",
       "      <td>18</td>\n",
       "      <td>16</td>\n",
       "    </tr>\n",
       "    <tr>\n",
       "      <th>16</th>\n",
       "      <td>PER</td>\n",
       "      <td>4</td>\n",
       "      <td>[HARD, INTERMEDIATE, INTERMEDIATE, MEDIUM, SOFT]</td>\n",
       "      <td>19</td>\n",
       "      <td>17</td>\n",
       "    </tr>\n",
       "    <tr>\n",
       "      <th>19</th>\n",
       "      <td>GAS</td>\n",
       "      <td>0</td>\n",
       "      <td>[MEDIUM]</td>\n",
       "      <td>20</td>\n",
       "      <td>20</td>\n",
       "    </tr>\n",
       "  </tbody>\n",
       "</table>\n",
       "</div>"
      ],
      "text/plain": [
       "   Driver  Stops                                   CompoundStrategy  \\\n",
       "18    RUS      1                             [MEDIUM, INTERMEDIATE]   \n",
       "0     HAM      2                       [MEDIUM, INTERMEDIATE, SOFT]   \n",
       "2     NOR      2                       [MEDIUM, INTERMEDIATE, SOFT]   \n",
       "1     VER      2                       [MEDIUM, INTERMEDIATE, HARD]   \n",
       "3     PIA      2                     [MEDIUM, INTERMEDIATE, MEDIUM]   \n",
       "5     HUL      2                       [MEDIUM, INTERMEDIATE, SOFT]   \n",
       "4     SAI      3                 [MEDIUM, INTERMEDIATE, HARD, SOFT]   \n",
       "6     STR      2                     [MEDIUM, INTERMEDIATE, MEDIUM]   \n",
       "8     ALB      2                     [MEDIUM, INTERMEDIATE, MEDIUM]   \n",
       "7     ALO      2                     [MEDIUM, INTERMEDIATE, MEDIUM]   \n",
       "13    LEC      3         [MEDIUM, INTERMEDIATE, INTERMEDIATE, SOFT]   \n",
       "10    SAR      2                       [MEDIUM, INTERMEDIATE, SOFT]   \n",
       "9     TSU      2                       [MEDIUM, INTERMEDIATE, SOFT]   \n",
       "17    ZHO      4   [SOFT, MEDIUM, INTERMEDIATE, INTERMEDIATE, SOFT]   \n",
       "12    RIC      2                       [MEDIUM, INTERMEDIATE, SOFT]   \n",
       "14    BOT      2                       [MEDIUM, INTERMEDIATE, SOFT]   \n",
       "11    MAG      2                       [MEDIUM, INTERMEDIATE, SOFT]   \n",
       "15    OCO      4  [SOFT, INTERMEDIATE, MEDIUM, INTERMEDIATE, MED...   \n",
       "16    PER      4   [HARD, INTERMEDIATE, INTERMEDIATE, MEDIUM, SOFT]   \n",
       "19    GAS      0                                           [MEDIUM]   \n",
       "\n",
       "    QualiPosition  FinishPosition  \n",
       "18              1              19  \n",
       "0               2               1  \n",
       "2               3               3  \n",
       "1               4               2  \n",
       "3               5               4  \n",
       "5               6               6  \n",
       "4               7               5  \n",
       "6               8               7  \n",
       "8               9               9  \n",
       "7              10               8  \n",
       "13             11              14  \n",
       "10             12              11  \n",
       "9              13              10  \n",
       "17             14              18  \n",
       "12             15              13  \n",
       "14             16              15  \n",
       "11             17              12  \n",
       "15             18              16  \n",
       "16             19              17  \n",
       "19             20              20  "
      ]
     },
     "execution_count": 2,
     "metadata": {},
     "output_type": "execute_result"
    }
   ],
   "source": [
    "df = get_parallel_coordinates_plot_dataset(\"2024: British Grand Prix\")\n",
    "df"
   ]
  },
  {
   "cell_type": "code",
   "execution_count": 2,
   "metadata": {},
   "outputs": [
    {
     "name": "stderr",
     "output_type": "stream",
     "text": [
      "core           INFO \tLoading data for British Grand Prix - Race [v3.3.8]\n",
      "req            INFO \tUsing cached data for session_info\n",
      "req            INFO \tUsing cached data for driver_info\n",
      "req            INFO \tUsing cached data for session_status_data\n",
      "req            INFO \tUsing cached data for lap_count\n",
      "req            INFO \tUsing cached data for track_status_data\n",
      "req            INFO \tUsing cached data for _extended_timing_data\n",
      "req            INFO \tUsing cached data for timing_app_data\n",
      "core           INFO \tProcessing timing data...\n",
      "core        WARNING \tCannot load lap times for first lap from Ergast. Timing data is not available for this session.\n",
      "req            INFO \tUsing cached data for car_data\n",
      "req            INFO \tUsing cached data for position_data\n",
      "req            INFO \tUsing cached data for weather_data\n",
      "req            INFO \tUsing cached data for race_control_messages\n",
      "core           INFO \tFinished loading data for 20 drivers: ['44', '1', '4', '81', '55', '27', '18', '14', '23', '22', '2', '20', '3', '16', '77', '31', '11', '24', '63', '10']\n",
      "c:\\Users\\andre\\Desktop\\SLDV\\F1-Dash\\utils.py:263: FutureWarning: The behavior of DataFrame concatenation with empty or all-NA entries is deprecated. In a future version, this will no longer exclude empty or all-NA columns when determining the result dtypes. To retain the old behavior, exclude the relevant entries before the concat operation.\n",
      "  df = pd.concat([df, driver_stints])\n",
      "core           INFO \tLoading data for British Grand Prix - Qualifying [v3.3.8]\n",
      "req            INFO \tUsing cached data for session_info\n",
      "req            INFO \tUsing cached data for driver_info\n",
      "req            INFO \tUsing cached data for session_status_data\n",
      "req            INFO \tUsing cached data for track_status_data\n",
      "req            INFO \tUsing cached data for _extended_timing_data\n",
      "req            INFO \tUsing cached data for timing_app_data\n",
      "core           INFO \tProcessing timing data...\n",
      "req            INFO \tUsing cached data for car_data\n",
      "req            INFO \tUsing cached data for position_data\n",
      "req            INFO \tUsing cached data for weather_data\n",
      "req            INFO \tUsing cached data for race_control_messages\n",
      "core           INFO \tFinished loading data for 20 drivers: ['63', '44', '4', '1', '81', '27', '55', '18', '23', '14', '16', '2', '22', '24', '3', '77', '20', '31', '11', '10']\n",
      "core           INFO \tLoading data for British Grand Prix - Race [v3.3.8]\n",
      "req            INFO \tUsing cached data for session_info\n",
      "req            INFO \tUsing cached data for driver_info\n",
      "req            INFO \tUsing cached data for session_status_data\n",
      "req            INFO \tUsing cached data for lap_count\n",
      "req            INFO \tUsing cached data for track_status_data\n",
      "req            INFO \tUsing cached data for _extended_timing_data\n",
      "req            INFO \tUsing cached data for timing_app_data\n",
      "core           INFO \tProcessing timing data...\n",
      "core        WARNING \tCannot load lap times for first lap from Ergast. Timing data is not available for this session.\n",
      "req            INFO \tUsing cached data for car_data\n",
      "req            INFO \tUsing cached data for position_data\n",
      "req            INFO \tUsing cached data for weather_data\n",
      "req            INFO \tUsing cached data for race_control_messages\n",
      "core           INFO \tFinished loading data for 20 drivers: ['44', '1', '4', '81', '55', '27', '18', '14', '23', '22', '2', '20', '3', '16', '77', '31', '11', '24', '63', '10']\n"
     ]
    },
    {
     "data": {
      "application/vnd.plotly.v1+json": {
       "config": {
        "plotlyServerURL": "https://plot.ly"
       },
       "data": [
        {
         "customdata": [
          [
           "RUS"
          ],
          [
           "HAM"
          ],
          [
           "NOR"
          ],
          [
           "VER"
          ],
          [
           "PIA"
          ],
          [
           "HUL"
          ],
          [
           "SAI"
          ],
          [
           "STR"
          ],
          [
           "ALB"
          ],
          [
           "ALO"
          ],
          [
           "LEC"
          ],
          [
           "SAR"
          ],
          [
           "TSU"
          ],
          [
           "ZHO"
          ],
          [
           "RIC"
          ],
          [
           "BOT"
          ],
          [
           "MAG"
          ],
          [
           "OCO"
          ],
          [
           "PER"
          ],
          [
           "GAS"
          ]
         ],
         "dimensions": [
          {
           "constraintrange": [
            1,
            20
           ],
           "label": "Starting position",
           "range": [
            1,
            20
           ],
           "values": [
            1,
            2,
            3,
            4,
            5,
            6,
            7,
            8,
            9,
            10,
            11,
            12,
            13,
            14,
            15,
            16,
            17,
            18,
            19,
            20
           ]
          },
          {
           "label": "Compound Strategy",
           "ticktext": [
            "M, I",
            "M, I, S",
            "M, I, H",
            "M, I, M",
            "M, I, H, S",
            "M, I, I, S",
            "S, M, I, I, S",
            "S, I, M, I, M",
            "H, I, I, M, S",
            "M"
           ],
           "tickvals": [
            0,
            1,
            2,
            3,
            4,
            5,
            6,
            7,
            8,
            9
           ],
           "values": [
            0,
            1,
            1,
            2,
            3,
            1,
            4,
            3,
            3,
            3,
            5,
            1,
            1,
            6,
            1,
            1,
            1,
            7,
            8,
            9
           ]
          },
          {
           "label": "Stops",
           "range": [
            0,
            5
           ],
           "tickvals": [
            0,
            1,
            2,
            3,
            4
           ],
           "values": [
            1,
            2,
            2,
            2,
            2,
            2,
            3,
            2,
            2,
            2,
            3,
            2,
            2,
            4,
            2,
            2,
            2,
            4,
            4,
            0
           ]
          },
          {
           "label": "Finish Position",
           "range": [
            1,
            20
           ],
           "values": [
            19,
            1,
            3,
            2,
            4,
            6,
            5,
            7,
            9,
            8,
            14,
            11,
            10,
            18,
            13,
            15,
            12,
            16,
            17,
            20
           ]
          }
         ],
         "line": {
          "cmax": 20,
          "cmin": 1,
          "color": [
           19,
           1,
           3,
           2,
           4,
           6,
           5,
           7,
           9,
           8,
           14,
           11,
           10,
           18,
           13,
           15,
           12,
           16,
           17,
           20
          ],
          "colorscale": [
           [
            0,
            "red"
           ],
           [
            1,
            "white"
           ]
          ],
          "showscale": true
         },
         "type": "parcoords",
         "unselected": {
          "line": {
           "color": "green",
           "opacity": 0.5
          }
         }
        }
       ],
       "layout": {
        "font": {
         "color": "white",
         "family": "Arial",
         "size": 12
        },
        "paper_bgcolor": "#1a1a1a",
        "plot_bgcolor": "#1a1a1a",
        "template": {
         "data": {
          "bar": [
           {
            "error_x": {
             "color": "#2a3f5f"
            },
            "error_y": {
             "color": "#2a3f5f"
            },
            "marker": {
             "line": {
              "color": "#E5ECF6",
              "width": 0.5
             },
             "pattern": {
              "fillmode": "overlay",
              "size": 10,
              "solidity": 0.2
             }
            },
            "type": "bar"
           }
          ],
          "barpolar": [
           {
            "marker": {
             "line": {
              "color": "#E5ECF6",
              "width": 0.5
             },
             "pattern": {
              "fillmode": "overlay",
              "size": 10,
              "solidity": 0.2
             }
            },
            "type": "barpolar"
           }
          ],
          "carpet": [
           {
            "aaxis": {
             "endlinecolor": "#2a3f5f",
             "gridcolor": "white",
             "linecolor": "white",
             "minorgridcolor": "white",
             "startlinecolor": "#2a3f5f"
            },
            "baxis": {
             "endlinecolor": "#2a3f5f",
             "gridcolor": "white",
             "linecolor": "white",
             "minorgridcolor": "white",
             "startlinecolor": "#2a3f5f"
            },
            "type": "carpet"
           }
          ],
          "choropleth": [
           {
            "colorbar": {
             "outlinewidth": 0,
             "ticks": ""
            },
            "type": "choropleth"
           }
          ],
          "contour": [
           {
            "colorbar": {
             "outlinewidth": 0,
             "ticks": ""
            },
            "colorscale": [
             [
              0,
              "#0d0887"
             ],
             [
              0.1111111111111111,
              "#46039f"
             ],
             [
              0.2222222222222222,
              "#7201a8"
             ],
             [
              0.3333333333333333,
              "#9c179e"
             ],
             [
              0.4444444444444444,
              "#bd3786"
             ],
             [
              0.5555555555555556,
              "#d8576b"
             ],
             [
              0.6666666666666666,
              "#ed7953"
             ],
             [
              0.7777777777777778,
              "#fb9f3a"
             ],
             [
              0.8888888888888888,
              "#fdca26"
             ],
             [
              1,
              "#f0f921"
             ]
            ],
            "type": "contour"
           }
          ],
          "contourcarpet": [
           {
            "colorbar": {
             "outlinewidth": 0,
             "ticks": ""
            },
            "type": "contourcarpet"
           }
          ],
          "heatmap": [
           {
            "colorbar": {
             "outlinewidth": 0,
             "ticks": ""
            },
            "colorscale": [
             [
              0,
              "#0d0887"
             ],
             [
              0.1111111111111111,
              "#46039f"
             ],
             [
              0.2222222222222222,
              "#7201a8"
             ],
             [
              0.3333333333333333,
              "#9c179e"
             ],
             [
              0.4444444444444444,
              "#bd3786"
             ],
             [
              0.5555555555555556,
              "#d8576b"
             ],
             [
              0.6666666666666666,
              "#ed7953"
             ],
             [
              0.7777777777777778,
              "#fb9f3a"
             ],
             [
              0.8888888888888888,
              "#fdca26"
             ],
             [
              1,
              "#f0f921"
             ]
            ],
            "type": "heatmap"
           }
          ],
          "heatmapgl": [
           {
            "colorbar": {
             "outlinewidth": 0,
             "ticks": ""
            },
            "colorscale": [
             [
              0,
              "#0d0887"
             ],
             [
              0.1111111111111111,
              "#46039f"
             ],
             [
              0.2222222222222222,
              "#7201a8"
             ],
             [
              0.3333333333333333,
              "#9c179e"
             ],
             [
              0.4444444444444444,
              "#bd3786"
             ],
             [
              0.5555555555555556,
              "#d8576b"
             ],
             [
              0.6666666666666666,
              "#ed7953"
             ],
             [
              0.7777777777777778,
              "#fb9f3a"
             ],
             [
              0.8888888888888888,
              "#fdca26"
             ],
             [
              1,
              "#f0f921"
             ]
            ],
            "type": "heatmapgl"
           }
          ],
          "histogram": [
           {
            "marker": {
             "pattern": {
              "fillmode": "overlay",
              "size": 10,
              "solidity": 0.2
             }
            },
            "type": "histogram"
           }
          ],
          "histogram2d": [
           {
            "colorbar": {
             "outlinewidth": 0,
             "ticks": ""
            },
            "colorscale": [
             [
              0,
              "#0d0887"
             ],
             [
              0.1111111111111111,
              "#46039f"
             ],
             [
              0.2222222222222222,
              "#7201a8"
             ],
             [
              0.3333333333333333,
              "#9c179e"
             ],
             [
              0.4444444444444444,
              "#bd3786"
             ],
             [
              0.5555555555555556,
              "#d8576b"
             ],
             [
              0.6666666666666666,
              "#ed7953"
             ],
             [
              0.7777777777777778,
              "#fb9f3a"
             ],
             [
              0.8888888888888888,
              "#fdca26"
             ],
             [
              1,
              "#f0f921"
             ]
            ],
            "type": "histogram2d"
           }
          ],
          "histogram2dcontour": [
           {
            "colorbar": {
             "outlinewidth": 0,
             "ticks": ""
            },
            "colorscale": [
             [
              0,
              "#0d0887"
             ],
             [
              0.1111111111111111,
              "#46039f"
             ],
             [
              0.2222222222222222,
              "#7201a8"
             ],
             [
              0.3333333333333333,
              "#9c179e"
             ],
             [
              0.4444444444444444,
              "#bd3786"
             ],
             [
              0.5555555555555556,
              "#d8576b"
             ],
             [
              0.6666666666666666,
              "#ed7953"
             ],
             [
              0.7777777777777778,
              "#fb9f3a"
             ],
             [
              0.8888888888888888,
              "#fdca26"
             ],
             [
              1,
              "#f0f921"
             ]
            ],
            "type": "histogram2dcontour"
           }
          ],
          "mesh3d": [
           {
            "colorbar": {
             "outlinewidth": 0,
             "ticks": ""
            },
            "type": "mesh3d"
           }
          ],
          "parcoords": [
           {
            "line": {
             "colorbar": {
              "outlinewidth": 0,
              "ticks": ""
             }
            },
            "type": "parcoords"
           }
          ],
          "pie": [
           {
            "automargin": true,
            "type": "pie"
           }
          ],
          "scatter": [
           {
            "fillpattern": {
             "fillmode": "overlay",
             "size": 10,
             "solidity": 0.2
            },
            "type": "scatter"
           }
          ],
          "scatter3d": [
           {
            "line": {
             "colorbar": {
              "outlinewidth": 0,
              "ticks": ""
             }
            },
            "marker": {
             "colorbar": {
              "outlinewidth": 0,
              "ticks": ""
             }
            },
            "type": "scatter3d"
           }
          ],
          "scattercarpet": [
           {
            "marker": {
             "colorbar": {
              "outlinewidth": 0,
              "ticks": ""
             }
            },
            "type": "scattercarpet"
           }
          ],
          "scattergeo": [
           {
            "marker": {
             "colorbar": {
              "outlinewidth": 0,
              "ticks": ""
             }
            },
            "type": "scattergeo"
           }
          ],
          "scattergl": [
           {
            "marker": {
             "colorbar": {
              "outlinewidth": 0,
              "ticks": ""
             }
            },
            "type": "scattergl"
           }
          ],
          "scattermapbox": [
           {
            "marker": {
             "colorbar": {
              "outlinewidth": 0,
              "ticks": ""
             }
            },
            "type": "scattermapbox"
           }
          ],
          "scatterpolar": [
           {
            "marker": {
             "colorbar": {
              "outlinewidth": 0,
              "ticks": ""
             }
            },
            "type": "scatterpolar"
           }
          ],
          "scatterpolargl": [
           {
            "marker": {
             "colorbar": {
              "outlinewidth": 0,
              "ticks": ""
             }
            },
            "type": "scatterpolargl"
           }
          ],
          "scatterternary": [
           {
            "marker": {
             "colorbar": {
              "outlinewidth": 0,
              "ticks": ""
             }
            },
            "type": "scatterternary"
           }
          ],
          "surface": [
           {
            "colorbar": {
             "outlinewidth": 0,
             "ticks": ""
            },
            "colorscale": [
             [
              0,
              "#0d0887"
             ],
             [
              0.1111111111111111,
              "#46039f"
             ],
             [
              0.2222222222222222,
              "#7201a8"
             ],
             [
              0.3333333333333333,
              "#9c179e"
             ],
             [
              0.4444444444444444,
              "#bd3786"
             ],
             [
              0.5555555555555556,
              "#d8576b"
             ],
             [
              0.6666666666666666,
              "#ed7953"
             ],
             [
              0.7777777777777778,
              "#fb9f3a"
             ],
             [
              0.8888888888888888,
              "#fdca26"
             ],
             [
              1,
              "#f0f921"
             ]
            ],
            "type": "surface"
           }
          ],
          "table": [
           {
            "cells": {
             "fill": {
              "color": "#EBF0F8"
             },
             "line": {
              "color": "white"
             }
            },
            "header": {
             "fill": {
              "color": "#C8D4E3"
             },
             "line": {
              "color": "white"
             }
            },
            "type": "table"
           }
          ]
         },
         "layout": {
          "annotationdefaults": {
           "arrowcolor": "#2a3f5f",
           "arrowhead": 0,
           "arrowwidth": 1
          },
          "autotypenumbers": "strict",
          "coloraxis": {
           "colorbar": {
            "outlinewidth": 0,
            "ticks": ""
           }
          },
          "colorscale": {
           "diverging": [
            [
             0,
             "#8e0152"
            ],
            [
             0.1,
             "#c51b7d"
            ],
            [
             0.2,
             "#de77ae"
            ],
            [
             0.3,
             "#f1b6da"
            ],
            [
             0.4,
             "#fde0ef"
            ],
            [
             0.5,
             "#f7f7f7"
            ],
            [
             0.6,
             "#e6f5d0"
            ],
            [
             0.7,
             "#b8e186"
            ],
            [
             0.8,
             "#7fbc41"
            ],
            [
             0.9,
             "#4d9221"
            ],
            [
             1,
             "#276419"
            ]
           ],
           "sequential": [
            [
             0,
             "#0d0887"
            ],
            [
             0.1111111111111111,
             "#46039f"
            ],
            [
             0.2222222222222222,
             "#7201a8"
            ],
            [
             0.3333333333333333,
             "#9c179e"
            ],
            [
             0.4444444444444444,
             "#bd3786"
            ],
            [
             0.5555555555555556,
             "#d8576b"
            ],
            [
             0.6666666666666666,
             "#ed7953"
            ],
            [
             0.7777777777777778,
             "#fb9f3a"
            ],
            [
             0.8888888888888888,
             "#fdca26"
            ],
            [
             1,
             "#f0f921"
            ]
           ],
           "sequentialminus": [
            [
             0,
             "#0d0887"
            ],
            [
             0.1111111111111111,
             "#46039f"
            ],
            [
             0.2222222222222222,
             "#7201a8"
            ],
            [
             0.3333333333333333,
             "#9c179e"
            ],
            [
             0.4444444444444444,
             "#bd3786"
            ],
            [
             0.5555555555555556,
             "#d8576b"
            ],
            [
             0.6666666666666666,
             "#ed7953"
            ],
            [
             0.7777777777777778,
             "#fb9f3a"
            ],
            [
             0.8888888888888888,
             "#fdca26"
            ],
            [
             1,
             "#f0f921"
            ]
           ]
          },
          "colorway": [
           "#636efa",
           "#EF553B",
           "#00cc96",
           "#ab63fa",
           "#FFA15A",
           "#19d3f3",
           "#FF6692",
           "#B6E880",
           "#FF97FF",
           "#FECB52"
          ],
          "font": {
           "color": "#2a3f5f"
          },
          "geo": {
           "bgcolor": "white",
           "lakecolor": "white",
           "landcolor": "#E5ECF6",
           "showlakes": true,
           "showland": true,
           "subunitcolor": "white"
          },
          "hoverlabel": {
           "align": "left"
          },
          "hovermode": "closest",
          "mapbox": {
           "style": "light"
          },
          "paper_bgcolor": "white",
          "plot_bgcolor": "#E5ECF6",
          "polar": {
           "angularaxis": {
            "gridcolor": "white",
            "linecolor": "white",
            "ticks": ""
           },
           "bgcolor": "#E5ECF6",
           "radialaxis": {
            "gridcolor": "white",
            "linecolor": "white",
            "ticks": ""
           }
          },
          "scene": {
           "xaxis": {
            "backgroundcolor": "#E5ECF6",
            "gridcolor": "white",
            "gridwidth": 2,
            "linecolor": "white",
            "showbackground": true,
            "ticks": "",
            "zerolinecolor": "white"
           },
           "yaxis": {
            "backgroundcolor": "#E5ECF6",
            "gridcolor": "white",
            "gridwidth": 2,
            "linecolor": "white",
            "showbackground": true,
            "ticks": "",
            "zerolinecolor": "white"
           },
           "zaxis": {
            "backgroundcolor": "#E5ECF6",
            "gridcolor": "white",
            "gridwidth": 2,
            "linecolor": "white",
            "showbackground": true,
            "ticks": "",
            "zerolinecolor": "white"
           }
          },
          "shapedefaults": {
           "line": {
            "color": "#2a3f5f"
           }
          },
          "ternary": {
           "aaxis": {
            "gridcolor": "white",
            "linecolor": "white",
            "ticks": ""
           },
           "baxis": {
            "gridcolor": "white",
            "linecolor": "white",
            "ticks": ""
           },
           "bgcolor": "#E5ECF6",
           "caxis": {
            "gridcolor": "white",
            "linecolor": "white",
            "ticks": ""
           }
          },
          "title": {
           "x": 0.05
          },
          "xaxis": {
           "automargin": true,
           "gridcolor": "white",
           "linecolor": "white",
           "ticks": "",
           "title": {
            "standoff": 15
           },
           "zerolinecolor": "white",
           "zerolinewidth": 2
          },
          "yaxis": {
           "automargin": true,
           "gridcolor": "white",
           "linecolor": "white",
           "ticks": "",
           "title": {
            "standoff": 15
           },
           "zerolinecolor": "white",
           "zerolinewidth": 2
          }
         }
        },
        "title": {
         "font": {
          "color": "white",
          "size": 20
         },
         "text": "British Grand Prix: Compound and Stops Strategy Analysis",
         "x": 0.5,
         "xanchor": "center"
        }
       }
      }
     },
     "metadata": {},
     "output_type": "display_data"
    }
   ],
   "source": [
    "plot_parallel_coordinates(\"2024: British Grand Prix\")"
   ]
  },
  {
   "cell_type": "markdown",
   "metadata": {},
   "source": [
    "## Dash app\n",
    "It is possible to view all these graphs interactively using the dashboard.py script. Note that this can be slow due to API limitations.\n",
    "After launching the application, the default event selected will be the last one that has already happened in the calendar, as the data is retrieved in real time (but can of course be changed). It is necessary to select the session, which will load the drivers available in the dropdowns below. Finally is possible to select the two drivers that we want to compare to visualise the plots, which can take from a few seconds to a few minutes to be visualised as the data is retrieved."
   ]
  },
  {
   "cell_type": "code",
   "execution_count": null,
   "metadata": {},
   "outputs": [],
   "source": []
  }
 ],
 "metadata": {
  "kernelspec": {
   "display_name": ".venv",
   "language": "python",
   "name": "python3"
  },
  "language_info": {
   "codemirror_mode": {
    "name": "ipython",
    "version": 3
   },
   "file_extension": ".py",
   "mimetype": "text/x-python",
   "name": "python",
   "nbconvert_exporter": "python",
   "pygments_lexer": "ipython3",
   "version": "3.12.2"
  }
 },
 "nbformat": 4,
 "nbformat_minor": 2
}
